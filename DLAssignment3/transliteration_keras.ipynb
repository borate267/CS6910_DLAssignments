{
  "nbformat": 4,
  "nbformat_minor": 0,
  "metadata": {
    "accelerator": "GPU",
    "colab": {
      "name": "transliteration_FINAL_keras.ipynb",
      "provenance": [],
      "collapsed_sections": [],
      "machine_shape": "hm"
    },
    "kernelspec": {
      "display_name": "Python 3",
      "name": "python3"
    },
    "language_info": {
      "name": "python"
    },
    "widgets": {
      "application/vnd.jupyter.widget-state+json": {
        "824470598f4b43b1a770364ebb57bd90": {
          "model_module": "@jupyter-widgets/controls",
          "model_name": "VBoxModel",
          "state": {
            "_view_name": "VBoxView",
            "_dom_classes": [],
            "_model_name": "VBoxModel",
            "_view_module": "@jupyter-widgets/controls",
            "_model_module_version": "1.5.0",
            "_view_count": null,
            "_view_module_version": "1.5.0",
            "box_style": "",
            "layout": "IPY_MODEL_e4b164016e76446788a3a107399673f4",
            "_model_module": "@jupyter-widgets/controls",
            "children": [
              "IPY_MODEL_4ef3004583fd4e1ab6dff5c6b41ec818",
              "IPY_MODEL_869affbb689842388dc6ff4ee6b2ab4f"
            ]
          }
        },
        "e4b164016e76446788a3a107399673f4": {
          "model_module": "@jupyter-widgets/base",
          "model_name": "LayoutModel",
          "state": {
            "_view_name": "LayoutView",
            "grid_template_rows": null,
            "right": null,
            "justify_content": null,
            "_view_module": "@jupyter-widgets/base",
            "overflow": null,
            "_model_module_version": "1.2.0",
            "_view_count": null,
            "flex_flow": null,
            "width": null,
            "min_width": null,
            "border": null,
            "align_items": null,
            "bottom": null,
            "_model_module": "@jupyter-widgets/base",
            "top": null,
            "grid_column": null,
            "overflow_y": null,
            "overflow_x": null,
            "grid_auto_flow": null,
            "grid_area": null,
            "grid_template_columns": null,
            "flex": null,
            "_model_name": "LayoutModel",
            "justify_items": null,
            "grid_row": null,
            "max_height": null,
            "align_content": null,
            "visibility": null,
            "align_self": null,
            "height": null,
            "min_height": null,
            "padding": null,
            "grid_auto_rows": null,
            "grid_gap": null,
            "max_width": null,
            "order": null,
            "_view_module_version": "1.2.0",
            "grid_template_areas": null,
            "object_position": null,
            "object_fit": null,
            "grid_auto_columns": null,
            "margin": null,
            "display": null,
            "left": null
          }
        },
        "4ef3004583fd4e1ab6dff5c6b41ec818": {
          "model_module": "@jupyter-widgets/controls",
          "model_name": "LabelModel",
          "state": {
            "_view_name": "LabelView",
            "style": "IPY_MODEL_d1d46eede7f94472b25b3c7bc81c83e0",
            "_dom_classes": [],
            "description": "",
            "_model_name": "LabelModel",
            "placeholder": "​",
            "_view_module": "@jupyter-widgets/controls",
            "_model_module_version": "1.5.0",
            "value": " 0.11MB of 0.11MB uploaded (0.00MB deduped)\r",
            "_view_count": null,
            "_view_module_version": "1.5.0",
            "description_tooltip": null,
            "_model_module": "@jupyter-widgets/controls",
            "layout": "IPY_MODEL_97f0397bc44548c9a88fd36b95ff6544"
          }
        },
        "869affbb689842388dc6ff4ee6b2ab4f": {
          "model_module": "@jupyter-widgets/controls",
          "model_name": "FloatProgressModel",
          "state": {
            "_view_name": "ProgressView",
            "style": "IPY_MODEL_e5234ce454384faf9b656f0f588fcb52",
            "_dom_classes": [],
            "description": "",
            "_model_name": "FloatProgressModel",
            "bar_style": "",
            "max": 1,
            "_view_module": "@jupyter-widgets/controls",
            "_model_module_version": "1.5.0",
            "value": 1,
            "_view_count": null,
            "_view_module_version": "1.5.0",
            "orientation": "horizontal",
            "min": 0,
            "description_tooltip": null,
            "_model_module": "@jupyter-widgets/controls",
            "layout": "IPY_MODEL_cb6e13fe21204f8680e114d2a2590ce6"
          }
        },
        "d1d46eede7f94472b25b3c7bc81c83e0": {
          "model_module": "@jupyter-widgets/controls",
          "model_name": "DescriptionStyleModel",
          "state": {
            "_view_name": "StyleView",
            "_model_name": "DescriptionStyleModel",
            "description_width": "",
            "_view_module": "@jupyter-widgets/base",
            "_model_module_version": "1.5.0",
            "_view_count": null,
            "_view_module_version": "1.2.0",
            "_model_module": "@jupyter-widgets/controls"
          }
        },
        "97f0397bc44548c9a88fd36b95ff6544": {
          "model_module": "@jupyter-widgets/base",
          "model_name": "LayoutModel",
          "state": {
            "_view_name": "LayoutView",
            "grid_template_rows": null,
            "right": null,
            "justify_content": null,
            "_view_module": "@jupyter-widgets/base",
            "overflow": null,
            "_model_module_version": "1.2.0",
            "_view_count": null,
            "flex_flow": null,
            "width": null,
            "min_width": null,
            "border": null,
            "align_items": null,
            "bottom": null,
            "_model_module": "@jupyter-widgets/base",
            "top": null,
            "grid_column": null,
            "overflow_y": null,
            "overflow_x": null,
            "grid_auto_flow": null,
            "grid_area": null,
            "grid_template_columns": null,
            "flex": null,
            "_model_name": "LayoutModel",
            "justify_items": null,
            "grid_row": null,
            "max_height": null,
            "align_content": null,
            "visibility": null,
            "align_self": null,
            "height": null,
            "min_height": null,
            "padding": null,
            "grid_auto_rows": null,
            "grid_gap": null,
            "max_width": null,
            "order": null,
            "_view_module_version": "1.2.0",
            "grid_template_areas": null,
            "object_position": null,
            "object_fit": null,
            "grid_auto_columns": null,
            "margin": null,
            "display": null,
            "left": null
          }
        },
        "e5234ce454384faf9b656f0f588fcb52": {
          "model_module": "@jupyter-widgets/controls",
          "model_name": "ProgressStyleModel",
          "state": {
            "_view_name": "StyleView",
            "_model_name": "ProgressStyleModel",
            "description_width": "",
            "_view_module": "@jupyter-widgets/base",
            "_model_module_version": "1.5.0",
            "_view_count": null,
            "_view_module_version": "1.2.0",
            "bar_color": null,
            "_model_module": "@jupyter-widgets/controls"
          }
        },
        "cb6e13fe21204f8680e114d2a2590ce6": {
          "model_module": "@jupyter-widgets/base",
          "model_name": "LayoutModel",
          "state": {
            "_view_name": "LayoutView",
            "grid_template_rows": null,
            "right": null,
            "justify_content": null,
            "_view_module": "@jupyter-widgets/base",
            "overflow": null,
            "_model_module_version": "1.2.0",
            "_view_count": null,
            "flex_flow": null,
            "width": null,
            "min_width": null,
            "border": null,
            "align_items": null,
            "bottom": null,
            "_model_module": "@jupyter-widgets/base",
            "top": null,
            "grid_column": null,
            "overflow_y": null,
            "overflow_x": null,
            "grid_auto_flow": null,
            "grid_area": null,
            "grid_template_columns": null,
            "flex": null,
            "_model_name": "LayoutModel",
            "justify_items": null,
            "grid_row": null,
            "max_height": null,
            "align_content": null,
            "visibility": null,
            "align_self": null,
            "height": null,
            "min_height": null,
            "padding": null,
            "grid_auto_rows": null,
            "grid_gap": null,
            "max_width": null,
            "order": null,
            "_view_module_version": "1.2.0",
            "grid_template_areas": null,
            "object_position": null,
            "object_fit": null,
            "grid_auto_columns": null,
            "margin": null,
            "display": null,
            "left": null
          }
        },
        "ccb4ec1bebe24666ac7c0d30836a2ba2": {
          "model_module": "@jupyter-widgets/controls",
          "model_name": "VBoxModel",
          "state": {
            "_view_name": "VBoxView",
            "_dom_classes": [],
            "_model_name": "VBoxModel",
            "_view_module": "@jupyter-widgets/controls",
            "_model_module_version": "1.5.0",
            "_view_count": null,
            "_view_module_version": "1.5.0",
            "box_style": "",
            "layout": "IPY_MODEL_51920f90762d4aa88992d8a5918834ce",
            "_model_module": "@jupyter-widgets/controls",
            "children": [
              "IPY_MODEL_8356551c004340bea8628722e237b0fb",
              "IPY_MODEL_e713bee736af4f68bc40778afcb7d49f"
            ]
          }
        },
        "51920f90762d4aa88992d8a5918834ce": {
          "model_module": "@jupyter-widgets/base",
          "model_name": "LayoutModel",
          "state": {
            "_view_name": "LayoutView",
            "grid_template_rows": null,
            "right": null,
            "justify_content": null,
            "_view_module": "@jupyter-widgets/base",
            "overflow": null,
            "_model_module_version": "1.2.0",
            "_view_count": null,
            "flex_flow": null,
            "width": null,
            "min_width": null,
            "border": null,
            "align_items": null,
            "bottom": null,
            "_model_module": "@jupyter-widgets/base",
            "top": null,
            "grid_column": null,
            "overflow_y": null,
            "overflow_x": null,
            "grid_auto_flow": null,
            "grid_area": null,
            "grid_template_columns": null,
            "flex": null,
            "_model_name": "LayoutModel",
            "justify_items": null,
            "grid_row": null,
            "max_height": null,
            "align_content": null,
            "visibility": null,
            "align_self": null,
            "height": null,
            "min_height": null,
            "padding": null,
            "grid_auto_rows": null,
            "grid_gap": null,
            "max_width": null,
            "order": null,
            "_view_module_version": "1.2.0",
            "grid_template_areas": null,
            "object_position": null,
            "object_fit": null,
            "grid_auto_columns": null,
            "margin": null,
            "display": null,
            "left": null
          }
        },
        "8356551c004340bea8628722e237b0fb": {
          "model_module": "@jupyter-widgets/controls",
          "model_name": "LabelModel",
          "state": {
            "_view_name": "LabelView",
            "style": "IPY_MODEL_c9b242acb7c7404784d228862e99a0b3",
            "_dom_classes": [],
            "description": "",
            "_model_name": "LabelModel",
            "placeholder": "​",
            "_view_module": "@jupyter-widgets/controls",
            "_model_module_version": "1.5.0",
            "value": " 0.13MB of 0.13MB uploaded (0.00MB deduped)\r",
            "_view_count": null,
            "_view_module_version": "1.5.0",
            "description_tooltip": null,
            "_model_module": "@jupyter-widgets/controls",
            "layout": "IPY_MODEL_d6aa798bfe974889a46a9ceeefcfb147"
          }
        },
        "e713bee736af4f68bc40778afcb7d49f": {
          "model_module": "@jupyter-widgets/controls",
          "model_name": "FloatProgressModel",
          "state": {
            "_view_name": "ProgressView",
            "style": "IPY_MODEL_adb6b523a59e4faaadf8474e07263ac0",
            "_dom_classes": [],
            "description": "",
            "_model_name": "FloatProgressModel",
            "bar_style": "",
            "max": 1,
            "_view_module": "@jupyter-widgets/controls",
            "_model_module_version": "1.5.0",
            "value": 1,
            "_view_count": null,
            "_view_module_version": "1.5.0",
            "orientation": "horizontal",
            "min": 0,
            "description_tooltip": null,
            "_model_module": "@jupyter-widgets/controls",
            "layout": "IPY_MODEL_4e49604f63494e6baa0688743fdc9f32"
          }
        },
        "c9b242acb7c7404784d228862e99a0b3": {
          "model_module": "@jupyter-widgets/controls",
          "model_name": "DescriptionStyleModel",
          "state": {
            "_view_name": "StyleView",
            "_model_name": "DescriptionStyleModel",
            "description_width": "",
            "_view_module": "@jupyter-widgets/base",
            "_model_module_version": "1.5.0",
            "_view_count": null,
            "_view_module_version": "1.2.0",
            "_model_module": "@jupyter-widgets/controls"
          }
        },
        "d6aa798bfe974889a46a9ceeefcfb147": {
          "model_module": "@jupyter-widgets/base",
          "model_name": "LayoutModel",
          "state": {
            "_view_name": "LayoutView",
            "grid_template_rows": null,
            "right": null,
            "justify_content": null,
            "_view_module": "@jupyter-widgets/base",
            "overflow": null,
            "_model_module_version": "1.2.0",
            "_view_count": null,
            "flex_flow": null,
            "width": null,
            "min_width": null,
            "border": null,
            "align_items": null,
            "bottom": null,
            "_model_module": "@jupyter-widgets/base",
            "top": null,
            "grid_column": null,
            "overflow_y": null,
            "overflow_x": null,
            "grid_auto_flow": null,
            "grid_area": null,
            "grid_template_columns": null,
            "flex": null,
            "_model_name": "LayoutModel",
            "justify_items": null,
            "grid_row": null,
            "max_height": null,
            "align_content": null,
            "visibility": null,
            "align_self": null,
            "height": null,
            "min_height": null,
            "padding": null,
            "grid_auto_rows": null,
            "grid_gap": null,
            "max_width": null,
            "order": null,
            "_view_module_version": "1.2.0",
            "grid_template_areas": null,
            "object_position": null,
            "object_fit": null,
            "grid_auto_columns": null,
            "margin": null,
            "display": null,
            "left": null
          }
        },
        "adb6b523a59e4faaadf8474e07263ac0": {
          "model_module": "@jupyter-widgets/controls",
          "model_name": "ProgressStyleModel",
          "state": {
            "_view_name": "StyleView",
            "_model_name": "ProgressStyleModel",
            "description_width": "",
            "_view_module": "@jupyter-widgets/base",
            "_model_module_version": "1.5.0",
            "_view_count": null,
            "_view_module_version": "1.2.0",
            "bar_color": null,
            "_model_module": "@jupyter-widgets/controls"
          }
        },
        "4e49604f63494e6baa0688743fdc9f32": {
          "model_module": "@jupyter-widgets/base",
          "model_name": "LayoutModel",
          "state": {
            "_view_name": "LayoutView",
            "grid_template_rows": null,
            "right": null,
            "justify_content": null,
            "_view_module": "@jupyter-widgets/base",
            "overflow": null,
            "_model_module_version": "1.2.0",
            "_view_count": null,
            "flex_flow": null,
            "width": null,
            "min_width": null,
            "border": null,
            "align_items": null,
            "bottom": null,
            "_model_module": "@jupyter-widgets/base",
            "top": null,
            "grid_column": null,
            "overflow_y": null,
            "overflow_x": null,
            "grid_auto_flow": null,
            "grid_area": null,
            "grid_template_columns": null,
            "flex": null,
            "_model_name": "LayoutModel",
            "justify_items": null,
            "grid_row": null,
            "max_height": null,
            "align_content": null,
            "visibility": null,
            "align_self": null,
            "height": null,
            "min_height": null,
            "padding": null,
            "grid_auto_rows": null,
            "grid_gap": null,
            "max_width": null,
            "order": null,
            "_view_module_version": "1.2.0",
            "grid_template_areas": null,
            "object_position": null,
            "object_fit": null,
            "grid_auto_columns": null,
            "margin": null,
            "display": null,
            "left": null
          }
        },
        "73852ba02ce148e9b263a6d211ea2331": {
          "model_module": "@jupyter-widgets/controls",
          "model_name": "VBoxModel",
          "state": {
            "_view_name": "VBoxView",
            "_dom_classes": [],
            "_model_name": "VBoxModel",
            "_view_module": "@jupyter-widgets/controls",
            "_model_module_version": "1.5.0",
            "_view_count": null,
            "_view_module_version": "1.5.0",
            "box_style": "",
            "layout": "IPY_MODEL_4d3b3035fbca4e7fbfb6af553baf7b30",
            "_model_module": "@jupyter-widgets/controls",
            "children": [
              "IPY_MODEL_6b336789469f4fc7b1065f6639b610d6",
              "IPY_MODEL_23064ede5b774d6996f5b8f7e5df69ec"
            ]
          }
        },
        "4d3b3035fbca4e7fbfb6af553baf7b30": {
          "model_module": "@jupyter-widgets/base",
          "model_name": "LayoutModel",
          "state": {
            "_view_name": "LayoutView",
            "grid_template_rows": null,
            "right": null,
            "justify_content": null,
            "_view_module": "@jupyter-widgets/base",
            "overflow": null,
            "_model_module_version": "1.2.0",
            "_view_count": null,
            "flex_flow": null,
            "width": null,
            "min_width": null,
            "border": null,
            "align_items": null,
            "bottom": null,
            "_model_module": "@jupyter-widgets/base",
            "top": null,
            "grid_column": null,
            "overflow_y": null,
            "overflow_x": null,
            "grid_auto_flow": null,
            "grid_area": null,
            "grid_template_columns": null,
            "flex": null,
            "_model_name": "LayoutModel",
            "justify_items": null,
            "grid_row": null,
            "max_height": null,
            "align_content": null,
            "visibility": null,
            "align_self": null,
            "height": null,
            "min_height": null,
            "padding": null,
            "grid_auto_rows": null,
            "grid_gap": null,
            "max_width": null,
            "order": null,
            "_view_module_version": "1.2.0",
            "grid_template_areas": null,
            "object_position": null,
            "object_fit": null,
            "grid_auto_columns": null,
            "margin": null,
            "display": null,
            "left": null
          }
        },
        "6b336789469f4fc7b1065f6639b610d6": {
          "model_module": "@jupyter-widgets/controls",
          "model_name": "LabelModel",
          "state": {
            "_view_name": "LabelView",
            "style": "IPY_MODEL_37865438e33f41b7895a8d194c2b07c8",
            "_dom_classes": [],
            "description": "",
            "_model_name": "LabelModel",
            "placeholder": "​",
            "_view_module": "@jupyter-widgets/controls",
            "_model_module_version": "1.5.0",
            "value": " 0.15MB of 0.15MB uploaded (0.00MB deduped)\r",
            "_view_count": null,
            "_view_module_version": "1.5.0",
            "description_tooltip": null,
            "_model_module": "@jupyter-widgets/controls",
            "layout": "IPY_MODEL_f9e4576261d3410eb335c3b254a65039"
          }
        },
        "23064ede5b774d6996f5b8f7e5df69ec": {
          "model_module": "@jupyter-widgets/controls",
          "model_name": "FloatProgressModel",
          "state": {
            "_view_name": "ProgressView",
            "style": "IPY_MODEL_beb26b15fbd1438497c3d8bbdeb0aee9",
            "_dom_classes": [],
            "description": "",
            "_model_name": "FloatProgressModel",
            "bar_style": "",
            "max": 1,
            "_view_module": "@jupyter-widgets/controls",
            "_model_module_version": "1.5.0",
            "value": 1,
            "_view_count": null,
            "_view_module_version": "1.5.0",
            "orientation": "horizontal",
            "min": 0,
            "description_tooltip": null,
            "_model_module": "@jupyter-widgets/controls",
            "layout": "IPY_MODEL_b3b124e1be0946e89addef00ee8f55be"
          }
        },
        "37865438e33f41b7895a8d194c2b07c8": {
          "model_module": "@jupyter-widgets/controls",
          "model_name": "DescriptionStyleModel",
          "state": {
            "_view_name": "StyleView",
            "_model_name": "DescriptionStyleModel",
            "description_width": "",
            "_view_module": "@jupyter-widgets/base",
            "_model_module_version": "1.5.0",
            "_view_count": null,
            "_view_module_version": "1.2.0",
            "_model_module": "@jupyter-widgets/controls"
          }
        },
        "f9e4576261d3410eb335c3b254a65039": {
          "model_module": "@jupyter-widgets/base",
          "model_name": "LayoutModel",
          "state": {
            "_view_name": "LayoutView",
            "grid_template_rows": null,
            "right": null,
            "justify_content": null,
            "_view_module": "@jupyter-widgets/base",
            "overflow": null,
            "_model_module_version": "1.2.0",
            "_view_count": null,
            "flex_flow": null,
            "width": null,
            "min_width": null,
            "border": null,
            "align_items": null,
            "bottom": null,
            "_model_module": "@jupyter-widgets/base",
            "top": null,
            "grid_column": null,
            "overflow_y": null,
            "overflow_x": null,
            "grid_auto_flow": null,
            "grid_area": null,
            "grid_template_columns": null,
            "flex": null,
            "_model_name": "LayoutModel",
            "justify_items": null,
            "grid_row": null,
            "max_height": null,
            "align_content": null,
            "visibility": null,
            "align_self": null,
            "height": null,
            "min_height": null,
            "padding": null,
            "grid_auto_rows": null,
            "grid_gap": null,
            "max_width": null,
            "order": null,
            "_view_module_version": "1.2.0",
            "grid_template_areas": null,
            "object_position": null,
            "object_fit": null,
            "grid_auto_columns": null,
            "margin": null,
            "display": null,
            "left": null
          }
        },
        "beb26b15fbd1438497c3d8bbdeb0aee9": {
          "model_module": "@jupyter-widgets/controls",
          "model_name": "ProgressStyleModel",
          "state": {
            "_view_name": "StyleView",
            "_model_name": "ProgressStyleModel",
            "description_width": "",
            "_view_module": "@jupyter-widgets/base",
            "_model_module_version": "1.5.0",
            "_view_count": null,
            "_view_module_version": "1.2.0",
            "bar_color": null,
            "_model_module": "@jupyter-widgets/controls"
          }
        },
        "b3b124e1be0946e89addef00ee8f55be": {
          "model_module": "@jupyter-widgets/base",
          "model_name": "LayoutModel",
          "state": {
            "_view_name": "LayoutView",
            "grid_template_rows": null,
            "right": null,
            "justify_content": null,
            "_view_module": "@jupyter-widgets/base",
            "overflow": null,
            "_model_module_version": "1.2.0",
            "_view_count": null,
            "flex_flow": null,
            "width": null,
            "min_width": null,
            "border": null,
            "align_items": null,
            "bottom": null,
            "_model_module": "@jupyter-widgets/base",
            "top": null,
            "grid_column": null,
            "overflow_y": null,
            "overflow_x": null,
            "grid_auto_flow": null,
            "grid_area": null,
            "grid_template_columns": null,
            "flex": null,
            "_model_name": "LayoutModel",
            "justify_items": null,
            "grid_row": null,
            "max_height": null,
            "align_content": null,
            "visibility": null,
            "align_self": null,
            "height": null,
            "min_height": null,
            "padding": null,
            "grid_auto_rows": null,
            "grid_gap": null,
            "max_width": null,
            "order": null,
            "_view_module_version": "1.2.0",
            "grid_template_areas": null,
            "object_position": null,
            "object_fit": null,
            "grid_auto_columns": null,
            "margin": null,
            "display": null,
            "left": null
          }
        },
        "c4ed9f5eddc241928627413e9a1331da": {
          "model_module": "@jupyter-widgets/controls",
          "model_name": "VBoxModel",
          "state": {
            "_view_name": "VBoxView",
            "_dom_classes": [],
            "_model_name": "VBoxModel",
            "_view_module": "@jupyter-widgets/controls",
            "_model_module_version": "1.5.0",
            "_view_count": null,
            "_view_module_version": "1.5.0",
            "box_style": "",
            "layout": "IPY_MODEL_4fec1be4b4844151898b61e82235792c",
            "_model_module": "@jupyter-widgets/controls",
            "children": [
              "IPY_MODEL_62cf16fd372c48bfa05d20232ba4455b",
              "IPY_MODEL_e2303a6861f7424e9f56e01a0d34f851"
            ]
          }
        },
        "4fec1be4b4844151898b61e82235792c": {
          "model_module": "@jupyter-widgets/base",
          "model_name": "LayoutModel",
          "state": {
            "_view_name": "LayoutView",
            "grid_template_rows": null,
            "right": null,
            "justify_content": null,
            "_view_module": "@jupyter-widgets/base",
            "overflow": null,
            "_model_module_version": "1.2.0",
            "_view_count": null,
            "flex_flow": null,
            "width": null,
            "min_width": null,
            "border": null,
            "align_items": null,
            "bottom": null,
            "_model_module": "@jupyter-widgets/base",
            "top": null,
            "grid_column": null,
            "overflow_y": null,
            "overflow_x": null,
            "grid_auto_flow": null,
            "grid_area": null,
            "grid_template_columns": null,
            "flex": null,
            "_model_name": "LayoutModel",
            "justify_items": null,
            "grid_row": null,
            "max_height": null,
            "align_content": null,
            "visibility": null,
            "align_self": null,
            "height": null,
            "min_height": null,
            "padding": null,
            "grid_auto_rows": null,
            "grid_gap": null,
            "max_width": null,
            "order": null,
            "_view_module_version": "1.2.0",
            "grid_template_areas": null,
            "object_position": null,
            "object_fit": null,
            "grid_auto_columns": null,
            "margin": null,
            "display": null,
            "left": null
          }
        },
        "62cf16fd372c48bfa05d20232ba4455b": {
          "model_module": "@jupyter-widgets/controls",
          "model_name": "LabelModel",
          "state": {
            "_view_name": "LabelView",
            "style": "IPY_MODEL_985135f5541c4a32be55e9c8df798c66",
            "_dom_classes": [],
            "description": "",
            "_model_name": "LabelModel",
            "placeholder": "​",
            "_view_module": "@jupyter-widgets/controls",
            "_model_module_version": "1.5.0",
            "value": " 0.16MB of 0.16MB uploaded (0.00MB deduped)\r",
            "_view_count": null,
            "_view_module_version": "1.5.0",
            "description_tooltip": null,
            "_model_module": "@jupyter-widgets/controls",
            "layout": "IPY_MODEL_bb9789c26ba84ab381c39bb1ddbab356"
          }
        },
        "e2303a6861f7424e9f56e01a0d34f851": {
          "model_module": "@jupyter-widgets/controls",
          "model_name": "FloatProgressModel",
          "state": {
            "_view_name": "ProgressView",
            "style": "IPY_MODEL_c5e762d185854f37aa1ba6371bc0d258",
            "_dom_classes": [],
            "description": "",
            "_model_name": "FloatProgressModel",
            "bar_style": "",
            "max": 1,
            "_view_module": "@jupyter-widgets/controls",
            "_model_module_version": "1.5.0",
            "value": 1,
            "_view_count": null,
            "_view_module_version": "1.5.0",
            "orientation": "horizontal",
            "min": 0,
            "description_tooltip": null,
            "_model_module": "@jupyter-widgets/controls",
            "layout": "IPY_MODEL_6aa179717209441783029b4ee01f6ca5"
          }
        },
        "985135f5541c4a32be55e9c8df798c66": {
          "model_module": "@jupyter-widgets/controls",
          "model_name": "DescriptionStyleModel",
          "state": {
            "_view_name": "StyleView",
            "_model_name": "DescriptionStyleModel",
            "description_width": "",
            "_view_module": "@jupyter-widgets/base",
            "_model_module_version": "1.5.0",
            "_view_count": null,
            "_view_module_version": "1.2.0",
            "_model_module": "@jupyter-widgets/controls"
          }
        },
        "bb9789c26ba84ab381c39bb1ddbab356": {
          "model_module": "@jupyter-widgets/base",
          "model_name": "LayoutModel",
          "state": {
            "_view_name": "LayoutView",
            "grid_template_rows": null,
            "right": null,
            "justify_content": null,
            "_view_module": "@jupyter-widgets/base",
            "overflow": null,
            "_model_module_version": "1.2.0",
            "_view_count": null,
            "flex_flow": null,
            "width": null,
            "min_width": null,
            "border": null,
            "align_items": null,
            "bottom": null,
            "_model_module": "@jupyter-widgets/base",
            "top": null,
            "grid_column": null,
            "overflow_y": null,
            "overflow_x": null,
            "grid_auto_flow": null,
            "grid_area": null,
            "grid_template_columns": null,
            "flex": null,
            "_model_name": "LayoutModel",
            "justify_items": null,
            "grid_row": null,
            "max_height": null,
            "align_content": null,
            "visibility": null,
            "align_self": null,
            "height": null,
            "min_height": null,
            "padding": null,
            "grid_auto_rows": null,
            "grid_gap": null,
            "max_width": null,
            "order": null,
            "_view_module_version": "1.2.0",
            "grid_template_areas": null,
            "object_position": null,
            "object_fit": null,
            "grid_auto_columns": null,
            "margin": null,
            "display": null,
            "left": null
          }
        },
        "c5e762d185854f37aa1ba6371bc0d258": {
          "model_module": "@jupyter-widgets/controls",
          "model_name": "ProgressStyleModel",
          "state": {
            "_view_name": "StyleView",
            "_model_name": "ProgressStyleModel",
            "description_width": "",
            "_view_module": "@jupyter-widgets/base",
            "_model_module_version": "1.5.0",
            "_view_count": null,
            "_view_module_version": "1.2.0",
            "bar_color": null,
            "_model_module": "@jupyter-widgets/controls"
          }
        },
        "6aa179717209441783029b4ee01f6ca5": {
          "model_module": "@jupyter-widgets/base",
          "model_name": "LayoutModel",
          "state": {
            "_view_name": "LayoutView",
            "grid_template_rows": null,
            "right": null,
            "justify_content": null,
            "_view_module": "@jupyter-widgets/base",
            "overflow": null,
            "_model_module_version": "1.2.0",
            "_view_count": null,
            "flex_flow": null,
            "width": null,
            "min_width": null,
            "border": null,
            "align_items": null,
            "bottom": null,
            "_model_module": "@jupyter-widgets/base",
            "top": null,
            "grid_column": null,
            "overflow_y": null,
            "overflow_x": null,
            "grid_auto_flow": null,
            "grid_area": null,
            "grid_template_columns": null,
            "flex": null,
            "_model_name": "LayoutModel",
            "justify_items": null,
            "grid_row": null,
            "max_height": null,
            "align_content": null,
            "visibility": null,
            "align_self": null,
            "height": null,
            "min_height": null,
            "padding": null,
            "grid_auto_rows": null,
            "grid_gap": null,
            "max_width": null,
            "order": null,
            "_view_module_version": "1.2.0",
            "grid_template_areas": null,
            "object_position": null,
            "object_fit": null,
            "grid_auto_columns": null,
            "margin": null,
            "display": null,
            "left": null
          }
        },
        "ffa197d01cd14ff5bc6bd7f3fc9fb3b8": {
          "model_module": "@jupyter-widgets/controls",
          "model_name": "VBoxModel",
          "state": {
            "_view_name": "VBoxView",
            "_dom_classes": [],
            "_model_name": "VBoxModel",
            "_view_module": "@jupyter-widgets/controls",
            "_model_module_version": "1.5.0",
            "_view_count": null,
            "_view_module_version": "1.5.0",
            "box_style": "",
            "layout": "IPY_MODEL_0d874eda63444d45ae2b2ec8b82ec9c8",
            "_model_module": "@jupyter-widgets/controls",
            "children": [
              "IPY_MODEL_3e8f44bb5efa42f487599b2eac42be9c",
              "IPY_MODEL_a4ece0c19ee74d7a975f6048afb556b3"
            ]
          }
        },
        "0d874eda63444d45ae2b2ec8b82ec9c8": {
          "model_module": "@jupyter-widgets/base",
          "model_name": "LayoutModel",
          "state": {
            "_view_name": "LayoutView",
            "grid_template_rows": null,
            "right": null,
            "justify_content": null,
            "_view_module": "@jupyter-widgets/base",
            "overflow": null,
            "_model_module_version": "1.2.0",
            "_view_count": null,
            "flex_flow": null,
            "width": null,
            "min_width": null,
            "border": null,
            "align_items": null,
            "bottom": null,
            "_model_module": "@jupyter-widgets/base",
            "top": null,
            "grid_column": null,
            "overflow_y": null,
            "overflow_x": null,
            "grid_auto_flow": null,
            "grid_area": null,
            "grid_template_columns": null,
            "flex": null,
            "_model_name": "LayoutModel",
            "justify_items": null,
            "grid_row": null,
            "max_height": null,
            "align_content": null,
            "visibility": null,
            "align_self": null,
            "height": null,
            "min_height": null,
            "padding": null,
            "grid_auto_rows": null,
            "grid_gap": null,
            "max_width": null,
            "order": null,
            "_view_module_version": "1.2.0",
            "grid_template_areas": null,
            "object_position": null,
            "object_fit": null,
            "grid_auto_columns": null,
            "margin": null,
            "display": null,
            "left": null
          }
        },
        "3e8f44bb5efa42f487599b2eac42be9c": {
          "model_module": "@jupyter-widgets/controls",
          "model_name": "LabelModel",
          "state": {
            "_view_name": "LabelView",
            "style": "IPY_MODEL_4bb0c5e9d3784800afd09c47bc16d35b",
            "_dom_classes": [],
            "description": "",
            "_model_name": "LabelModel",
            "placeholder": "​",
            "_view_module": "@jupyter-widgets/controls",
            "_model_module_version": "1.5.0",
            "value": " 0.18MB of 0.18MB uploaded (0.00MB deduped)\r",
            "_view_count": null,
            "_view_module_version": "1.5.0",
            "description_tooltip": null,
            "_model_module": "@jupyter-widgets/controls",
            "layout": "IPY_MODEL_f8d15bed2aa841628cd11cfc3ffbb530"
          }
        },
        "a4ece0c19ee74d7a975f6048afb556b3": {
          "model_module": "@jupyter-widgets/controls",
          "model_name": "FloatProgressModel",
          "state": {
            "_view_name": "ProgressView",
            "style": "IPY_MODEL_66bd1c74fe0b492e92664e98e8167f0b",
            "_dom_classes": [],
            "description": "",
            "_model_name": "FloatProgressModel",
            "bar_style": "",
            "max": 1,
            "_view_module": "@jupyter-widgets/controls",
            "_model_module_version": "1.5.0",
            "value": 1,
            "_view_count": null,
            "_view_module_version": "1.5.0",
            "orientation": "horizontal",
            "min": 0,
            "description_tooltip": null,
            "_model_module": "@jupyter-widgets/controls",
            "layout": "IPY_MODEL_2c6ace39417949aeaf7864ce2161d36c"
          }
        },
        "4bb0c5e9d3784800afd09c47bc16d35b": {
          "model_module": "@jupyter-widgets/controls",
          "model_name": "DescriptionStyleModel",
          "state": {
            "_view_name": "StyleView",
            "_model_name": "DescriptionStyleModel",
            "description_width": "",
            "_view_module": "@jupyter-widgets/base",
            "_model_module_version": "1.5.0",
            "_view_count": null,
            "_view_module_version": "1.2.0",
            "_model_module": "@jupyter-widgets/controls"
          }
        },
        "f8d15bed2aa841628cd11cfc3ffbb530": {
          "model_module": "@jupyter-widgets/base",
          "model_name": "LayoutModel",
          "state": {
            "_view_name": "LayoutView",
            "grid_template_rows": null,
            "right": null,
            "justify_content": null,
            "_view_module": "@jupyter-widgets/base",
            "overflow": null,
            "_model_module_version": "1.2.0",
            "_view_count": null,
            "flex_flow": null,
            "width": null,
            "min_width": null,
            "border": null,
            "align_items": null,
            "bottom": null,
            "_model_module": "@jupyter-widgets/base",
            "top": null,
            "grid_column": null,
            "overflow_y": null,
            "overflow_x": null,
            "grid_auto_flow": null,
            "grid_area": null,
            "grid_template_columns": null,
            "flex": null,
            "_model_name": "LayoutModel",
            "justify_items": null,
            "grid_row": null,
            "max_height": null,
            "align_content": null,
            "visibility": null,
            "align_self": null,
            "height": null,
            "min_height": null,
            "padding": null,
            "grid_auto_rows": null,
            "grid_gap": null,
            "max_width": null,
            "order": null,
            "_view_module_version": "1.2.0",
            "grid_template_areas": null,
            "object_position": null,
            "object_fit": null,
            "grid_auto_columns": null,
            "margin": null,
            "display": null,
            "left": null
          }
        },
        "66bd1c74fe0b492e92664e98e8167f0b": {
          "model_module": "@jupyter-widgets/controls",
          "model_name": "ProgressStyleModel",
          "state": {
            "_view_name": "StyleView",
            "_model_name": "ProgressStyleModel",
            "description_width": "",
            "_view_module": "@jupyter-widgets/base",
            "_model_module_version": "1.5.0",
            "_view_count": null,
            "_view_module_version": "1.2.0",
            "bar_color": null,
            "_model_module": "@jupyter-widgets/controls"
          }
        },
        "2c6ace39417949aeaf7864ce2161d36c": {
          "model_module": "@jupyter-widgets/base",
          "model_name": "LayoutModel",
          "state": {
            "_view_name": "LayoutView",
            "grid_template_rows": null,
            "right": null,
            "justify_content": null,
            "_view_module": "@jupyter-widgets/base",
            "overflow": null,
            "_model_module_version": "1.2.0",
            "_view_count": null,
            "flex_flow": null,
            "width": null,
            "min_width": null,
            "border": null,
            "align_items": null,
            "bottom": null,
            "_model_module": "@jupyter-widgets/base",
            "top": null,
            "grid_column": null,
            "overflow_y": null,
            "overflow_x": null,
            "grid_auto_flow": null,
            "grid_area": null,
            "grid_template_columns": null,
            "flex": null,
            "_model_name": "LayoutModel",
            "justify_items": null,
            "grid_row": null,
            "max_height": null,
            "align_content": null,
            "visibility": null,
            "align_self": null,
            "height": null,
            "min_height": null,
            "padding": null,
            "grid_auto_rows": null,
            "grid_gap": null,
            "max_width": null,
            "order": null,
            "_view_module_version": "1.2.0",
            "grid_template_areas": null,
            "object_position": null,
            "object_fit": null,
            "grid_auto_columns": null,
            "margin": null,
            "display": null,
            "left": null
          }
        },
        "e23fc9c8b5a444bf99ae3f6d1fda9698": {
          "model_module": "@jupyter-widgets/controls",
          "model_name": "VBoxModel",
          "state": {
            "_view_name": "VBoxView",
            "_dom_classes": [],
            "_model_name": "VBoxModel",
            "_view_module": "@jupyter-widgets/controls",
            "_model_module_version": "1.5.0",
            "_view_count": null,
            "_view_module_version": "1.5.0",
            "box_style": "",
            "layout": "IPY_MODEL_8bb1c0dfbae24cc08d1b24ecd26d9192",
            "_model_module": "@jupyter-widgets/controls",
            "children": [
              "IPY_MODEL_b4f01a1ab6954c268820308105ce1ef3",
              "IPY_MODEL_5d857eaf4c2446a6a492dc721a6b790d"
            ]
          }
        },
        "8bb1c0dfbae24cc08d1b24ecd26d9192": {
          "model_module": "@jupyter-widgets/base",
          "model_name": "LayoutModel",
          "state": {
            "_view_name": "LayoutView",
            "grid_template_rows": null,
            "right": null,
            "justify_content": null,
            "_view_module": "@jupyter-widgets/base",
            "overflow": null,
            "_model_module_version": "1.2.0",
            "_view_count": null,
            "flex_flow": null,
            "width": null,
            "min_width": null,
            "border": null,
            "align_items": null,
            "bottom": null,
            "_model_module": "@jupyter-widgets/base",
            "top": null,
            "grid_column": null,
            "overflow_y": null,
            "overflow_x": null,
            "grid_auto_flow": null,
            "grid_area": null,
            "grid_template_columns": null,
            "flex": null,
            "_model_name": "LayoutModel",
            "justify_items": null,
            "grid_row": null,
            "max_height": null,
            "align_content": null,
            "visibility": null,
            "align_self": null,
            "height": null,
            "min_height": null,
            "padding": null,
            "grid_auto_rows": null,
            "grid_gap": null,
            "max_width": null,
            "order": null,
            "_view_module_version": "1.2.0",
            "grid_template_areas": null,
            "object_position": null,
            "object_fit": null,
            "grid_auto_columns": null,
            "margin": null,
            "display": null,
            "left": null
          }
        },
        "b4f01a1ab6954c268820308105ce1ef3": {
          "model_module": "@jupyter-widgets/controls",
          "model_name": "LabelModel",
          "state": {
            "_view_name": "LabelView",
            "style": "IPY_MODEL_d14495674e6c45fd9b182f51f2f35257",
            "_dom_classes": [],
            "description": "",
            "_model_name": "LabelModel",
            "placeholder": "​",
            "_view_module": "@jupyter-widgets/controls",
            "_model_module_version": "1.5.0",
            "value": " 0.20MB of 0.20MB uploaded (0.00MB deduped)\r",
            "_view_count": null,
            "_view_module_version": "1.5.0",
            "description_tooltip": null,
            "_model_module": "@jupyter-widgets/controls",
            "layout": "IPY_MODEL_7500d9f5ee4544c49b6b8701f5ae5909"
          }
        },
        "5d857eaf4c2446a6a492dc721a6b790d": {
          "model_module": "@jupyter-widgets/controls",
          "model_name": "FloatProgressModel",
          "state": {
            "_view_name": "ProgressView",
            "style": "IPY_MODEL_10832577bf1b420b9714b6a9b94fd5a2",
            "_dom_classes": [],
            "description": "",
            "_model_name": "FloatProgressModel",
            "bar_style": "",
            "max": 1,
            "_view_module": "@jupyter-widgets/controls",
            "_model_module_version": "1.5.0",
            "value": 1,
            "_view_count": null,
            "_view_module_version": "1.5.0",
            "orientation": "horizontal",
            "min": 0,
            "description_tooltip": null,
            "_model_module": "@jupyter-widgets/controls",
            "layout": "IPY_MODEL_cd4e126231d84bcb91b6b8fd3451ba70"
          }
        },
        "d14495674e6c45fd9b182f51f2f35257": {
          "model_module": "@jupyter-widgets/controls",
          "model_name": "DescriptionStyleModel",
          "state": {
            "_view_name": "StyleView",
            "_model_name": "DescriptionStyleModel",
            "description_width": "",
            "_view_module": "@jupyter-widgets/base",
            "_model_module_version": "1.5.0",
            "_view_count": null,
            "_view_module_version": "1.2.0",
            "_model_module": "@jupyter-widgets/controls"
          }
        },
        "7500d9f5ee4544c49b6b8701f5ae5909": {
          "model_module": "@jupyter-widgets/base",
          "model_name": "LayoutModel",
          "state": {
            "_view_name": "LayoutView",
            "grid_template_rows": null,
            "right": null,
            "justify_content": null,
            "_view_module": "@jupyter-widgets/base",
            "overflow": null,
            "_model_module_version": "1.2.0",
            "_view_count": null,
            "flex_flow": null,
            "width": null,
            "min_width": null,
            "border": null,
            "align_items": null,
            "bottom": null,
            "_model_module": "@jupyter-widgets/base",
            "top": null,
            "grid_column": null,
            "overflow_y": null,
            "overflow_x": null,
            "grid_auto_flow": null,
            "grid_area": null,
            "grid_template_columns": null,
            "flex": null,
            "_model_name": "LayoutModel",
            "justify_items": null,
            "grid_row": null,
            "max_height": null,
            "align_content": null,
            "visibility": null,
            "align_self": null,
            "height": null,
            "min_height": null,
            "padding": null,
            "grid_auto_rows": null,
            "grid_gap": null,
            "max_width": null,
            "order": null,
            "_view_module_version": "1.2.0",
            "grid_template_areas": null,
            "object_position": null,
            "object_fit": null,
            "grid_auto_columns": null,
            "margin": null,
            "display": null,
            "left": null
          }
        },
        "10832577bf1b420b9714b6a9b94fd5a2": {
          "model_module": "@jupyter-widgets/controls",
          "model_name": "ProgressStyleModel",
          "state": {
            "_view_name": "StyleView",
            "_model_name": "ProgressStyleModel",
            "description_width": "",
            "_view_module": "@jupyter-widgets/base",
            "_model_module_version": "1.5.0",
            "_view_count": null,
            "_view_module_version": "1.2.0",
            "bar_color": null,
            "_model_module": "@jupyter-widgets/controls"
          }
        },
        "cd4e126231d84bcb91b6b8fd3451ba70": {
          "model_module": "@jupyter-widgets/base",
          "model_name": "LayoutModel",
          "state": {
            "_view_name": "LayoutView",
            "grid_template_rows": null,
            "right": null,
            "justify_content": null,
            "_view_module": "@jupyter-widgets/base",
            "overflow": null,
            "_model_module_version": "1.2.0",
            "_view_count": null,
            "flex_flow": null,
            "width": null,
            "min_width": null,
            "border": null,
            "align_items": null,
            "bottom": null,
            "_model_module": "@jupyter-widgets/base",
            "top": null,
            "grid_column": null,
            "overflow_y": null,
            "overflow_x": null,
            "grid_auto_flow": null,
            "grid_area": null,
            "grid_template_columns": null,
            "flex": null,
            "_model_name": "LayoutModel",
            "justify_items": null,
            "grid_row": null,
            "max_height": null,
            "align_content": null,
            "visibility": null,
            "align_self": null,
            "height": null,
            "min_height": null,
            "padding": null,
            "grid_auto_rows": null,
            "grid_gap": null,
            "max_width": null,
            "order": null,
            "_view_module_version": "1.2.0",
            "grid_template_areas": null,
            "object_position": null,
            "object_fit": null,
            "grid_auto_columns": null,
            "margin": null,
            "display": null,
            "left": null
          }
        },
        "363cc287dfce4add8650ed98a5a7e39c": {
          "model_module": "@jupyter-widgets/controls",
          "model_name": "VBoxModel",
          "state": {
            "_view_name": "VBoxView",
            "_dom_classes": [],
            "_model_name": "VBoxModel",
            "_view_module": "@jupyter-widgets/controls",
            "_model_module_version": "1.5.0",
            "_view_count": null,
            "_view_module_version": "1.5.0",
            "box_style": "",
            "layout": "IPY_MODEL_8048f67203ad4dec98065468ad610ae5",
            "_model_module": "@jupyter-widgets/controls",
            "children": [
              "IPY_MODEL_ab227055aac64036993d43335fbb49e0",
              "IPY_MODEL_844048999db047119a13ec7a82359bdd"
            ]
          }
        },
        "8048f67203ad4dec98065468ad610ae5": {
          "model_module": "@jupyter-widgets/base",
          "model_name": "LayoutModel",
          "state": {
            "_view_name": "LayoutView",
            "grid_template_rows": null,
            "right": null,
            "justify_content": null,
            "_view_module": "@jupyter-widgets/base",
            "overflow": null,
            "_model_module_version": "1.2.0",
            "_view_count": null,
            "flex_flow": null,
            "width": null,
            "min_width": null,
            "border": null,
            "align_items": null,
            "bottom": null,
            "_model_module": "@jupyter-widgets/base",
            "top": null,
            "grid_column": null,
            "overflow_y": null,
            "overflow_x": null,
            "grid_auto_flow": null,
            "grid_area": null,
            "grid_template_columns": null,
            "flex": null,
            "_model_name": "LayoutModel",
            "justify_items": null,
            "grid_row": null,
            "max_height": null,
            "align_content": null,
            "visibility": null,
            "align_self": null,
            "height": null,
            "min_height": null,
            "padding": null,
            "grid_auto_rows": null,
            "grid_gap": null,
            "max_width": null,
            "order": null,
            "_view_module_version": "1.2.0",
            "grid_template_areas": null,
            "object_position": null,
            "object_fit": null,
            "grid_auto_columns": null,
            "margin": null,
            "display": null,
            "left": null
          }
        },
        "ab227055aac64036993d43335fbb49e0": {
          "model_module": "@jupyter-widgets/controls",
          "model_name": "LabelModel",
          "state": {
            "_view_name": "LabelView",
            "style": "IPY_MODEL_65f7157b401f489da551c6b924c2206b",
            "_dom_classes": [],
            "description": "",
            "_model_name": "LabelModel",
            "placeholder": "​",
            "_view_module": "@jupyter-widgets/controls",
            "_model_module_version": "1.5.0",
            "value": " 0.21MB of 0.21MB uploaded (0.00MB deduped)\r",
            "_view_count": null,
            "_view_module_version": "1.5.0",
            "description_tooltip": null,
            "_model_module": "@jupyter-widgets/controls",
            "layout": "IPY_MODEL_b3feddfdcf9c400492a3c9b2cfc80450"
          }
        },
        "844048999db047119a13ec7a82359bdd": {
          "model_module": "@jupyter-widgets/controls",
          "model_name": "FloatProgressModel",
          "state": {
            "_view_name": "ProgressView",
            "style": "IPY_MODEL_f4521b90e08e44a38b6ac0d3ac4f8c9a",
            "_dom_classes": [],
            "description": "",
            "_model_name": "FloatProgressModel",
            "bar_style": "",
            "max": 1,
            "_view_module": "@jupyter-widgets/controls",
            "_model_module_version": "1.5.0",
            "value": 1,
            "_view_count": null,
            "_view_module_version": "1.5.0",
            "orientation": "horizontal",
            "min": 0,
            "description_tooltip": null,
            "_model_module": "@jupyter-widgets/controls",
            "layout": "IPY_MODEL_273d5c74f6e74ac2b53a222f3a0c90ac"
          }
        },
        "65f7157b401f489da551c6b924c2206b": {
          "model_module": "@jupyter-widgets/controls",
          "model_name": "DescriptionStyleModel",
          "state": {
            "_view_name": "StyleView",
            "_model_name": "DescriptionStyleModel",
            "description_width": "",
            "_view_module": "@jupyter-widgets/base",
            "_model_module_version": "1.5.0",
            "_view_count": null,
            "_view_module_version": "1.2.0",
            "_model_module": "@jupyter-widgets/controls"
          }
        },
        "b3feddfdcf9c400492a3c9b2cfc80450": {
          "model_module": "@jupyter-widgets/base",
          "model_name": "LayoutModel",
          "state": {
            "_view_name": "LayoutView",
            "grid_template_rows": null,
            "right": null,
            "justify_content": null,
            "_view_module": "@jupyter-widgets/base",
            "overflow": null,
            "_model_module_version": "1.2.0",
            "_view_count": null,
            "flex_flow": null,
            "width": null,
            "min_width": null,
            "border": null,
            "align_items": null,
            "bottom": null,
            "_model_module": "@jupyter-widgets/base",
            "top": null,
            "grid_column": null,
            "overflow_y": null,
            "overflow_x": null,
            "grid_auto_flow": null,
            "grid_area": null,
            "grid_template_columns": null,
            "flex": null,
            "_model_name": "LayoutModel",
            "justify_items": null,
            "grid_row": null,
            "max_height": null,
            "align_content": null,
            "visibility": null,
            "align_self": null,
            "height": null,
            "min_height": null,
            "padding": null,
            "grid_auto_rows": null,
            "grid_gap": null,
            "max_width": null,
            "order": null,
            "_view_module_version": "1.2.0",
            "grid_template_areas": null,
            "object_position": null,
            "object_fit": null,
            "grid_auto_columns": null,
            "margin": null,
            "display": null,
            "left": null
          }
        },
        "f4521b90e08e44a38b6ac0d3ac4f8c9a": {
          "model_module": "@jupyter-widgets/controls",
          "model_name": "ProgressStyleModel",
          "state": {
            "_view_name": "StyleView",
            "_model_name": "ProgressStyleModel",
            "description_width": "",
            "_view_module": "@jupyter-widgets/base",
            "_model_module_version": "1.5.0",
            "_view_count": null,
            "_view_module_version": "1.2.0",
            "bar_color": null,
            "_model_module": "@jupyter-widgets/controls"
          }
        },
        "273d5c74f6e74ac2b53a222f3a0c90ac": {
          "model_module": "@jupyter-widgets/base",
          "model_name": "LayoutModel",
          "state": {
            "_view_name": "LayoutView",
            "grid_template_rows": null,
            "right": null,
            "justify_content": null,
            "_view_module": "@jupyter-widgets/base",
            "overflow": null,
            "_model_module_version": "1.2.0",
            "_view_count": null,
            "flex_flow": null,
            "width": null,
            "min_width": null,
            "border": null,
            "align_items": null,
            "bottom": null,
            "_model_module": "@jupyter-widgets/base",
            "top": null,
            "grid_column": null,
            "overflow_y": null,
            "overflow_x": null,
            "grid_auto_flow": null,
            "grid_area": null,
            "grid_template_columns": null,
            "flex": null,
            "_model_name": "LayoutModel",
            "justify_items": null,
            "grid_row": null,
            "max_height": null,
            "align_content": null,
            "visibility": null,
            "align_self": null,
            "height": null,
            "min_height": null,
            "padding": null,
            "grid_auto_rows": null,
            "grid_gap": null,
            "max_width": null,
            "order": null,
            "_view_module_version": "1.2.0",
            "grid_template_areas": null,
            "object_position": null,
            "object_fit": null,
            "grid_auto_columns": null,
            "margin": null,
            "display": null,
            "left": null
          }
        },
        "363468060a3c4c669799960f7cf3d8eb": {
          "model_module": "@jupyter-widgets/controls",
          "model_name": "VBoxModel",
          "state": {
            "_view_name": "VBoxView",
            "_dom_classes": [],
            "_model_name": "VBoxModel",
            "_view_module": "@jupyter-widgets/controls",
            "_model_module_version": "1.5.0",
            "_view_count": null,
            "_view_module_version": "1.5.0",
            "box_style": "",
            "layout": "IPY_MODEL_3dd02592c4b6417e9164e0a3ed369ed3",
            "_model_module": "@jupyter-widgets/controls",
            "children": [
              "IPY_MODEL_262e2625d085478d9b9058037d634218",
              "IPY_MODEL_f8924faf6e894209bb17f179924ba32c"
            ]
          }
        },
        "3dd02592c4b6417e9164e0a3ed369ed3": {
          "model_module": "@jupyter-widgets/base",
          "model_name": "LayoutModel",
          "state": {
            "_view_name": "LayoutView",
            "grid_template_rows": null,
            "right": null,
            "justify_content": null,
            "_view_module": "@jupyter-widgets/base",
            "overflow": null,
            "_model_module_version": "1.2.0",
            "_view_count": null,
            "flex_flow": null,
            "width": null,
            "min_width": null,
            "border": null,
            "align_items": null,
            "bottom": null,
            "_model_module": "@jupyter-widgets/base",
            "top": null,
            "grid_column": null,
            "overflow_y": null,
            "overflow_x": null,
            "grid_auto_flow": null,
            "grid_area": null,
            "grid_template_columns": null,
            "flex": null,
            "_model_name": "LayoutModel",
            "justify_items": null,
            "grid_row": null,
            "max_height": null,
            "align_content": null,
            "visibility": null,
            "align_self": null,
            "height": null,
            "min_height": null,
            "padding": null,
            "grid_auto_rows": null,
            "grid_gap": null,
            "max_width": null,
            "order": null,
            "_view_module_version": "1.2.0",
            "grid_template_areas": null,
            "object_position": null,
            "object_fit": null,
            "grid_auto_columns": null,
            "margin": null,
            "display": null,
            "left": null
          }
        },
        "262e2625d085478d9b9058037d634218": {
          "model_module": "@jupyter-widgets/controls",
          "model_name": "LabelModel",
          "state": {
            "_view_name": "LabelView",
            "style": "IPY_MODEL_13b1c9452c704b2d95631364ba5f907f",
            "_dom_classes": [],
            "description": "",
            "_model_name": "LabelModel",
            "placeholder": "​",
            "_view_module": "@jupyter-widgets/controls",
            "_model_module_version": "1.5.0",
            "value": " 0.23MB of 0.23MB uploaded (0.00MB deduped)\r",
            "_view_count": null,
            "_view_module_version": "1.5.0",
            "description_tooltip": null,
            "_model_module": "@jupyter-widgets/controls",
            "layout": "IPY_MODEL_df2c27a55a02402781e2ea90a77abc32"
          }
        },
        "f8924faf6e894209bb17f179924ba32c": {
          "model_module": "@jupyter-widgets/controls",
          "model_name": "FloatProgressModel",
          "state": {
            "_view_name": "ProgressView",
            "style": "IPY_MODEL_b41e1f91c77b4cd886d8775a5d2397fe",
            "_dom_classes": [],
            "description": "",
            "_model_name": "FloatProgressModel",
            "bar_style": "",
            "max": 1,
            "_view_module": "@jupyter-widgets/controls",
            "_model_module_version": "1.5.0",
            "value": 1,
            "_view_count": null,
            "_view_module_version": "1.5.0",
            "orientation": "horizontal",
            "min": 0,
            "description_tooltip": null,
            "_model_module": "@jupyter-widgets/controls",
            "layout": "IPY_MODEL_2041cf43ab9f412d929ea604b475a4a4"
          }
        },
        "13b1c9452c704b2d95631364ba5f907f": {
          "model_module": "@jupyter-widgets/controls",
          "model_name": "DescriptionStyleModel",
          "state": {
            "_view_name": "StyleView",
            "_model_name": "DescriptionStyleModel",
            "description_width": "",
            "_view_module": "@jupyter-widgets/base",
            "_model_module_version": "1.5.0",
            "_view_count": null,
            "_view_module_version": "1.2.0",
            "_model_module": "@jupyter-widgets/controls"
          }
        },
        "df2c27a55a02402781e2ea90a77abc32": {
          "model_module": "@jupyter-widgets/base",
          "model_name": "LayoutModel",
          "state": {
            "_view_name": "LayoutView",
            "grid_template_rows": null,
            "right": null,
            "justify_content": null,
            "_view_module": "@jupyter-widgets/base",
            "overflow": null,
            "_model_module_version": "1.2.0",
            "_view_count": null,
            "flex_flow": null,
            "width": null,
            "min_width": null,
            "border": null,
            "align_items": null,
            "bottom": null,
            "_model_module": "@jupyter-widgets/base",
            "top": null,
            "grid_column": null,
            "overflow_y": null,
            "overflow_x": null,
            "grid_auto_flow": null,
            "grid_area": null,
            "grid_template_columns": null,
            "flex": null,
            "_model_name": "LayoutModel",
            "justify_items": null,
            "grid_row": null,
            "max_height": null,
            "align_content": null,
            "visibility": null,
            "align_self": null,
            "height": null,
            "min_height": null,
            "padding": null,
            "grid_auto_rows": null,
            "grid_gap": null,
            "max_width": null,
            "order": null,
            "_view_module_version": "1.2.0",
            "grid_template_areas": null,
            "object_position": null,
            "object_fit": null,
            "grid_auto_columns": null,
            "margin": null,
            "display": null,
            "left": null
          }
        },
        "b41e1f91c77b4cd886d8775a5d2397fe": {
          "model_module": "@jupyter-widgets/controls",
          "model_name": "ProgressStyleModel",
          "state": {
            "_view_name": "StyleView",
            "_model_name": "ProgressStyleModel",
            "description_width": "",
            "_view_module": "@jupyter-widgets/base",
            "_model_module_version": "1.5.0",
            "_view_count": null,
            "_view_module_version": "1.2.0",
            "bar_color": null,
            "_model_module": "@jupyter-widgets/controls"
          }
        },
        "2041cf43ab9f412d929ea604b475a4a4": {
          "model_module": "@jupyter-widgets/base",
          "model_name": "LayoutModel",
          "state": {
            "_view_name": "LayoutView",
            "grid_template_rows": null,
            "right": null,
            "justify_content": null,
            "_view_module": "@jupyter-widgets/base",
            "overflow": null,
            "_model_module_version": "1.2.0",
            "_view_count": null,
            "flex_flow": null,
            "width": null,
            "min_width": null,
            "border": null,
            "align_items": null,
            "bottom": null,
            "_model_module": "@jupyter-widgets/base",
            "top": null,
            "grid_column": null,
            "overflow_y": null,
            "overflow_x": null,
            "grid_auto_flow": null,
            "grid_area": null,
            "grid_template_columns": null,
            "flex": null,
            "_model_name": "LayoutModel",
            "justify_items": null,
            "grid_row": null,
            "max_height": null,
            "align_content": null,
            "visibility": null,
            "align_self": null,
            "height": null,
            "min_height": null,
            "padding": null,
            "grid_auto_rows": null,
            "grid_gap": null,
            "max_width": null,
            "order": null,
            "_view_module_version": "1.2.0",
            "grid_template_areas": null,
            "object_position": null,
            "object_fit": null,
            "grid_auto_columns": null,
            "margin": null,
            "display": null,
            "left": null
          }
        },
        "d7ceace38b0e4d2e844a3bc8a5892dd3": {
          "model_module": "@jupyter-widgets/controls",
          "model_name": "VBoxModel",
          "state": {
            "_view_name": "VBoxView",
            "_dom_classes": [],
            "_model_name": "VBoxModel",
            "_view_module": "@jupyter-widgets/controls",
            "_model_module_version": "1.5.0",
            "_view_count": null,
            "_view_module_version": "1.5.0",
            "box_style": "",
            "layout": "IPY_MODEL_998908faf42443ae977f9ddb4b49d95a",
            "_model_module": "@jupyter-widgets/controls",
            "children": [
              "IPY_MODEL_a4efd6e729ba4a6d91eb3cc412866d3f",
              "IPY_MODEL_bb4e087e1c2c4859b238e876fec51890"
            ]
          }
        },
        "998908faf42443ae977f9ddb4b49d95a": {
          "model_module": "@jupyter-widgets/base",
          "model_name": "LayoutModel",
          "state": {
            "_view_name": "LayoutView",
            "grid_template_rows": null,
            "right": null,
            "justify_content": null,
            "_view_module": "@jupyter-widgets/base",
            "overflow": null,
            "_model_module_version": "1.2.0",
            "_view_count": null,
            "flex_flow": null,
            "width": null,
            "min_width": null,
            "border": null,
            "align_items": null,
            "bottom": null,
            "_model_module": "@jupyter-widgets/base",
            "top": null,
            "grid_column": null,
            "overflow_y": null,
            "overflow_x": null,
            "grid_auto_flow": null,
            "grid_area": null,
            "grid_template_columns": null,
            "flex": null,
            "_model_name": "LayoutModel",
            "justify_items": null,
            "grid_row": null,
            "max_height": null,
            "align_content": null,
            "visibility": null,
            "align_self": null,
            "height": null,
            "min_height": null,
            "padding": null,
            "grid_auto_rows": null,
            "grid_gap": null,
            "max_width": null,
            "order": null,
            "_view_module_version": "1.2.0",
            "grid_template_areas": null,
            "object_position": null,
            "object_fit": null,
            "grid_auto_columns": null,
            "margin": null,
            "display": null,
            "left": null
          }
        },
        "a4efd6e729ba4a6d91eb3cc412866d3f": {
          "model_module": "@jupyter-widgets/controls",
          "model_name": "LabelModel",
          "state": {
            "_view_name": "LabelView",
            "style": "IPY_MODEL_7882c56454a246c69be204db25bf030b",
            "_dom_classes": [],
            "description": "",
            "_model_name": "LabelModel",
            "placeholder": "​",
            "_view_module": "@jupyter-widgets/controls",
            "_model_module_version": "1.5.0",
            "value": " 0.24MB of 0.24MB uploaded (0.00MB deduped)\r",
            "_view_count": null,
            "_view_module_version": "1.5.0",
            "description_tooltip": null,
            "_model_module": "@jupyter-widgets/controls",
            "layout": "IPY_MODEL_4b2579d7a3b14ac0a310cd790ad5fd7f"
          }
        },
        "bb4e087e1c2c4859b238e876fec51890": {
          "model_module": "@jupyter-widgets/controls",
          "model_name": "FloatProgressModel",
          "state": {
            "_view_name": "ProgressView",
            "style": "IPY_MODEL_2284b5492e8d4b9bad05d1d515a211e3",
            "_dom_classes": [],
            "description": "",
            "_model_name": "FloatProgressModel",
            "bar_style": "",
            "max": 1,
            "_view_module": "@jupyter-widgets/controls",
            "_model_module_version": "1.5.0",
            "value": 1,
            "_view_count": null,
            "_view_module_version": "1.5.0",
            "orientation": "horizontal",
            "min": 0,
            "description_tooltip": null,
            "_model_module": "@jupyter-widgets/controls",
            "layout": "IPY_MODEL_11adbb2ac6744f549eeb4abdac19dd99"
          }
        },
        "7882c56454a246c69be204db25bf030b": {
          "model_module": "@jupyter-widgets/controls",
          "model_name": "DescriptionStyleModel",
          "state": {
            "_view_name": "StyleView",
            "_model_name": "DescriptionStyleModel",
            "description_width": "",
            "_view_module": "@jupyter-widgets/base",
            "_model_module_version": "1.5.0",
            "_view_count": null,
            "_view_module_version": "1.2.0",
            "_model_module": "@jupyter-widgets/controls"
          }
        },
        "4b2579d7a3b14ac0a310cd790ad5fd7f": {
          "model_module": "@jupyter-widgets/base",
          "model_name": "LayoutModel",
          "state": {
            "_view_name": "LayoutView",
            "grid_template_rows": null,
            "right": null,
            "justify_content": null,
            "_view_module": "@jupyter-widgets/base",
            "overflow": null,
            "_model_module_version": "1.2.0",
            "_view_count": null,
            "flex_flow": null,
            "width": null,
            "min_width": null,
            "border": null,
            "align_items": null,
            "bottom": null,
            "_model_module": "@jupyter-widgets/base",
            "top": null,
            "grid_column": null,
            "overflow_y": null,
            "overflow_x": null,
            "grid_auto_flow": null,
            "grid_area": null,
            "grid_template_columns": null,
            "flex": null,
            "_model_name": "LayoutModel",
            "justify_items": null,
            "grid_row": null,
            "max_height": null,
            "align_content": null,
            "visibility": null,
            "align_self": null,
            "height": null,
            "min_height": null,
            "padding": null,
            "grid_auto_rows": null,
            "grid_gap": null,
            "max_width": null,
            "order": null,
            "_view_module_version": "1.2.0",
            "grid_template_areas": null,
            "object_position": null,
            "object_fit": null,
            "grid_auto_columns": null,
            "margin": null,
            "display": null,
            "left": null
          }
        },
        "2284b5492e8d4b9bad05d1d515a211e3": {
          "model_module": "@jupyter-widgets/controls",
          "model_name": "ProgressStyleModel",
          "state": {
            "_view_name": "StyleView",
            "_model_name": "ProgressStyleModel",
            "description_width": "",
            "_view_module": "@jupyter-widgets/base",
            "_model_module_version": "1.5.0",
            "_view_count": null,
            "_view_module_version": "1.2.0",
            "bar_color": null,
            "_model_module": "@jupyter-widgets/controls"
          }
        },
        "11adbb2ac6744f549eeb4abdac19dd99": {
          "model_module": "@jupyter-widgets/base",
          "model_name": "LayoutModel",
          "state": {
            "_view_name": "LayoutView",
            "grid_template_rows": null,
            "right": null,
            "justify_content": null,
            "_view_module": "@jupyter-widgets/base",
            "overflow": null,
            "_model_module_version": "1.2.0",
            "_view_count": null,
            "flex_flow": null,
            "width": null,
            "min_width": null,
            "border": null,
            "align_items": null,
            "bottom": null,
            "_model_module": "@jupyter-widgets/base",
            "top": null,
            "grid_column": null,
            "overflow_y": null,
            "overflow_x": null,
            "grid_auto_flow": null,
            "grid_area": null,
            "grid_template_columns": null,
            "flex": null,
            "_model_name": "LayoutModel",
            "justify_items": null,
            "grid_row": null,
            "max_height": null,
            "align_content": null,
            "visibility": null,
            "align_self": null,
            "height": null,
            "min_height": null,
            "padding": null,
            "grid_auto_rows": null,
            "grid_gap": null,
            "max_width": null,
            "order": null,
            "_view_module_version": "1.2.0",
            "grid_template_areas": null,
            "object_position": null,
            "object_fit": null,
            "grid_auto_columns": null,
            "margin": null,
            "display": null,
            "left": null
          }
        },
        "7fe30f2d0c7b463792fcf04c7b073371": {
          "model_module": "@jupyter-widgets/controls",
          "model_name": "VBoxModel",
          "state": {
            "_view_name": "VBoxView",
            "_dom_classes": [],
            "_model_name": "VBoxModel",
            "_view_module": "@jupyter-widgets/controls",
            "_model_module_version": "1.5.0",
            "_view_count": null,
            "_view_module_version": "1.5.0",
            "box_style": "",
            "layout": "IPY_MODEL_3443abd952e143fa82772b37d0627c5e",
            "_model_module": "@jupyter-widgets/controls",
            "children": [
              "IPY_MODEL_d9507cf6580e4a7eb4385e361ea39607",
              "IPY_MODEL_aa51288c896443d7a166ff09ea05ebd5"
            ]
          }
        },
        "3443abd952e143fa82772b37d0627c5e": {
          "model_module": "@jupyter-widgets/base",
          "model_name": "LayoutModel",
          "state": {
            "_view_name": "LayoutView",
            "grid_template_rows": null,
            "right": null,
            "justify_content": null,
            "_view_module": "@jupyter-widgets/base",
            "overflow": null,
            "_model_module_version": "1.2.0",
            "_view_count": null,
            "flex_flow": null,
            "width": null,
            "min_width": null,
            "border": null,
            "align_items": null,
            "bottom": null,
            "_model_module": "@jupyter-widgets/base",
            "top": null,
            "grid_column": null,
            "overflow_y": null,
            "overflow_x": null,
            "grid_auto_flow": null,
            "grid_area": null,
            "grid_template_columns": null,
            "flex": null,
            "_model_name": "LayoutModel",
            "justify_items": null,
            "grid_row": null,
            "max_height": null,
            "align_content": null,
            "visibility": null,
            "align_self": null,
            "height": null,
            "min_height": null,
            "padding": null,
            "grid_auto_rows": null,
            "grid_gap": null,
            "max_width": null,
            "order": null,
            "_view_module_version": "1.2.0",
            "grid_template_areas": null,
            "object_position": null,
            "object_fit": null,
            "grid_auto_columns": null,
            "margin": null,
            "display": null,
            "left": null
          }
        },
        "d9507cf6580e4a7eb4385e361ea39607": {
          "model_module": "@jupyter-widgets/controls",
          "model_name": "LabelModel",
          "state": {
            "_view_name": "LabelView",
            "style": "IPY_MODEL_d97d6f4c29c449108c3a3a149b0ee835",
            "_dom_classes": [],
            "description": "",
            "_model_name": "LabelModel",
            "placeholder": "​",
            "_view_module": "@jupyter-widgets/controls",
            "_model_module_version": "1.5.0",
            "value": " 0.26MB of 0.26MB uploaded (0.00MB deduped)\r",
            "_view_count": null,
            "_view_module_version": "1.5.0",
            "description_tooltip": null,
            "_model_module": "@jupyter-widgets/controls",
            "layout": "IPY_MODEL_3751364af36f4de0a93531d87b259490"
          }
        },
        "aa51288c896443d7a166ff09ea05ebd5": {
          "model_module": "@jupyter-widgets/controls",
          "model_name": "FloatProgressModel",
          "state": {
            "_view_name": "ProgressView",
            "style": "IPY_MODEL_b96e5d4c23fb4b03900531fea3cfce60",
            "_dom_classes": [],
            "description": "",
            "_model_name": "FloatProgressModel",
            "bar_style": "",
            "max": 1,
            "_view_module": "@jupyter-widgets/controls",
            "_model_module_version": "1.5.0",
            "value": 1,
            "_view_count": null,
            "_view_module_version": "1.5.0",
            "orientation": "horizontal",
            "min": 0,
            "description_tooltip": null,
            "_model_module": "@jupyter-widgets/controls",
            "layout": "IPY_MODEL_5c582efcc6b04bf98871e41ae49d9629"
          }
        },
        "d97d6f4c29c449108c3a3a149b0ee835": {
          "model_module": "@jupyter-widgets/controls",
          "model_name": "DescriptionStyleModel",
          "state": {
            "_view_name": "StyleView",
            "_model_name": "DescriptionStyleModel",
            "description_width": "",
            "_view_module": "@jupyter-widgets/base",
            "_model_module_version": "1.5.0",
            "_view_count": null,
            "_view_module_version": "1.2.0",
            "_model_module": "@jupyter-widgets/controls"
          }
        },
        "3751364af36f4de0a93531d87b259490": {
          "model_module": "@jupyter-widgets/base",
          "model_name": "LayoutModel",
          "state": {
            "_view_name": "LayoutView",
            "grid_template_rows": null,
            "right": null,
            "justify_content": null,
            "_view_module": "@jupyter-widgets/base",
            "overflow": null,
            "_model_module_version": "1.2.0",
            "_view_count": null,
            "flex_flow": null,
            "width": null,
            "min_width": null,
            "border": null,
            "align_items": null,
            "bottom": null,
            "_model_module": "@jupyter-widgets/base",
            "top": null,
            "grid_column": null,
            "overflow_y": null,
            "overflow_x": null,
            "grid_auto_flow": null,
            "grid_area": null,
            "grid_template_columns": null,
            "flex": null,
            "_model_name": "LayoutModel",
            "justify_items": null,
            "grid_row": null,
            "max_height": null,
            "align_content": null,
            "visibility": null,
            "align_self": null,
            "height": null,
            "min_height": null,
            "padding": null,
            "grid_auto_rows": null,
            "grid_gap": null,
            "max_width": null,
            "order": null,
            "_view_module_version": "1.2.0",
            "grid_template_areas": null,
            "object_position": null,
            "object_fit": null,
            "grid_auto_columns": null,
            "margin": null,
            "display": null,
            "left": null
          }
        },
        "b96e5d4c23fb4b03900531fea3cfce60": {
          "model_module": "@jupyter-widgets/controls",
          "model_name": "ProgressStyleModel",
          "state": {
            "_view_name": "StyleView",
            "_model_name": "ProgressStyleModel",
            "description_width": "",
            "_view_module": "@jupyter-widgets/base",
            "_model_module_version": "1.5.0",
            "_view_count": null,
            "_view_module_version": "1.2.0",
            "bar_color": null,
            "_model_module": "@jupyter-widgets/controls"
          }
        },
        "5c582efcc6b04bf98871e41ae49d9629": {
          "model_module": "@jupyter-widgets/base",
          "model_name": "LayoutModel",
          "state": {
            "_view_name": "LayoutView",
            "grid_template_rows": null,
            "right": null,
            "justify_content": null,
            "_view_module": "@jupyter-widgets/base",
            "overflow": null,
            "_model_module_version": "1.2.0",
            "_view_count": null,
            "flex_flow": null,
            "width": null,
            "min_width": null,
            "border": null,
            "align_items": null,
            "bottom": null,
            "_model_module": "@jupyter-widgets/base",
            "top": null,
            "grid_column": null,
            "overflow_y": null,
            "overflow_x": null,
            "grid_auto_flow": null,
            "grid_area": null,
            "grid_template_columns": null,
            "flex": null,
            "_model_name": "LayoutModel",
            "justify_items": null,
            "grid_row": null,
            "max_height": null,
            "align_content": null,
            "visibility": null,
            "align_self": null,
            "height": null,
            "min_height": null,
            "padding": null,
            "grid_auto_rows": null,
            "grid_gap": null,
            "max_width": null,
            "order": null,
            "_view_module_version": "1.2.0",
            "grid_template_areas": null,
            "object_position": null,
            "object_fit": null,
            "grid_auto_columns": null,
            "margin": null,
            "display": null,
            "left": null
          }
        },
        "553d0146e10c46218cde12c68dda26d2": {
          "model_module": "@jupyter-widgets/controls",
          "model_name": "VBoxModel",
          "state": {
            "_view_name": "VBoxView",
            "_dom_classes": [],
            "_model_name": "VBoxModel",
            "_view_module": "@jupyter-widgets/controls",
            "_model_module_version": "1.5.0",
            "_view_count": null,
            "_view_module_version": "1.5.0",
            "box_style": "",
            "layout": "IPY_MODEL_b0bc5e9804b34d97a5110caa49faf94b",
            "_model_module": "@jupyter-widgets/controls",
            "children": [
              "IPY_MODEL_45de4e5f0634437f8d888e9a2e6093ef",
              "IPY_MODEL_06d12a2f2c744ba887f17b144e88e824"
            ]
          }
        },
        "b0bc5e9804b34d97a5110caa49faf94b": {
          "model_module": "@jupyter-widgets/base",
          "model_name": "LayoutModel",
          "state": {
            "_view_name": "LayoutView",
            "grid_template_rows": null,
            "right": null,
            "justify_content": null,
            "_view_module": "@jupyter-widgets/base",
            "overflow": null,
            "_model_module_version": "1.2.0",
            "_view_count": null,
            "flex_flow": null,
            "width": null,
            "min_width": null,
            "border": null,
            "align_items": null,
            "bottom": null,
            "_model_module": "@jupyter-widgets/base",
            "top": null,
            "grid_column": null,
            "overflow_y": null,
            "overflow_x": null,
            "grid_auto_flow": null,
            "grid_area": null,
            "grid_template_columns": null,
            "flex": null,
            "_model_name": "LayoutModel",
            "justify_items": null,
            "grid_row": null,
            "max_height": null,
            "align_content": null,
            "visibility": null,
            "align_self": null,
            "height": null,
            "min_height": null,
            "padding": null,
            "grid_auto_rows": null,
            "grid_gap": null,
            "max_width": null,
            "order": null,
            "_view_module_version": "1.2.0",
            "grid_template_areas": null,
            "object_position": null,
            "object_fit": null,
            "grid_auto_columns": null,
            "margin": null,
            "display": null,
            "left": null
          }
        },
        "45de4e5f0634437f8d888e9a2e6093ef": {
          "model_module": "@jupyter-widgets/controls",
          "model_name": "LabelModel",
          "state": {
            "_view_name": "LabelView",
            "style": "IPY_MODEL_4750caa0f7fb4459b4dce9abae00f1e1",
            "_dom_classes": [],
            "description": "",
            "_model_name": "LabelModel",
            "placeholder": "​",
            "_view_module": "@jupyter-widgets/controls",
            "_model_module_version": "1.5.0",
            "value": " 0.28MB of 0.28MB uploaded (0.00MB deduped)\r",
            "_view_count": null,
            "_view_module_version": "1.5.0",
            "description_tooltip": null,
            "_model_module": "@jupyter-widgets/controls",
            "layout": "IPY_MODEL_6e532fd4d39f4eaca853d0ca297a2d54"
          }
        },
        "06d12a2f2c744ba887f17b144e88e824": {
          "model_module": "@jupyter-widgets/controls",
          "model_name": "FloatProgressModel",
          "state": {
            "_view_name": "ProgressView",
            "style": "IPY_MODEL_924f579e4ca34ee1ae8145670f5b8eb5",
            "_dom_classes": [],
            "description": "",
            "_model_name": "FloatProgressModel",
            "bar_style": "",
            "max": 1,
            "_view_module": "@jupyter-widgets/controls",
            "_model_module_version": "1.5.0",
            "value": 1,
            "_view_count": null,
            "_view_module_version": "1.5.0",
            "orientation": "horizontal",
            "min": 0,
            "description_tooltip": null,
            "_model_module": "@jupyter-widgets/controls",
            "layout": "IPY_MODEL_c826c464700843a59ebf81ce9e8e31ba"
          }
        },
        "4750caa0f7fb4459b4dce9abae00f1e1": {
          "model_module": "@jupyter-widgets/controls",
          "model_name": "DescriptionStyleModel",
          "state": {
            "_view_name": "StyleView",
            "_model_name": "DescriptionStyleModel",
            "description_width": "",
            "_view_module": "@jupyter-widgets/base",
            "_model_module_version": "1.5.0",
            "_view_count": null,
            "_view_module_version": "1.2.0",
            "_model_module": "@jupyter-widgets/controls"
          }
        },
        "6e532fd4d39f4eaca853d0ca297a2d54": {
          "model_module": "@jupyter-widgets/base",
          "model_name": "LayoutModel",
          "state": {
            "_view_name": "LayoutView",
            "grid_template_rows": null,
            "right": null,
            "justify_content": null,
            "_view_module": "@jupyter-widgets/base",
            "overflow": null,
            "_model_module_version": "1.2.0",
            "_view_count": null,
            "flex_flow": null,
            "width": null,
            "min_width": null,
            "border": null,
            "align_items": null,
            "bottom": null,
            "_model_module": "@jupyter-widgets/base",
            "top": null,
            "grid_column": null,
            "overflow_y": null,
            "overflow_x": null,
            "grid_auto_flow": null,
            "grid_area": null,
            "grid_template_columns": null,
            "flex": null,
            "_model_name": "LayoutModel",
            "justify_items": null,
            "grid_row": null,
            "max_height": null,
            "align_content": null,
            "visibility": null,
            "align_self": null,
            "height": null,
            "min_height": null,
            "padding": null,
            "grid_auto_rows": null,
            "grid_gap": null,
            "max_width": null,
            "order": null,
            "_view_module_version": "1.2.0",
            "grid_template_areas": null,
            "object_position": null,
            "object_fit": null,
            "grid_auto_columns": null,
            "margin": null,
            "display": null,
            "left": null
          }
        },
        "924f579e4ca34ee1ae8145670f5b8eb5": {
          "model_module": "@jupyter-widgets/controls",
          "model_name": "ProgressStyleModel",
          "state": {
            "_view_name": "StyleView",
            "_model_name": "ProgressStyleModel",
            "description_width": "",
            "_view_module": "@jupyter-widgets/base",
            "_model_module_version": "1.5.0",
            "_view_count": null,
            "_view_module_version": "1.2.0",
            "bar_color": null,
            "_model_module": "@jupyter-widgets/controls"
          }
        },
        "c826c464700843a59ebf81ce9e8e31ba": {
          "model_module": "@jupyter-widgets/base",
          "model_name": "LayoutModel",
          "state": {
            "_view_name": "LayoutView",
            "grid_template_rows": null,
            "right": null,
            "justify_content": null,
            "_view_module": "@jupyter-widgets/base",
            "overflow": null,
            "_model_module_version": "1.2.0",
            "_view_count": null,
            "flex_flow": null,
            "width": null,
            "min_width": null,
            "border": null,
            "align_items": null,
            "bottom": null,
            "_model_module": "@jupyter-widgets/base",
            "top": null,
            "grid_column": null,
            "overflow_y": null,
            "overflow_x": null,
            "grid_auto_flow": null,
            "grid_area": null,
            "grid_template_columns": null,
            "flex": null,
            "_model_name": "LayoutModel",
            "justify_items": null,
            "grid_row": null,
            "max_height": null,
            "align_content": null,
            "visibility": null,
            "align_self": null,
            "height": null,
            "min_height": null,
            "padding": null,
            "grid_auto_rows": null,
            "grid_gap": null,
            "max_width": null,
            "order": null,
            "_view_module_version": "1.2.0",
            "grid_template_areas": null,
            "object_position": null,
            "object_fit": null,
            "grid_auto_columns": null,
            "margin": null,
            "display": null,
            "left": null
          }
        },
        "894efac1c46141f7a2fdd333345b85b3": {
          "model_module": "@jupyter-widgets/controls",
          "model_name": "VBoxModel",
          "state": {
            "_view_name": "VBoxView",
            "_dom_classes": [],
            "_model_name": "VBoxModel",
            "_view_module": "@jupyter-widgets/controls",
            "_model_module_version": "1.5.0",
            "_view_count": null,
            "_view_module_version": "1.5.0",
            "box_style": "",
            "layout": "IPY_MODEL_3f93e1e403ab4a728204638ba48ee213",
            "_model_module": "@jupyter-widgets/controls",
            "children": [
              "IPY_MODEL_83647d189c2e47168b607015413889a6",
              "IPY_MODEL_a3877c546e044ddc907262035776bbd9"
            ]
          }
        },
        "3f93e1e403ab4a728204638ba48ee213": {
          "model_module": "@jupyter-widgets/base",
          "model_name": "LayoutModel",
          "state": {
            "_view_name": "LayoutView",
            "grid_template_rows": null,
            "right": null,
            "justify_content": null,
            "_view_module": "@jupyter-widgets/base",
            "overflow": null,
            "_model_module_version": "1.2.0",
            "_view_count": null,
            "flex_flow": null,
            "width": null,
            "min_width": null,
            "border": null,
            "align_items": null,
            "bottom": null,
            "_model_module": "@jupyter-widgets/base",
            "top": null,
            "grid_column": null,
            "overflow_y": null,
            "overflow_x": null,
            "grid_auto_flow": null,
            "grid_area": null,
            "grid_template_columns": null,
            "flex": null,
            "_model_name": "LayoutModel",
            "justify_items": null,
            "grid_row": null,
            "max_height": null,
            "align_content": null,
            "visibility": null,
            "align_self": null,
            "height": null,
            "min_height": null,
            "padding": null,
            "grid_auto_rows": null,
            "grid_gap": null,
            "max_width": null,
            "order": null,
            "_view_module_version": "1.2.0",
            "grid_template_areas": null,
            "object_position": null,
            "object_fit": null,
            "grid_auto_columns": null,
            "margin": null,
            "display": null,
            "left": null
          }
        },
        "83647d189c2e47168b607015413889a6": {
          "model_module": "@jupyter-widgets/controls",
          "model_name": "LabelModel",
          "state": {
            "_view_name": "LabelView",
            "style": "IPY_MODEL_15dd90e7d65c4b428c212e71392b114f",
            "_dom_classes": [],
            "description": "",
            "_model_name": "LabelModel",
            "placeholder": "​",
            "_view_module": "@jupyter-widgets/controls",
            "_model_module_version": "1.5.0",
            "value": " 0.29MB of 0.29MB uploaded (0.00MB deduped)\r",
            "_view_count": null,
            "_view_module_version": "1.5.0",
            "description_tooltip": null,
            "_model_module": "@jupyter-widgets/controls",
            "layout": "IPY_MODEL_a661f134bf584f7ab12d602b82a3aeeb"
          }
        },
        "a3877c546e044ddc907262035776bbd9": {
          "model_module": "@jupyter-widgets/controls",
          "model_name": "FloatProgressModel",
          "state": {
            "_view_name": "ProgressView",
            "style": "IPY_MODEL_12c03dfd0acd45ad9e7b79283ee6dc19",
            "_dom_classes": [],
            "description": "",
            "_model_name": "FloatProgressModel",
            "bar_style": "",
            "max": 1,
            "_view_module": "@jupyter-widgets/controls",
            "_model_module_version": "1.5.0",
            "value": 1,
            "_view_count": null,
            "_view_module_version": "1.5.0",
            "orientation": "horizontal",
            "min": 0,
            "description_tooltip": null,
            "_model_module": "@jupyter-widgets/controls",
            "layout": "IPY_MODEL_14d773b4c660424d9cd4d0f63d0ab0ad"
          }
        },
        "15dd90e7d65c4b428c212e71392b114f": {
          "model_module": "@jupyter-widgets/controls",
          "model_name": "DescriptionStyleModel",
          "state": {
            "_view_name": "StyleView",
            "_model_name": "DescriptionStyleModel",
            "description_width": "",
            "_view_module": "@jupyter-widgets/base",
            "_model_module_version": "1.5.0",
            "_view_count": null,
            "_view_module_version": "1.2.0",
            "_model_module": "@jupyter-widgets/controls"
          }
        },
        "a661f134bf584f7ab12d602b82a3aeeb": {
          "model_module": "@jupyter-widgets/base",
          "model_name": "LayoutModel",
          "state": {
            "_view_name": "LayoutView",
            "grid_template_rows": null,
            "right": null,
            "justify_content": null,
            "_view_module": "@jupyter-widgets/base",
            "overflow": null,
            "_model_module_version": "1.2.0",
            "_view_count": null,
            "flex_flow": null,
            "width": null,
            "min_width": null,
            "border": null,
            "align_items": null,
            "bottom": null,
            "_model_module": "@jupyter-widgets/base",
            "top": null,
            "grid_column": null,
            "overflow_y": null,
            "overflow_x": null,
            "grid_auto_flow": null,
            "grid_area": null,
            "grid_template_columns": null,
            "flex": null,
            "_model_name": "LayoutModel",
            "justify_items": null,
            "grid_row": null,
            "max_height": null,
            "align_content": null,
            "visibility": null,
            "align_self": null,
            "height": null,
            "min_height": null,
            "padding": null,
            "grid_auto_rows": null,
            "grid_gap": null,
            "max_width": null,
            "order": null,
            "_view_module_version": "1.2.0",
            "grid_template_areas": null,
            "object_position": null,
            "object_fit": null,
            "grid_auto_columns": null,
            "margin": null,
            "display": null,
            "left": null
          }
        },
        "12c03dfd0acd45ad9e7b79283ee6dc19": {
          "model_module": "@jupyter-widgets/controls",
          "model_name": "ProgressStyleModel",
          "state": {
            "_view_name": "StyleView",
            "_model_name": "ProgressStyleModel",
            "description_width": "",
            "_view_module": "@jupyter-widgets/base",
            "_model_module_version": "1.5.0",
            "_view_count": null,
            "_view_module_version": "1.2.0",
            "bar_color": null,
            "_model_module": "@jupyter-widgets/controls"
          }
        },
        "14d773b4c660424d9cd4d0f63d0ab0ad": {
          "model_module": "@jupyter-widgets/base",
          "model_name": "LayoutModel",
          "state": {
            "_view_name": "LayoutView",
            "grid_template_rows": null,
            "right": null,
            "justify_content": null,
            "_view_module": "@jupyter-widgets/base",
            "overflow": null,
            "_model_module_version": "1.2.0",
            "_view_count": null,
            "flex_flow": null,
            "width": null,
            "min_width": null,
            "border": null,
            "align_items": null,
            "bottom": null,
            "_model_module": "@jupyter-widgets/base",
            "top": null,
            "grid_column": null,
            "overflow_y": null,
            "overflow_x": null,
            "grid_auto_flow": null,
            "grid_area": null,
            "grid_template_columns": null,
            "flex": null,
            "_model_name": "LayoutModel",
            "justify_items": null,
            "grid_row": null,
            "max_height": null,
            "align_content": null,
            "visibility": null,
            "align_self": null,
            "height": null,
            "min_height": null,
            "padding": null,
            "grid_auto_rows": null,
            "grid_gap": null,
            "max_width": null,
            "order": null,
            "_view_module_version": "1.2.0",
            "grid_template_areas": null,
            "object_position": null,
            "object_fit": null,
            "grid_auto_columns": null,
            "margin": null,
            "display": null,
            "left": null
          }
        },
        "89499ac1793c43bc90b065e5daf0d573": {
          "model_module": "@jupyter-widgets/controls",
          "model_name": "VBoxModel",
          "state": {
            "_view_name": "VBoxView",
            "_dom_classes": [],
            "_model_name": "VBoxModel",
            "_view_module": "@jupyter-widgets/controls",
            "_model_module_version": "1.5.0",
            "_view_count": null,
            "_view_module_version": "1.5.0",
            "box_style": "",
            "layout": "IPY_MODEL_ed2ba2a8e1e44663843088198f6314a3",
            "_model_module": "@jupyter-widgets/controls",
            "children": [
              "IPY_MODEL_aa8bba6fcb33408e8e1bfd52617e9ba1",
              "IPY_MODEL_96220686e9bf4eeba96304154179bbf0"
            ]
          }
        },
        "ed2ba2a8e1e44663843088198f6314a3": {
          "model_module": "@jupyter-widgets/base",
          "model_name": "LayoutModel",
          "state": {
            "_view_name": "LayoutView",
            "grid_template_rows": null,
            "right": null,
            "justify_content": null,
            "_view_module": "@jupyter-widgets/base",
            "overflow": null,
            "_model_module_version": "1.2.0",
            "_view_count": null,
            "flex_flow": null,
            "width": null,
            "min_width": null,
            "border": null,
            "align_items": null,
            "bottom": null,
            "_model_module": "@jupyter-widgets/base",
            "top": null,
            "grid_column": null,
            "overflow_y": null,
            "overflow_x": null,
            "grid_auto_flow": null,
            "grid_area": null,
            "grid_template_columns": null,
            "flex": null,
            "_model_name": "LayoutModel",
            "justify_items": null,
            "grid_row": null,
            "max_height": null,
            "align_content": null,
            "visibility": null,
            "align_self": null,
            "height": null,
            "min_height": null,
            "padding": null,
            "grid_auto_rows": null,
            "grid_gap": null,
            "max_width": null,
            "order": null,
            "_view_module_version": "1.2.0",
            "grid_template_areas": null,
            "object_position": null,
            "object_fit": null,
            "grid_auto_columns": null,
            "margin": null,
            "display": null,
            "left": null
          }
        },
        "aa8bba6fcb33408e8e1bfd52617e9ba1": {
          "model_module": "@jupyter-widgets/controls",
          "model_name": "LabelModel",
          "state": {
            "_view_name": "LabelView",
            "style": "IPY_MODEL_9c7009ba73cb4ad2a4b2ebe263446655",
            "_dom_classes": [],
            "description": "",
            "_model_name": "LabelModel",
            "placeholder": "​",
            "_view_module": "@jupyter-widgets/controls",
            "_model_module_version": "1.5.0",
            "value": " 0.31MB of 0.31MB uploaded (0.00MB deduped)\r",
            "_view_count": null,
            "_view_module_version": "1.5.0",
            "description_tooltip": null,
            "_model_module": "@jupyter-widgets/controls",
            "layout": "IPY_MODEL_7e189d307cd040498af1817189a7dde1"
          }
        },
        "96220686e9bf4eeba96304154179bbf0": {
          "model_module": "@jupyter-widgets/controls",
          "model_name": "FloatProgressModel",
          "state": {
            "_view_name": "ProgressView",
            "style": "IPY_MODEL_943cfbb3287646fdb15e7e1538dfb4d6",
            "_dom_classes": [],
            "description": "",
            "_model_name": "FloatProgressModel",
            "bar_style": "",
            "max": 1,
            "_view_module": "@jupyter-widgets/controls",
            "_model_module_version": "1.5.0",
            "value": 1,
            "_view_count": null,
            "_view_module_version": "1.5.0",
            "orientation": "horizontal",
            "min": 0,
            "description_tooltip": null,
            "_model_module": "@jupyter-widgets/controls",
            "layout": "IPY_MODEL_4f33736b495940f1bb0eed24fc2cac59"
          }
        },
        "9c7009ba73cb4ad2a4b2ebe263446655": {
          "model_module": "@jupyter-widgets/controls",
          "model_name": "DescriptionStyleModel",
          "state": {
            "_view_name": "StyleView",
            "_model_name": "DescriptionStyleModel",
            "description_width": "",
            "_view_module": "@jupyter-widgets/base",
            "_model_module_version": "1.5.0",
            "_view_count": null,
            "_view_module_version": "1.2.0",
            "_model_module": "@jupyter-widgets/controls"
          }
        },
        "7e189d307cd040498af1817189a7dde1": {
          "model_module": "@jupyter-widgets/base",
          "model_name": "LayoutModel",
          "state": {
            "_view_name": "LayoutView",
            "grid_template_rows": null,
            "right": null,
            "justify_content": null,
            "_view_module": "@jupyter-widgets/base",
            "overflow": null,
            "_model_module_version": "1.2.0",
            "_view_count": null,
            "flex_flow": null,
            "width": null,
            "min_width": null,
            "border": null,
            "align_items": null,
            "bottom": null,
            "_model_module": "@jupyter-widgets/base",
            "top": null,
            "grid_column": null,
            "overflow_y": null,
            "overflow_x": null,
            "grid_auto_flow": null,
            "grid_area": null,
            "grid_template_columns": null,
            "flex": null,
            "_model_name": "LayoutModel",
            "justify_items": null,
            "grid_row": null,
            "max_height": null,
            "align_content": null,
            "visibility": null,
            "align_self": null,
            "height": null,
            "min_height": null,
            "padding": null,
            "grid_auto_rows": null,
            "grid_gap": null,
            "max_width": null,
            "order": null,
            "_view_module_version": "1.2.0",
            "grid_template_areas": null,
            "object_position": null,
            "object_fit": null,
            "grid_auto_columns": null,
            "margin": null,
            "display": null,
            "left": null
          }
        },
        "943cfbb3287646fdb15e7e1538dfb4d6": {
          "model_module": "@jupyter-widgets/controls",
          "model_name": "ProgressStyleModel",
          "state": {
            "_view_name": "StyleView",
            "_model_name": "ProgressStyleModel",
            "description_width": "",
            "_view_module": "@jupyter-widgets/base",
            "_model_module_version": "1.5.0",
            "_view_count": null,
            "_view_module_version": "1.2.0",
            "bar_color": null,
            "_model_module": "@jupyter-widgets/controls"
          }
        },
        "4f33736b495940f1bb0eed24fc2cac59": {
          "model_module": "@jupyter-widgets/base",
          "model_name": "LayoutModel",
          "state": {
            "_view_name": "LayoutView",
            "grid_template_rows": null,
            "right": null,
            "justify_content": null,
            "_view_module": "@jupyter-widgets/base",
            "overflow": null,
            "_model_module_version": "1.2.0",
            "_view_count": null,
            "flex_flow": null,
            "width": null,
            "min_width": null,
            "border": null,
            "align_items": null,
            "bottom": null,
            "_model_module": "@jupyter-widgets/base",
            "top": null,
            "grid_column": null,
            "overflow_y": null,
            "overflow_x": null,
            "grid_auto_flow": null,
            "grid_area": null,
            "grid_template_columns": null,
            "flex": null,
            "_model_name": "LayoutModel",
            "justify_items": null,
            "grid_row": null,
            "max_height": null,
            "align_content": null,
            "visibility": null,
            "align_self": null,
            "height": null,
            "min_height": null,
            "padding": null,
            "grid_auto_rows": null,
            "grid_gap": null,
            "max_width": null,
            "order": null,
            "_view_module_version": "1.2.0",
            "grid_template_areas": null,
            "object_position": null,
            "object_fit": null,
            "grid_auto_columns": null,
            "margin": null,
            "display": null,
            "left": null
          }
        },
        "72fdfe2cf72f411d96d1e17c5a21e25e": {
          "model_module": "@jupyter-widgets/controls",
          "model_name": "VBoxModel",
          "state": {
            "_view_name": "VBoxView",
            "_dom_classes": [],
            "_model_name": "VBoxModel",
            "_view_module": "@jupyter-widgets/controls",
            "_model_module_version": "1.5.0",
            "_view_count": null,
            "_view_module_version": "1.5.0",
            "box_style": "",
            "layout": "IPY_MODEL_5c3be6715b6248759f15da2cb6baef6b",
            "_model_module": "@jupyter-widgets/controls",
            "children": [
              "IPY_MODEL_7f0322df1582450eb04d495ff1d88474",
              "IPY_MODEL_aa610b7f12d74106be90d3b5062677ad"
            ]
          }
        },
        "5c3be6715b6248759f15da2cb6baef6b": {
          "model_module": "@jupyter-widgets/base",
          "model_name": "LayoutModel",
          "state": {
            "_view_name": "LayoutView",
            "grid_template_rows": null,
            "right": null,
            "justify_content": null,
            "_view_module": "@jupyter-widgets/base",
            "overflow": null,
            "_model_module_version": "1.2.0",
            "_view_count": null,
            "flex_flow": null,
            "width": null,
            "min_width": null,
            "border": null,
            "align_items": null,
            "bottom": null,
            "_model_module": "@jupyter-widgets/base",
            "top": null,
            "grid_column": null,
            "overflow_y": null,
            "overflow_x": null,
            "grid_auto_flow": null,
            "grid_area": null,
            "grid_template_columns": null,
            "flex": null,
            "_model_name": "LayoutModel",
            "justify_items": null,
            "grid_row": null,
            "max_height": null,
            "align_content": null,
            "visibility": null,
            "align_self": null,
            "height": null,
            "min_height": null,
            "padding": null,
            "grid_auto_rows": null,
            "grid_gap": null,
            "max_width": null,
            "order": null,
            "_view_module_version": "1.2.0",
            "grid_template_areas": null,
            "object_position": null,
            "object_fit": null,
            "grid_auto_columns": null,
            "margin": null,
            "display": null,
            "left": null
          }
        },
        "7f0322df1582450eb04d495ff1d88474": {
          "model_module": "@jupyter-widgets/controls",
          "model_name": "LabelModel",
          "state": {
            "_view_name": "LabelView",
            "style": "IPY_MODEL_2ae29e70412b41b3afd0da6150af95f7",
            "_dom_classes": [],
            "description": "",
            "_model_name": "LabelModel",
            "placeholder": "​",
            "_view_module": "@jupyter-widgets/controls",
            "_model_module_version": "1.5.0",
            "value": " 0.32MB of 0.32MB uploaded (0.00MB deduped)\r",
            "_view_count": null,
            "_view_module_version": "1.5.0",
            "description_tooltip": null,
            "_model_module": "@jupyter-widgets/controls",
            "layout": "IPY_MODEL_812c7df24aea414090aaca81c81f70ee"
          }
        },
        "aa610b7f12d74106be90d3b5062677ad": {
          "model_module": "@jupyter-widgets/controls",
          "model_name": "FloatProgressModel",
          "state": {
            "_view_name": "ProgressView",
            "style": "IPY_MODEL_8eca7f1c5d2141ad8ed20ae69d445e5c",
            "_dom_classes": [],
            "description": "",
            "_model_name": "FloatProgressModel",
            "bar_style": "",
            "max": 1,
            "_view_module": "@jupyter-widgets/controls",
            "_model_module_version": "1.5.0",
            "value": 1,
            "_view_count": null,
            "_view_module_version": "1.5.0",
            "orientation": "horizontal",
            "min": 0,
            "description_tooltip": null,
            "_model_module": "@jupyter-widgets/controls",
            "layout": "IPY_MODEL_dad2f4d4bb244c05b80a478924f499f5"
          }
        },
        "2ae29e70412b41b3afd0da6150af95f7": {
          "model_module": "@jupyter-widgets/controls",
          "model_name": "DescriptionStyleModel",
          "state": {
            "_view_name": "StyleView",
            "_model_name": "DescriptionStyleModel",
            "description_width": "",
            "_view_module": "@jupyter-widgets/base",
            "_model_module_version": "1.5.0",
            "_view_count": null,
            "_view_module_version": "1.2.0",
            "_model_module": "@jupyter-widgets/controls"
          }
        },
        "812c7df24aea414090aaca81c81f70ee": {
          "model_module": "@jupyter-widgets/base",
          "model_name": "LayoutModel",
          "state": {
            "_view_name": "LayoutView",
            "grid_template_rows": null,
            "right": null,
            "justify_content": null,
            "_view_module": "@jupyter-widgets/base",
            "overflow": null,
            "_model_module_version": "1.2.0",
            "_view_count": null,
            "flex_flow": null,
            "width": null,
            "min_width": null,
            "border": null,
            "align_items": null,
            "bottom": null,
            "_model_module": "@jupyter-widgets/base",
            "top": null,
            "grid_column": null,
            "overflow_y": null,
            "overflow_x": null,
            "grid_auto_flow": null,
            "grid_area": null,
            "grid_template_columns": null,
            "flex": null,
            "_model_name": "LayoutModel",
            "justify_items": null,
            "grid_row": null,
            "max_height": null,
            "align_content": null,
            "visibility": null,
            "align_self": null,
            "height": null,
            "min_height": null,
            "padding": null,
            "grid_auto_rows": null,
            "grid_gap": null,
            "max_width": null,
            "order": null,
            "_view_module_version": "1.2.0",
            "grid_template_areas": null,
            "object_position": null,
            "object_fit": null,
            "grid_auto_columns": null,
            "margin": null,
            "display": null,
            "left": null
          }
        },
        "8eca7f1c5d2141ad8ed20ae69d445e5c": {
          "model_module": "@jupyter-widgets/controls",
          "model_name": "ProgressStyleModel",
          "state": {
            "_view_name": "StyleView",
            "_model_name": "ProgressStyleModel",
            "description_width": "",
            "_view_module": "@jupyter-widgets/base",
            "_model_module_version": "1.5.0",
            "_view_count": null,
            "_view_module_version": "1.2.0",
            "bar_color": null,
            "_model_module": "@jupyter-widgets/controls"
          }
        },
        "dad2f4d4bb244c05b80a478924f499f5": {
          "model_module": "@jupyter-widgets/base",
          "model_name": "LayoutModel",
          "state": {
            "_view_name": "LayoutView",
            "grid_template_rows": null,
            "right": null,
            "justify_content": null,
            "_view_module": "@jupyter-widgets/base",
            "overflow": null,
            "_model_module_version": "1.2.0",
            "_view_count": null,
            "flex_flow": null,
            "width": null,
            "min_width": null,
            "border": null,
            "align_items": null,
            "bottom": null,
            "_model_module": "@jupyter-widgets/base",
            "top": null,
            "grid_column": null,
            "overflow_y": null,
            "overflow_x": null,
            "grid_auto_flow": null,
            "grid_area": null,
            "grid_template_columns": null,
            "flex": null,
            "_model_name": "LayoutModel",
            "justify_items": null,
            "grid_row": null,
            "max_height": null,
            "align_content": null,
            "visibility": null,
            "align_self": null,
            "height": null,
            "min_height": null,
            "padding": null,
            "grid_auto_rows": null,
            "grid_gap": null,
            "max_width": null,
            "order": null,
            "_view_module_version": "1.2.0",
            "grid_template_areas": null,
            "object_position": null,
            "object_fit": null,
            "grid_auto_columns": null,
            "margin": null,
            "display": null,
            "left": null
          }
        },
        "7a5ef9126d0c4630a042a142eca0b544": {
          "model_module": "@jupyter-widgets/controls",
          "model_name": "VBoxModel",
          "state": {
            "_view_name": "VBoxView",
            "_dom_classes": [],
            "_model_name": "VBoxModel",
            "_view_module": "@jupyter-widgets/controls",
            "_model_module_version": "1.5.0",
            "_view_count": null,
            "_view_module_version": "1.5.0",
            "box_style": "",
            "layout": "IPY_MODEL_edacf4a65fa741a3a01249c630f015d0",
            "_model_module": "@jupyter-widgets/controls",
            "children": [
              "IPY_MODEL_8c5e98959b2b47b6b967777e16590687",
              "IPY_MODEL_9b2c35695cc74a3987f9251e0cef18ec"
            ]
          }
        },
        "edacf4a65fa741a3a01249c630f015d0": {
          "model_module": "@jupyter-widgets/base",
          "model_name": "LayoutModel",
          "state": {
            "_view_name": "LayoutView",
            "grid_template_rows": null,
            "right": null,
            "justify_content": null,
            "_view_module": "@jupyter-widgets/base",
            "overflow": null,
            "_model_module_version": "1.2.0",
            "_view_count": null,
            "flex_flow": null,
            "width": null,
            "min_width": null,
            "border": null,
            "align_items": null,
            "bottom": null,
            "_model_module": "@jupyter-widgets/base",
            "top": null,
            "grid_column": null,
            "overflow_y": null,
            "overflow_x": null,
            "grid_auto_flow": null,
            "grid_area": null,
            "grid_template_columns": null,
            "flex": null,
            "_model_name": "LayoutModel",
            "justify_items": null,
            "grid_row": null,
            "max_height": null,
            "align_content": null,
            "visibility": null,
            "align_self": null,
            "height": null,
            "min_height": null,
            "padding": null,
            "grid_auto_rows": null,
            "grid_gap": null,
            "max_width": null,
            "order": null,
            "_view_module_version": "1.2.0",
            "grid_template_areas": null,
            "object_position": null,
            "object_fit": null,
            "grid_auto_columns": null,
            "margin": null,
            "display": null,
            "left": null
          }
        },
        "8c5e98959b2b47b6b967777e16590687": {
          "model_module": "@jupyter-widgets/controls",
          "model_name": "LabelModel",
          "state": {
            "_view_name": "LabelView",
            "style": "IPY_MODEL_570c88eedec3448fac83d7e0e81e7dea",
            "_dom_classes": [],
            "description": "",
            "_model_name": "LabelModel",
            "placeholder": "​",
            "_view_module": "@jupyter-widgets/controls",
            "_model_module_version": "1.5.0",
            "value": " 0.34MB of 0.34MB uploaded (0.00MB deduped)\r",
            "_view_count": null,
            "_view_module_version": "1.5.0",
            "description_tooltip": null,
            "_model_module": "@jupyter-widgets/controls",
            "layout": "IPY_MODEL_3c55f2a3ec2746c8b4a418871b220fec"
          }
        },
        "9b2c35695cc74a3987f9251e0cef18ec": {
          "model_module": "@jupyter-widgets/controls",
          "model_name": "FloatProgressModel",
          "state": {
            "_view_name": "ProgressView",
            "style": "IPY_MODEL_75d56ef8971e4b99a08cf1f0a60f74a3",
            "_dom_classes": [],
            "description": "",
            "_model_name": "FloatProgressModel",
            "bar_style": "",
            "max": 1,
            "_view_module": "@jupyter-widgets/controls",
            "_model_module_version": "1.5.0",
            "value": 1,
            "_view_count": null,
            "_view_module_version": "1.5.0",
            "orientation": "horizontal",
            "min": 0,
            "description_tooltip": null,
            "_model_module": "@jupyter-widgets/controls",
            "layout": "IPY_MODEL_a71404144ed44bc0b2c7a6b8ba534bb5"
          }
        },
        "570c88eedec3448fac83d7e0e81e7dea": {
          "model_module": "@jupyter-widgets/controls",
          "model_name": "DescriptionStyleModel",
          "state": {
            "_view_name": "StyleView",
            "_model_name": "DescriptionStyleModel",
            "description_width": "",
            "_view_module": "@jupyter-widgets/base",
            "_model_module_version": "1.5.0",
            "_view_count": null,
            "_view_module_version": "1.2.0",
            "_model_module": "@jupyter-widgets/controls"
          }
        },
        "3c55f2a3ec2746c8b4a418871b220fec": {
          "model_module": "@jupyter-widgets/base",
          "model_name": "LayoutModel",
          "state": {
            "_view_name": "LayoutView",
            "grid_template_rows": null,
            "right": null,
            "justify_content": null,
            "_view_module": "@jupyter-widgets/base",
            "overflow": null,
            "_model_module_version": "1.2.0",
            "_view_count": null,
            "flex_flow": null,
            "width": null,
            "min_width": null,
            "border": null,
            "align_items": null,
            "bottom": null,
            "_model_module": "@jupyter-widgets/base",
            "top": null,
            "grid_column": null,
            "overflow_y": null,
            "overflow_x": null,
            "grid_auto_flow": null,
            "grid_area": null,
            "grid_template_columns": null,
            "flex": null,
            "_model_name": "LayoutModel",
            "justify_items": null,
            "grid_row": null,
            "max_height": null,
            "align_content": null,
            "visibility": null,
            "align_self": null,
            "height": null,
            "min_height": null,
            "padding": null,
            "grid_auto_rows": null,
            "grid_gap": null,
            "max_width": null,
            "order": null,
            "_view_module_version": "1.2.0",
            "grid_template_areas": null,
            "object_position": null,
            "object_fit": null,
            "grid_auto_columns": null,
            "margin": null,
            "display": null,
            "left": null
          }
        },
        "75d56ef8971e4b99a08cf1f0a60f74a3": {
          "model_module": "@jupyter-widgets/controls",
          "model_name": "ProgressStyleModel",
          "state": {
            "_view_name": "StyleView",
            "_model_name": "ProgressStyleModel",
            "description_width": "",
            "_view_module": "@jupyter-widgets/base",
            "_model_module_version": "1.5.0",
            "_view_count": null,
            "_view_module_version": "1.2.0",
            "bar_color": null,
            "_model_module": "@jupyter-widgets/controls"
          }
        },
        "a71404144ed44bc0b2c7a6b8ba534bb5": {
          "model_module": "@jupyter-widgets/base",
          "model_name": "LayoutModel",
          "state": {
            "_view_name": "LayoutView",
            "grid_template_rows": null,
            "right": null,
            "justify_content": null,
            "_view_module": "@jupyter-widgets/base",
            "overflow": null,
            "_model_module_version": "1.2.0",
            "_view_count": null,
            "flex_flow": null,
            "width": null,
            "min_width": null,
            "border": null,
            "align_items": null,
            "bottom": null,
            "_model_module": "@jupyter-widgets/base",
            "top": null,
            "grid_column": null,
            "overflow_y": null,
            "overflow_x": null,
            "grid_auto_flow": null,
            "grid_area": null,
            "grid_template_columns": null,
            "flex": null,
            "_model_name": "LayoutModel",
            "justify_items": null,
            "grid_row": null,
            "max_height": null,
            "align_content": null,
            "visibility": null,
            "align_self": null,
            "height": null,
            "min_height": null,
            "padding": null,
            "grid_auto_rows": null,
            "grid_gap": null,
            "max_width": null,
            "order": null,
            "_view_module_version": "1.2.0",
            "grid_template_areas": null,
            "object_position": null,
            "object_fit": null,
            "grid_auto_columns": null,
            "margin": null,
            "display": null,
            "left": null
          }
        },
        "fc4753a9511549f4b9632ec469f50167": {
          "model_module": "@jupyter-widgets/controls",
          "model_name": "VBoxModel",
          "state": {
            "_view_name": "VBoxView",
            "_dom_classes": [],
            "_model_name": "VBoxModel",
            "_view_module": "@jupyter-widgets/controls",
            "_model_module_version": "1.5.0",
            "_view_count": null,
            "_view_module_version": "1.5.0",
            "box_style": "",
            "layout": "IPY_MODEL_88205ce408d0451e9efcbfc4ffef21cc",
            "_model_module": "@jupyter-widgets/controls",
            "children": [
              "IPY_MODEL_26b19eb16971446db57d164aa854693e",
              "IPY_MODEL_3b98d0cbd2ce48a097b177d5cd230e19"
            ]
          }
        },
        "88205ce408d0451e9efcbfc4ffef21cc": {
          "model_module": "@jupyter-widgets/base",
          "model_name": "LayoutModel",
          "state": {
            "_view_name": "LayoutView",
            "grid_template_rows": null,
            "right": null,
            "justify_content": null,
            "_view_module": "@jupyter-widgets/base",
            "overflow": null,
            "_model_module_version": "1.2.0",
            "_view_count": null,
            "flex_flow": null,
            "width": null,
            "min_width": null,
            "border": null,
            "align_items": null,
            "bottom": null,
            "_model_module": "@jupyter-widgets/base",
            "top": null,
            "grid_column": null,
            "overflow_y": null,
            "overflow_x": null,
            "grid_auto_flow": null,
            "grid_area": null,
            "grid_template_columns": null,
            "flex": null,
            "_model_name": "LayoutModel",
            "justify_items": null,
            "grid_row": null,
            "max_height": null,
            "align_content": null,
            "visibility": null,
            "align_self": null,
            "height": null,
            "min_height": null,
            "padding": null,
            "grid_auto_rows": null,
            "grid_gap": null,
            "max_width": null,
            "order": null,
            "_view_module_version": "1.2.0",
            "grid_template_areas": null,
            "object_position": null,
            "object_fit": null,
            "grid_auto_columns": null,
            "margin": null,
            "display": null,
            "left": null
          }
        },
        "26b19eb16971446db57d164aa854693e": {
          "model_module": "@jupyter-widgets/controls",
          "model_name": "LabelModel",
          "state": {
            "_view_name": "LabelView",
            "style": "IPY_MODEL_ff2aac32a97e4a1a8d0f17b939cf3ab0",
            "_dom_classes": [],
            "description": "",
            "_model_name": "LabelModel",
            "placeholder": "​",
            "_view_module": "@jupyter-widgets/controls",
            "_model_module_version": "1.5.0",
            "value": " 0.36MB of 0.36MB uploaded (0.00MB deduped)\r",
            "_view_count": null,
            "_view_module_version": "1.5.0",
            "description_tooltip": null,
            "_model_module": "@jupyter-widgets/controls",
            "layout": "IPY_MODEL_6f6fec5a204b4311b1e48af6a886a6be"
          }
        },
        "3b98d0cbd2ce48a097b177d5cd230e19": {
          "model_module": "@jupyter-widgets/controls",
          "model_name": "FloatProgressModel",
          "state": {
            "_view_name": "ProgressView",
            "style": "IPY_MODEL_4d971a39fe0f460ca583d6ad3a3348be",
            "_dom_classes": [],
            "description": "",
            "_model_name": "FloatProgressModel",
            "bar_style": "",
            "max": 1,
            "_view_module": "@jupyter-widgets/controls",
            "_model_module_version": "1.5.0",
            "value": 1,
            "_view_count": null,
            "_view_module_version": "1.5.0",
            "orientation": "horizontal",
            "min": 0,
            "description_tooltip": null,
            "_model_module": "@jupyter-widgets/controls",
            "layout": "IPY_MODEL_e6191b93eb0e4656b268f612b775f8bf"
          }
        },
        "ff2aac32a97e4a1a8d0f17b939cf3ab0": {
          "model_module": "@jupyter-widgets/controls",
          "model_name": "DescriptionStyleModel",
          "state": {
            "_view_name": "StyleView",
            "_model_name": "DescriptionStyleModel",
            "description_width": "",
            "_view_module": "@jupyter-widgets/base",
            "_model_module_version": "1.5.0",
            "_view_count": null,
            "_view_module_version": "1.2.0",
            "_model_module": "@jupyter-widgets/controls"
          }
        },
        "6f6fec5a204b4311b1e48af6a886a6be": {
          "model_module": "@jupyter-widgets/base",
          "model_name": "LayoutModel",
          "state": {
            "_view_name": "LayoutView",
            "grid_template_rows": null,
            "right": null,
            "justify_content": null,
            "_view_module": "@jupyter-widgets/base",
            "overflow": null,
            "_model_module_version": "1.2.0",
            "_view_count": null,
            "flex_flow": null,
            "width": null,
            "min_width": null,
            "border": null,
            "align_items": null,
            "bottom": null,
            "_model_module": "@jupyter-widgets/base",
            "top": null,
            "grid_column": null,
            "overflow_y": null,
            "overflow_x": null,
            "grid_auto_flow": null,
            "grid_area": null,
            "grid_template_columns": null,
            "flex": null,
            "_model_name": "LayoutModel",
            "justify_items": null,
            "grid_row": null,
            "max_height": null,
            "align_content": null,
            "visibility": null,
            "align_self": null,
            "height": null,
            "min_height": null,
            "padding": null,
            "grid_auto_rows": null,
            "grid_gap": null,
            "max_width": null,
            "order": null,
            "_view_module_version": "1.2.0",
            "grid_template_areas": null,
            "object_position": null,
            "object_fit": null,
            "grid_auto_columns": null,
            "margin": null,
            "display": null,
            "left": null
          }
        },
        "4d971a39fe0f460ca583d6ad3a3348be": {
          "model_module": "@jupyter-widgets/controls",
          "model_name": "ProgressStyleModel",
          "state": {
            "_view_name": "StyleView",
            "_model_name": "ProgressStyleModel",
            "description_width": "",
            "_view_module": "@jupyter-widgets/base",
            "_model_module_version": "1.5.0",
            "_view_count": null,
            "_view_module_version": "1.2.0",
            "bar_color": null,
            "_model_module": "@jupyter-widgets/controls"
          }
        },
        "e6191b93eb0e4656b268f612b775f8bf": {
          "model_module": "@jupyter-widgets/base",
          "model_name": "LayoutModel",
          "state": {
            "_view_name": "LayoutView",
            "grid_template_rows": null,
            "right": null,
            "justify_content": null,
            "_view_module": "@jupyter-widgets/base",
            "overflow": null,
            "_model_module_version": "1.2.0",
            "_view_count": null,
            "flex_flow": null,
            "width": null,
            "min_width": null,
            "border": null,
            "align_items": null,
            "bottom": null,
            "_model_module": "@jupyter-widgets/base",
            "top": null,
            "grid_column": null,
            "overflow_y": null,
            "overflow_x": null,
            "grid_auto_flow": null,
            "grid_area": null,
            "grid_template_columns": null,
            "flex": null,
            "_model_name": "LayoutModel",
            "justify_items": null,
            "grid_row": null,
            "max_height": null,
            "align_content": null,
            "visibility": null,
            "align_self": null,
            "height": null,
            "min_height": null,
            "padding": null,
            "grid_auto_rows": null,
            "grid_gap": null,
            "max_width": null,
            "order": null,
            "_view_module_version": "1.2.0",
            "grid_template_areas": null,
            "object_position": null,
            "object_fit": null,
            "grid_auto_columns": null,
            "margin": null,
            "display": null,
            "left": null
          }
        }
      }
    }
  },
  "cells": [
    {
      "cell_type": "markdown",
      "metadata": {
        "id": "XGAY7BR2WHAQ"
      },
      "source": [
        "[![Open In Colab](https://colab.research.google.com/assets/colab-badge.svg)](https://colab.research.google.com/github/borate267/CS6910_DLAssignments/blob/main/DLAssignment3/transliteration_keras.ipynb)"
      ]
    },
    {
      "cell_type": "markdown",
      "metadata": {
        "id": "gTK4IFUhLr8N"
      },
      "source": [
        "Essentials"
      ]
    },
    {
      "cell_type": "code",
      "metadata": {
        "colab": {
          "base_uri": "https://localhost:8080/"
        },
        "id": "PYcsn9UVpEyH",
        "outputId": "4add3721-8e10-4591-dfea-4f5ab3fed828"
      },
      "source": [
        "!nvidia-smi"
      ],
      "execution_count": null,
      "outputs": [
        {
          "output_type": "stream",
          "text": [
            "Mon May 10 17:21:38 2021       \n",
            "+-----------------------------------------------------------------------------+\n",
            "| NVIDIA-SMI 465.19.01    Driver Version: 460.32.03    CUDA Version: 11.2     |\n",
            "|-------------------------------+----------------------+----------------------+\n",
            "| GPU  Name        Persistence-M| Bus-Id        Disp.A | Volatile Uncorr. ECC |\n",
            "| Fan  Temp  Perf  Pwr:Usage/Cap|         Memory-Usage | GPU-Util  Compute M. |\n",
            "|                               |                      |               MIG M. |\n",
            "|===============================+======================+======================|\n",
            "|   0  Tesla P100-PCIE...  Off  | 00000000:00:04.0 Off |                    0 |\n",
            "| N/A   37C    P0    30W / 250W |      0MiB / 16280MiB |      0%      Default |\n",
            "|                               |                      |                  N/A |\n",
            "+-------------------------------+----------------------+----------------------+\n",
            "                                                                               \n",
            "+-----------------------------------------------------------------------------+\n",
            "| Processes:                                                                  |\n",
            "|  GPU   GI   CI        PID   Type   Process name                  GPU Memory |\n",
            "|        ID   ID                                                   Usage      |\n",
            "|=============================================================================|\n",
            "|  No running processes found                                                 |\n",
            "+-----------------------------------------------------------------------------+\n"
          ],
          "name": "stdout"
        }
      ]
    },
    {
      "cell_type": "code",
      "metadata": {
        "id": "apeRGrBs6yH8"
      },
      "source": [
        "import io\n",
        "import numpy as np\n",
        "import tensorflow \n",
        "from keras.models import Model\n",
        "from keras.layers import Input, LSTM, Dense, Embedding, GRU, Dropout, SimpleRNN\n",
        "from keras.utils import to_categorical\n",
        "from keras.preprocessing.text import Tokenizer\n",
        "from keras.preprocessing.sequence import pad_sequences\n",
        "from keras.utils.vis_utils import plot_model\n",
        "from math import log\n",
        "from numpy import array\n",
        "from numpy import argmax\n",
        "from keras.optimizers import Adam\n",
        "import keras\n",
        "from keras.models import load_model\n",
        "from math import log1p "
      ],
      "execution_count": null,
      "outputs": []
    },
    {
      "cell_type": "code",
      "metadata": {
        "id": "0NsYPEEpM5cU"
      },
      "source": [
        "%pip install wandb -q\n",
        "import wandb\n",
        "from wandb.keras import WandbCallback"
      ],
      "execution_count": null,
      "outputs": []
    },
    {
      "cell_type": "markdown",
      "metadata": {
        "id": "N6lJCkKMLwDe"
      },
      "source": [
        "**Fetching the dataset** \n",
        "\n",
        "Lexicons for Latin-Tamil are taken from Google's Dakshina dataset. The necessary datasets have been uploaded to github, cloned and used for the reminder of the code."
      ]
    },
    {
      "cell_type": "code",
      "metadata": {
        "colab": {
          "base_uri": "https://localhost:8080/"
        },
        "id": "jhpFjBqec5sk",
        "outputId": "34f2e0f4-9b31-4b5c-ebe9-6063111c9216"
      },
      "source": [
        "!git clone https://github.com/borate267/lexicon-dataset.git"
      ],
      "execution_count": null,
      "outputs": [
        {
          "output_type": "stream",
          "text": [
            "fatal: destination path 'lexicon-dataset' already exists and is not an empty directory.\n"
          ],
          "name": "stdout"
        }
      ]
    },
    {
      "cell_type": "code",
      "metadata": {
        "id": "6x95CxiMFl54"
      },
      "source": [
        "# GLOBAL VARIABLES\n",
        "\n",
        "print_data = True"
      ],
      "execution_count": null,
      "outputs": []
    },
    {
      "cell_type": "markdown",
      "metadata": {
        "id": "jPoGXywuL1kD"
      },
      "source": [
        "Reading the dataset\n"
      ]
    },
    {
      "cell_type": "code",
      "metadata": {
        "id": "PBzvL2e20Sx-",
        "colab": {
          "base_uri": "https://localhost:8080/"
        },
        "outputId": "1d3011df-cd9f-43d6-c4f2-c4778d80e7f6"
      },
      "source": [
        "train_dir = \"lexicon-dataset/ta.translit.sampled.train.tsv\"\n",
        "dev_dir = \"lexicon-dataset/ta.translit.sampled.dev.tsv\"\n",
        "test_dir = \"lexicon-dataset/ta.translit.sampled.test.tsv\"\n",
        "\n",
        "# The following function reads the raw text document and returns a list of lists comprising the romanized and native versions of the words\n",
        "\n",
        "def read_corpus(corpus_file):\n",
        "  tamil_words = []\n",
        "  latin_words = []\n",
        "  with io.open(corpus_file, encoding ='utf-8') as f:\n",
        "    for line in f:\n",
        "      if '\\t' not in line:\n",
        "        continue\n",
        "      tokens = line.rstrip().split(\"\\t\")\n",
        "      latin_words.append(tokens[1])\n",
        "      tamil_words.append(tokens[0])\n",
        "  return latin_words, tamil_words\n",
        "\n",
        "train_source, train_target = read_corpus(train_dir)\n",
        "valid_source, valid_target = read_corpus(dev_dir)\n",
        "test_source, test_target = read_corpus(test_dir)\n",
        "\n",
        "print(\"Number of training samples: \", len(train_source))\n",
        "print(\"Number of validation samples: \", len(valid_source))\n",
        "print(\"Number of testing samples: \", len(test_source))\n",
        "\n",
        "\n"
      ],
      "execution_count": null,
      "outputs": [
        {
          "output_type": "stream",
          "text": [
            "Number of training samples:  68218\n",
            "Number of validation samples:  6827\n",
            "Number of testing samples:  6864\n"
          ],
          "name": "stdout"
        }
      ]
    },
    {
      "cell_type": "code",
      "metadata": {
        "colab": {
          "base_uri": "https://localhost:8080/"
        },
        "id": "6mC2ICFKRUZA",
        "outputId": "49c20587-b76f-4fa5-958c-08aa318a5eaf"
      },
      "source": [
        "arr = np.arange(len(train_source))\n",
        "np.random.shuffle(arr)\n",
        "arr1 = np.arange(len(valid_source))\n",
        "np.random.shuffle(arr1)\n",
        "\n",
        "input_characters = set()\n",
        "target_characters = set()\n",
        "input_texts_ns = []\n",
        "target_texts_ns = []\n",
        "val_input_texts_ns = []\n",
        "val_target_texts_ns = []\n",
        "\n",
        "for (input_text, target_text) in zip(train_source, train_target):\n",
        "    # We use \"tab\" as the \"start sequence\" character\n",
        "    # for the targets, and \"\\n\" as \"end sequence\" character.\n",
        "    target_text = \"B\" + target_text + \"E\"\n",
        "    input_texts_ns.append(input_text)\n",
        "    target_texts_ns.append(target_text)\n",
        "    for char in input_text:\n",
        "        if char not in input_characters:\n",
        "            input_characters.add(char)\n",
        "    for char in target_text:\n",
        "        if char not in target_characters:\n",
        "            target_characters.add(char)\n",
        "\n",
        "for (input_text, target_text) in zip(valid_source, valid_target):\n",
        "    # We use \"tab\" as the \"start sequence\" character\n",
        "    # for the targets, and \"\\n\" as \"end sequence\" character.\n",
        "    target_text = \"B\" + target_text + \"E\"\n",
        "    val_input_texts_ns.append(input_text)\n",
        "    val_target_texts_ns.append(target_text)\n",
        "    for char in input_text:\n",
        "        if char not in input_characters:\n",
        "            input_characters.add(char)\n",
        "    for char in target_text:\n",
        "        if char not in target_characters:\n",
        "            target_characters.add(char)\n",
        "\n",
        "input_texts = []\n",
        "target_texts = []\n",
        "\n",
        "for i in range(len(train_source)):\n",
        "    input_texts.append(input_texts_ns[arr[i]])\n",
        "    target_texts.append(target_texts_ns[arr[i]])\n",
        "\n",
        "val_input_texts = []\n",
        "val_target_texts = []\n",
        "\n",
        "for i in range(len(valid_source)):\n",
        "    val_input_texts.append(val_input_texts_ns[arr1[i]])\n",
        "    val_target_texts.append(val_target_texts_ns[arr1[i]])\n",
        "\n",
        "input_characters.add(\" \")\n",
        "target_characters.add(\" \")\n",
        "\n",
        "input_characters = sorted(list(input_characters))\n",
        "target_characters = sorted(list(target_characters))\n",
        "\n",
        "\n",
        "\n",
        "# Adding the padding character\n",
        "#input_characters.append(\"P\")\n",
        "#target_characters.append(\"P\")\n",
        "\n",
        "num_encoder_tokens = len(input_characters)\n",
        "num_decoder_tokens = len(target_characters)\n",
        "max_encoder_seq_length = max([len(txt) for txt in input_texts])\n",
        "max_decoder_seq_length = max([len(txt) for txt in target_texts])\n",
        "val_max_encoder_seq_length = max([len(txt) for txt in val_input_texts])\n",
        "val_max_decoder_seq_length = max([len(txt) for txt in val_target_texts])\n",
        "\n",
        "\n",
        "\n",
        "print(\"Number of samples:\", len(input_texts))\n",
        "print(\"Number of unique input tokens:\", num_encoder_tokens)\n",
        "print(\"Number of unique output tokens:\", num_decoder_tokens)\n",
        "print(\"Max sequence length for inputs:\", max_encoder_seq_length)\n",
        "print(\"Max sequence length for outputs:\", max_decoder_seq_length)\n",
        "print(\"Max sequence length for val inputs:\", val_max_encoder_seq_length)\n",
        "print(\"Max sequence length for val outputs:\", val_max_decoder_seq_length)\n",
        "\n",
        "print(input_characters)\n",
        "print(target_characters)"
      ],
      "execution_count": null,
      "outputs": [
        {
          "output_type": "stream",
          "text": [
            "Number of samples: 68218\n",
            "Number of unique input tokens: 27\n",
            "Number of unique output tokens: 49\n",
            "Max sequence length for inputs: 30\n",
            "Max sequence length for outputs: 28\n",
            "Max sequence length for val inputs: 23\n",
            "Max sequence length for val outputs: 22\n",
            "[' ', 'a', 'b', 'c', 'd', 'e', 'f', 'g', 'h', 'i', 'j', 'k', 'l', 'm', 'n', 'o', 'p', 'q', 'r', 's', 't', 'u', 'v', 'w', 'x', 'y', 'z']\n",
            "[' ', 'B', 'E', 'ஃ', 'அ', 'ஆ', 'இ', 'ஈ', 'உ', 'ஊ', 'எ', 'ஏ', 'ஐ', 'ஒ', 'ஓ', 'க', 'ங', 'ச', 'ஜ', 'ஞ', 'ட', 'ண', 'த', 'ந', 'ன', 'ப', 'ம', 'ய', 'ர', 'ற', 'ல', 'ள', 'ழ', 'வ', 'ஷ', 'ஸ', 'ஹ', 'ா', 'ி', 'ீ', 'ு', 'ூ', 'ெ', 'ே', 'ை', 'ொ', 'ோ', 'ௌ', '்']\n"
          ],
          "name": "stdout"
        }
      ]
    },
    {
      "cell_type": "code",
      "metadata": {
        "colab": {
          "base_uri": "https://localhost:8080/"
        },
        "id": "9f7y6C51r1QI",
        "outputId": "98839dbe-6b2e-49ad-f283-f95ab0792f8a"
      },
      "source": [
        "print(input_texts[123:130])\n",
        "print(target_texts[123:130])"
      ],
      "execution_count": null,
      "outputs": [
        {
          "output_type": "stream",
          "text": [
            "['iaan', 'perum', 'houliwood', 'steeba', 'oruthi', 'caarpilum', 'koil']\n",
            "['Bயான்E', 'Bபேரும்E', 'Bஹாலிவுட்E', 'Bஸ்டீவ்E', 'Bஒருத்திE', 'Bசார்பிலும்E', 'Bகோயில்E']\n"
          ],
          "name": "stdout"
        }
      ]
    },
    {
      "cell_type": "markdown",
      "metadata": {
        "id": "DG3W77CTE4tp"
      },
      "source": [
        "Character Embedding\n",
        "\n",
        "**Encoder Input Sequences**: Padded to a maximum length of max_encSeqLen characters. \n",
        "**SHAPE: (len(train_source), max_encSeqLen)**\n",
        "\n",
        "**Decoder Input Sequences**: Padded to a maximum length of max_encSeqLen characters. \n",
        "**SHAPE: (len(train_source), max_decSeqLen)**\n",
        "\n",
        "**Decoder Target Sequences**: Padded to a maximum length of max_decSeqLen characters with a vocabulary of sizeofTamilVocab different characters. \n",
        "**SHAPE: (len(train_source), max_decSeqLen, sizeofTamilVocab)**"
      ]
    },
    {
      "cell_type": "markdown",
      "metadata": {
        "id": "qwPNb93PRwHT"
      },
      "source": [
        "For training :"
      ]
    },
    {
      "cell_type": "code",
      "metadata": {
        "colab": {
          "base_uri": "https://localhost:8080/"
        },
        "id": "OtHaPQPw6VuP",
        "outputId": "774b449d-83ec-4c25-e24c-8e392645b000"
      },
      "source": [
        "input_token_index = dict([(char, i) for i, char in enumerate(input_characters)])\n",
        "target_token_index = dict([(char, i) for i, char in enumerate(target_characters)])\n",
        "print(input_token_index)\n",
        "print(target_token_index)"
      ],
      "execution_count": null,
      "outputs": [
        {
          "output_type": "stream",
          "text": [
            "{' ': 0, 'a': 1, 'b': 2, 'c': 3, 'd': 4, 'e': 5, 'f': 6, 'g': 7, 'h': 8, 'i': 9, 'j': 10, 'k': 11, 'l': 12, 'm': 13, 'n': 14, 'o': 15, 'p': 16, 'q': 17, 'r': 18, 's': 19, 't': 20, 'u': 21, 'v': 22, 'w': 23, 'x': 24, 'y': 25, 'z': 26}\n",
            "{' ': 0, 'B': 1, 'E': 2, 'ஃ': 3, 'அ': 4, 'ஆ': 5, 'இ': 6, 'ஈ': 7, 'உ': 8, 'ஊ': 9, 'எ': 10, 'ஏ': 11, 'ஐ': 12, 'ஒ': 13, 'ஓ': 14, 'க': 15, 'ங': 16, 'ச': 17, 'ஜ': 18, 'ஞ': 19, 'ட': 20, 'ண': 21, 'த': 22, 'ந': 23, 'ன': 24, 'ப': 25, 'ம': 26, 'ய': 27, 'ர': 28, 'ற': 29, 'ல': 30, 'ள': 31, 'ழ': 32, 'வ': 33, 'ஷ': 34, 'ஸ': 35, 'ஹ': 36, 'ா': 37, 'ி': 38, 'ீ': 39, 'ு': 40, 'ூ': 41, 'ெ': 42, 'ே': 43, 'ை': 44, 'ொ': 45, 'ோ': 46, 'ௌ': 47, '்': 48}\n"
          ],
          "name": "stdout"
        }
      ]
    },
    {
      "cell_type": "code",
      "metadata": {
        "id": "y3i7ykYbtQ2K"
      },
      "source": [
        "encoder_input_data = np.zeros(\n",
        "    (len(input_texts), max_encoder_seq_length), dtype=\"float32\"\n",
        ")\n",
        "decoder_input_data = np.zeros(\n",
        "    (len(input_texts), max_decoder_seq_length), dtype=\"float32\"\n",
        ")\n",
        "decoder_target_data = np.zeros(\n",
        "    (len(input_texts), max_decoder_seq_length, num_decoder_tokens), dtype=\"float32\"\n",
        ")\n",
        "\n",
        "for i, (input_text, target_text) in enumerate(zip(input_texts, target_texts)):\n",
        "    for t, char in enumerate(input_text):\n",
        "        encoder_input_data[i, t] = input_token_index[char]\n",
        "    #encoder_input_data[i, t + 1 :] = input_token_index[\"P\"]\n",
        "    encoder_input_data[i, t + 1 :] = input_token_index[\" \"]\n",
        "\n",
        "    for t, char in enumerate(target_text):\n",
        "        # decoder_target_data is ahead of decoder_input_data by one timestep\n",
        "        decoder_input_data[i, t] = target_token_index[char]\n",
        "        if t > 0:\n",
        "            # decoder_target_data will be ahead by one timestep\n",
        "            # and will not include the start character.\n",
        "            decoder_target_data[i, t - 1, target_token_index[char]] = 1.0\n",
        "    #decoder_input_data[i, t + 1: ] = target_token_index[\"P\"]\n",
        "    decoder_input_data[i, t + 1: ] = target_token_index[\" \"]\n",
        "    #decoder_target_data[i, t:, target_token_index[\"P\"]] = 1.0\n",
        "    decoder_target_data[i, t:, target_token_index[\" \"]] = 1.0\n",
        "\n",
        "\n",
        "val_encoder_input_data = np.zeros(\n",
        "    (len(input_texts), val_max_encoder_seq_length), dtype=\"float32\"\n",
        ")\n",
        "val_decoder_input_data = np.zeros(\n",
        "    (len(input_texts), val_max_decoder_seq_length), dtype=\"float32\"\n",
        ")\n",
        "val_decoder_target_data = np.zeros(\n",
        "    (len(input_texts), val_max_decoder_seq_length, num_decoder_tokens), dtype=\"float32\"\n",
        ")\n",
        "\n",
        "for i, (input_text, target_text) in enumerate(zip(val_input_texts, val_target_texts)):\n",
        "    for t, char in enumerate(input_text):\n",
        "        val_encoder_input_data[i, t] = input_token_index[char]\n",
        "    #encoder_input_data[i, t + 1 :] = input_token_index[\"P\"]\n",
        "    val_encoder_input_data[i, t + 1 :] = input_token_index[\" \"]\n",
        "\n",
        "    for t, char in enumerate(target_text):\n",
        "        # decoder_target_data is ahead of decoder_input_data by one timestep\n",
        "        val_decoder_input_data[i, t] = target_token_index[char]\n",
        "        if t > 0:\n",
        "            # decoder_target_data will be ahead by one timestep\n",
        "            # and will not include the start character.\n",
        "            val_decoder_target_data[i, t - 1, target_token_index[char]] = 1.0\n",
        "    #decoder_input_data[i, t + 1: ] = target_token_index[\"P\"]\n",
        "    val_decoder_input_data[i, t + 1: ] = target_token_index[\" \"]\n",
        "    #decoder_target_data[i, t:, target_token_index[\"P\"]] = 1.0\n",
        "    val_decoder_target_data[i, t:, target_token_index[\" \"]] = 1.0\n",
        "\n",
        "\n"
      ],
      "execution_count": null,
      "outputs": []
    },
    {
      "cell_type": "code",
      "metadata": {
        "colab": {
          "base_uri": "https://localhost:8080/"
        },
        "id": "eOUdwNGG39qb",
        "outputId": "53dc2d0d-0e63-409e-fc44-cc601b72275d"
      },
      "source": [
        "reverse_input_char_index = dict((i, char) for char, i in input_token_index.items())\n",
        "reverse_target_char_index = dict((i, char) for char, i in target_token_index.items())\n",
        "print(reverse_target_char_index)"
      ],
      "execution_count": null,
      "outputs": [
        {
          "output_type": "stream",
          "text": [
            "{0: ' ', 1: 'B', 2: 'E', 3: 'ஃ', 4: 'அ', 5: 'ஆ', 6: 'இ', 7: 'ஈ', 8: 'உ', 9: 'ஊ', 10: 'எ', 11: 'ஏ', 12: 'ஐ', 13: 'ஒ', 14: 'ஓ', 15: 'க', 16: 'ங', 17: 'ச', 18: 'ஜ', 19: 'ஞ', 20: 'ட', 21: 'ண', 22: 'த', 23: 'ந', 24: 'ன', 25: 'ப', 26: 'ம', 27: 'ய', 28: 'ர', 29: 'ற', 30: 'ல', 31: 'ள', 32: 'ழ', 33: 'வ', 34: 'ஷ', 35: 'ஸ', 36: 'ஹ', 37: 'ா', 38: 'ி', 39: 'ீ', 40: 'ு', 41: 'ூ', 42: 'ெ', 43: 'ே', 44: 'ை', 45: 'ொ', 46: 'ோ', 47: 'ௌ', 48: '்'}\n"
          ],
          "name": "stdout"
        }
      ]
    },
    {
      "cell_type": "code",
      "metadata": {
        "colab": {
          "base_uri": "https://localhost:8080/"
        },
        "id": "vjskNaet7bgj",
        "outputId": "0efc07cc-c44c-4f25-e56e-b2a8b47b3a9a"
      },
      "source": [
        "print(encoder_input_data[1])\n",
        "print(decoder_input_data[1])\n",
        "print(decoder_target_data[1])"
      ],
      "execution_count": null,
      "outputs": [
        {
          "output_type": "stream",
          "text": [
            "[13.  1.  9. 25.  1.  0.  0.  0.  0.  0.  0.  0.  0.  0.  0.  0.  0.  0.\n",
            "  0.  0.  0.  0.  0.  0.  0.  0.  0.  0.  0.  0.]\n",
            "[ 1. 26. 44. 27.  2.  0.  0.  0.  0.  0.  0.  0.  0.  0.  0.  0.  0.  0.\n",
            "  0.  0.  0.  0.  0.  0.  0.  0.  0.  0.]\n",
            "[[0. 0. 0. ... 0. 0. 0.]\n",
            " [0. 0. 0. ... 0. 0. 0.]\n",
            " [0. 0. 0. ... 0. 0. 0.]\n",
            " ...\n",
            " [1. 0. 0. ... 0. 0. 0.]\n",
            " [1. 0. 0. ... 0. 0. 0.]\n",
            " [1. 0. 0. ... 0. 0. 0.]]\n"
          ],
          "name": "stdout"
        }
      ]
    },
    {
      "cell_type": "markdown",
      "metadata": {
        "id": "ui9pFxRvSdeT"
      },
      "source": [
        "For Validation and testing:"
      ]
    },
    {
      "cell_type": "code",
      "metadata": {
        "id": "UVGsHbTJn807",
        "colab": {
          "base_uri": "https://localhost:8080/"
        },
        "outputId": "a2cb32d0-11fc-440b-a435-1880f3a5a30a"
      },
      "source": [
        "#(TODO 2): Verify decoder input and target have an offset of one\n",
        "print(val_decoder_input_data[26])\n",
        "print(val_decoder_target_data[26])"
      ],
      "execution_count": null,
      "outputs": [
        {
          "output_type": "stream",
          "text": [
            "[ 1. 14. 16. 48. 15. 38.  2.  0.  0.  0.  0.  0.  0.  0.  0.  0.  0.  0.\n",
            "  0.  0.  0.  0.]\n",
            "[[0. 0. 0. ... 0. 0. 0.]\n",
            " [0. 0. 0. ... 0. 0. 0.]\n",
            " [0. 0. 0. ... 0. 0. 1.]\n",
            " ...\n",
            " [1. 0. 0. ... 0. 0. 0.]\n",
            " [1. 0. 0. ... 0. 0. 0.]\n",
            " [1. 0. 0. ... 0. 0. 0.]]\n"
          ],
          "name": "stdout"
        }
      ]
    },
    {
      "cell_type": "code",
      "metadata": {
        "id": "X7q6xNssrRwb"
      },
      "source": [
        "x_test = val_encoder_input_data\n",
        "y_test = val_target_texts"
      ],
      "execution_count": null,
      "outputs": []
    },
    {
      "cell_type": "markdown",
      "metadata": {
        "id": "QnNou1PDNIwb"
      },
      "source": [
        "Configuring the Sweep Hyperparameter dictionary"
      ]
    },
    {
      "cell_type": "markdown",
      "metadata": {
        "id": "zXTFnlQ8NyU1"
      },
      "source": [
        "Defining the model"
      ]
    },
    {
      "cell_type": "code",
      "metadata": {
        "id": "AvI1fI7UOPMT"
      },
      "source": [
        "class MyRNN(object):\n",
        "  def __init__(self,cell_type = 'RNN',in_emb = 32, hidden_size=32, learning_rate= 1e-3, \n",
        "               dropout=0.4,pred_type ='greedy',epochs = 10, batch_size = 32,beam_width = 5,\n",
        "               num_enc = 1,num_dec = 1):\n",
        "    \n",
        "    self.cell_type = cell_type\n",
        "    self.in_emb = in_emb\n",
        "    self.hidden_size = hidden_size\n",
        "    self.learning_rate = learning_rate\n",
        "    self.dropout = dropout\n",
        "    self.pred_type = pred_type\n",
        "    self.epochs = epochs\n",
        "    self.batch_size = batch_size\n",
        "    self.beam_width = beam_width\n",
        "    self.num_enc = num_enc\n",
        "    self.num_dec = num_dec\n",
        "\n",
        "  def build_fit(self,encoder_input_data,decoder_input_data,decoder_target_data,x_test, y_test):\n",
        "    # Define an input sequence and process it.\n",
        "    encoder_inputs = Input(shape=(None, ),name = 'Enc_inputs')\n",
        "\n",
        "    # Add an Embedding layer expecting input vocab of size num_encoder_tokens, and\n",
        "    # output embedding dimension of size in_enc.\n",
        "    enc_emb =  Embedding(num_encoder_tokens, self.in_emb , mask_zero = True,name = 'Enc_emb')(encoder_inputs)\n",
        "\n",
        "    encoder_outputs = enc_emb\n",
        "    if self.cell_type == 'LSTM':\n",
        "      encoder_lstm = LSTM(self.hidden_size, return_state=True,dropout = self.dropout, return_sequences=True, name=\"Enc_hidden_1\")\n",
        "      encoder_outputs, state_h, state_c = encoder_lstm(encoder_outputs)\n",
        "      encoder_states = [state_h, state_c]\n",
        "\n",
        "      # Add a LSTM layer with hidden_size internal units.\n",
        "      for i in range( 2, self.num_enc +1):\n",
        "        layer_name = ('Enc_hidden_%d') %i\n",
        "\n",
        "        encoder_lstm = LSTM(self.hidden_size, return_state=True,dropout = self.dropout, return_sequences=True, name=layer_name)\n",
        "        encoder_outputs, state_h, state_c = encoder_lstm(encoder_outputs,initial_state = encoder_states)\n",
        "        encoder_states = [state_h, state_c]\n",
        "\n",
        "    elif self.cell_type == 'GRU':\n",
        "      encoder_gru = GRU(self.hidden_size, return_state=True,dropout = self.dropout, return_sequences=True, name=\"Enc_hidden_1\")\n",
        "      encoder_outputs, state_h = encoder_gru(encoder_outputs)\n",
        "      encoder_states = [state_h]\n",
        "\n",
        "      for i in range(2, self.num_enc +1):\n",
        "        layer_name = ('Enc_hidden_%d') %i\n",
        "        encoder_gru = GRU(self.hidden_size, return_state=True,dropout = self.dropout, return_sequences=True, name=layer_name)\n",
        "        encoder_outputs, state_h = encoder_gru(encoder_outputs, initial_state = encoder_states)\n",
        "        encoder_states = [state_h]  \n",
        "\n",
        "    elif self.cell_type == 'RNN':\n",
        "      encoder_rnn = SimpleRNN(self.hidden_size, return_state=True,dropout = self.dropout, return_sequences=True, name=\"Enc_hidden_1\")\n",
        "      encoder_outputs, state_h = encoder_rnn(encoder_outputs)\n",
        "      encoder_states = [state_h]\n",
        "\n",
        "      for i in range(2, self.num_enc +1):\n",
        "        layer_name = ('Enc_hidden_%d') %i\n",
        "        encoder_rnn = SimpleRNN(self.hidden_size, return_state=True,dropout = self.dropout, return_sequences=True, name=layer_name)\n",
        "        encoder_outputs, state_h = encoder_rnn(encoder_outputs, initial_state = encoder_states)\n",
        "        encoder_states = [state_h]  \n",
        "\n",
        "    # Set up the decoder, using `encoder_states` as initial state.\n",
        "    decoder_inputs = Input(shape=(None,), name = 'Dec_inputs')\n",
        "    dec_emb_layer = Embedding(num_decoder_tokens, self.hidden_size, mask_zero = True, name = 'Dec_emb')\n",
        "    dec_emb = dec_emb_layer(decoder_inputs)\n",
        "    # We set up our decoder to return full output sequences,\n",
        "    # and to return internal states as well. We don't use the\n",
        "    # return states in the training model, but we will use them in inference.\n",
        "    decoder_outputs = dec_emb\n",
        "    if self.cell_type == 'LSTM':\n",
        "      decoder_lstm = LSTM(self.hidden_size, return_sequences=True, return_state=True,dropout = self.dropout, name=\"Dec_hidden_1\")\n",
        "      decoder_outputs, _, _ = decoder_lstm(decoder_outputs, initial_state = encoder_states)\n",
        "      \n",
        "      for i in range(2, self.num_dec +1):\n",
        "        layer_name = ('Dec_hidden_%d') %i\n",
        "\n",
        "        decoder_lstm = LSTM(self.hidden_size, return_sequences=True, return_state=True,dropout = self.dropout, name=layer_name)\n",
        "        decoder_outputs, _, _ = decoder_lstm(decoder_outputs, initial_state = encoder_states)\n",
        "\n",
        "    elif self.cell_type == 'GRU':\n",
        "      decoder_gru = GRU(self.hidden_size, return_sequences=True, return_state=True,dropout = self.dropout, name=\"Dec_hidden_1\")\n",
        "      decoder_outputs, _ = decoder_gru(decoder_outputs, initial_state = encoder_states)\n",
        "\n",
        "      for i in range(2, self.num_dec+1):\n",
        "        layer_name = ('Dec_hidden_%d') %i\n",
        "        decoder_gru = GRU(self.hidden_size, return_sequences=True, return_state=True,dropout = self.dropout, name=layer_name)\n",
        "        decoder_outputs, _ = decoder_gru(decoder_outputs, initial_state = encoder_states)\n",
        "\n",
        "    elif self.cell_type == 'RNN':\n",
        "      decoder_rnn = SimpleRNN(self.hidden_size, return_sequences=True, return_state=True,dropout = self.dropout, name=\"Dec_hidden_1\")\n",
        "      decoder_outputs, _ = decoder_rnn(decoder_outputs, initial_state = encoder_states)\n",
        "\n",
        "      for i in range(2, self.num_dec+1):\n",
        "        layer_name = ('Dec_hidden_%d') %i\n",
        "        decoder_rnn = SimpleRNN(self.hidden_size, return_sequences=True, return_state=True,dropout = self.dropout, name=layer_name)\n",
        "        decoder_outputs, _ = decoder_rnn(decoder_outputs, initial_state = encoder_states)\n",
        "\n",
        "    decoder_dense = Dense(num_decoder_tokens, activation='softmax', name = 'dense')\n",
        "    decoder_outputs = decoder_dense(decoder_outputs)\n",
        "\n",
        "    # Define the model that takes encoder and decoder input \n",
        "    # to output decoder_outputs\n",
        "    model = Model([encoder_inputs, decoder_inputs], decoder_outputs)\n",
        "\n",
        "    model.summary()\n",
        "\n",
        "    #plot_model(model, to_file='model.png', show_shapes=True)\n",
        "    \n",
        "    # Define the optimizer\n",
        "    optimizer = Adam(lr=self.learning_rate, beta_1=0.9, beta_2=0.999)\n",
        "    model.compile(loss = \"categorical_crossentropy\", optimizer = optimizer, metrics=['accuracy'])\n",
        "  \n",
        "    model.fit(\n",
        "        [encoder_input_data, decoder_input_data],\n",
        "        decoder_target_data,\n",
        "        batch_size=self.batch_size,\n",
        "        epochs=self.epochs,\n",
        "        callbacks = [WandbCallback()]\n",
        "        )\n",
        "    \n",
        "    #model.save(\"s2s\")\n",
        "    \n",
        "    #model = keras.models.load_model(\"s2s\")\n",
        "    \n",
        "    encoder_model,decoder_model = self.inference_model(model)\n",
        " \n",
        "    global_total = 0\n",
        "    global_correct = 0\n",
        "    for i in range(len(valid_source)):\n",
        "      #input_seq = val_encoder_input_data[i : i + 1]\n",
        "      input_seq = x_test[i : i + 1]\n",
        "      result = self.decode_sequence(encoder_model,decoder_model,input_seq)\n",
        "      #target = val_target_texts[i]\n",
        "      target = y_test[i]\n",
        "      target = target[1:len(target)-1]\n",
        "      result = result[0:len(result)-1]\n",
        "      #print(\"Target: %s \\n Result: %s\" % (target, result))\n",
        "\n",
        "      if result.strip() == target.strip():\n",
        "        global_correct = global_correct + 1\n",
        "      \n",
        "      global_total = global_total + 1\n",
        "      accuracy_epoch = global_correct/global_total\n",
        "      if global_total % 50 == 0:\n",
        "        wandb.log({'epoch_accuracy' : accuracy_epoch})\n",
        "      #print(\"Accuracy: %s\" % (accuracy_epoch))\n",
        "    \n",
        "    val_accuracy = global_correct/global_total\n",
        "    #print(val_accuracy)\n",
        "\n",
        "\n",
        "    wandb.log({'val_accuracy' : val_accuracy})\n",
        "    \n",
        "  def inference_model(self,model):\n",
        "    encoder_inputs = model.input[0]  # input_1\n",
        "    if self.cell_type == 'RNN' or self.cell_type == 'GRU':\n",
        "      encoder_outputs, state_h_enc = model.get_layer('Enc_hidden_'+ str(self.num_enc)).output\n",
        "      encoder_states = [state_h_enc]\n",
        "      encoder_model = Model(encoder_inputs, encoder_states)\n",
        "\n",
        "      decoder_inputs = model.input[1]  # input_1\n",
        "      decoder_outputs = model.get_layer('Dec_emb')(decoder_inputs)\n",
        "      decoder_states_inputs = []\n",
        "      decoder_states = []\n",
        "\n",
        "      for i in range(1,self.num_dec +1):\n",
        "        decoder_state_input_h = keras.Input(shape=(self.hidden_size,))\n",
        "        curr_states_inputs = [decoder_state_input_h]\n",
        "        decoder = model.get_layer('Dec_hidden_'+ str(i))\n",
        "        decoder_outputs, state_h_dec = decoder(decoder_outputs, initial_state=curr_states_inputs)\n",
        "\n",
        "        decoder_states += [state_h_dec]\n",
        "        decoder_states_inputs += curr_states_inputs\n",
        "\n",
        "    elif self.cell_type == 'LSTM':\n",
        "      encoder_outputs, state_h_enc, state_c_enc = model.get_layer('Enc_hidden_'+ str(self.num_enc)).output  # lstm_1\n",
        "      encoder_states = [state_h_enc, state_c_enc]\n",
        "      encoder_model = Model(encoder_inputs, encoder_states)\n",
        "\n",
        "      decoder_inputs = model.input[1]  # input_1\n",
        "      decoder_outputs = model.get_layer('Dec_emb')(decoder_inputs)\n",
        "      decoder_states_inputs = []\n",
        "      decoder_states = []\n",
        "\n",
        "      for i in range(1,self.num_dec +1):\n",
        "        decoder_state_input_h = keras.Input(shape=(self.hidden_size,))\n",
        "        decoder_state_input_c = keras.Input(shape=(self.hidden_size,))\n",
        "        curr_states_inputs = [decoder_state_input_h, decoder_state_input_c]\n",
        "        decoder = model.get_layer('Dec_hidden_'+ str(i))\n",
        "        decoder_outputs, state_h_dec, state_c_dec = decoder(decoder_outputs, initial_state=curr_states_inputs)\n",
        "\n",
        "        decoder_states += [state_h_dec, state_c_dec]\n",
        "        decoder_states_inputs += curr_states_inputs\n",
        "\n",
        "\n",
        "    decoder_dense = model.get_layer('dense')\n",
        "    decoder_outputs = decoder_dense(decoder_outputs)\n",
        "    decoder_model = Model([decoder_inputs] + decoder_states_inputs, [decoder_outputs] + decoder_states)\n",
        "\n",
        "    return encoder_model,decoder_model\n",
        "\n",
        "  def decode_sequence(self,encoder_model,decoder_model,input_seq):\n",
        "    # Encode the input as state vectors.\n",
        "    states_value = [encoder_model.predict(input_seq)] * self.num_dec\n",
        "    \n",
        "    # Generate empty target sequence of length 1.\n",
        "    target_seq = np.zeros((1, 1))\n",
        "    # Populate the first character of target sequence with the start character.\n",
        "    target_seq[0, 0] = target_token_index['B']\n",
        "\n",
        "    # Sampling loop for a batch of sequences\n",
        "    # (to simplify, here we assume a batch of size 1).\n",
        "    stop_condition = False\n",
        "    decoded_sentence = \"\"\n",
        "\n",
        "    while not stop_condition:\n",
        "        if self.cell_type == 'RNN' or self.cell_type == 'GRU':\n",
        "          dummy = decoder_model.predict([target_seq] + [states_value])\n",
        "          output_tokens, states_value = dummy[0],dummy[1:]\n",
        "          \n",
        "        elif self.cell_type == 'LSTM':  \n",
        "          dummy = decoder_model.predict([target_seq] + states_value)\n",
        "          output_tokens, states_value = dummy[0],dummy[1:]\n",
        "        \n",
        "        #print(output_tokens[0,:,:])\n",
        "        if self.pred_type == 'greedy':\n",
        "          beam_w = 1\n",
        "        elif self.pred_type == 'beam_search':\n",
        "          beam_w = self.beam_width\n",
        "        sampled_token_index = self.beam_search_decoder(output_tokens[0,:,:], beam_w)\n",
        "        sampled_token_index = sampled_token_index[beam_w-1][0]\n",
        "\n",
        "        # Sample a token\n",
        "        sampled_token_index = np.argmax(output_tokens[0, -1, :])\n",
        "        sampled_char = reverse_target_char_index[sampled_token_index]\n",
        "        decoded_sentence += sampled_char\n",
        "\n",
        "        # Exit condition: either hit max length\n",
        "        # or find stop character.\n",
        "        if sampled_char == 'E' or len(decoded_sentence) > max_decoder_seq_length:\n",
        "            stop_condition = True\n",
        "\n",
        "        # Update the target sequence (of length 1).\n",
        "        target_seq = np.zeros((1, 1))\n",
        "        target_seq[0, 0] = sampled_token_index\n",
        "\n",
        "        # Update state\n",
        "\n",
        "    return decoded_sentence\n",
        "  \n",
        "  def beam_search_decoder(self,data, k):\n",
        "    sequences = [[list(), 0.0]]\n",
        "    # walk over each step in sequence\n",
        "    for row in data:\n",
        "      all_candidates = list()\n",
        "      # expand each current candidate\n",
        "      for i in range(len(sequences)):\n",
        "        seq, score = sequences[i]\n",
        "        for j in range(len(row)):\n",
        "          candidate = [seq + [j], score - log(row[j])]\n",
        "          #candidate = [seq + [j], score - log1p(row[j])]\n",
        "          all_candidates.append(candidate)\n",
        "      # order all candidates by score\n",
        "      ordered = sorted(all_candidates, key=lambda tup:tup[1])\n",
        "      # select k best\n",
        "      sequences = ordered[:k]\n",
        "    return sequences"
      ],
      "execution_count": null,
      "outputs": []
    },
    {
      "cell_type": "markdown",
      "metadata": {
        "id": "lpH2nJGdCcZ0"
      },
      "source": [
        "Sweep"
      ]
    },
    {
      "cell_type": "code",
      "metadata": {
        "id": "y6v4kKgONH4q"
      },
      "source": [
        "sweep_config = {\n",
        "    'method': 'bayes', \n",
        "    'metric': {\n",
        "      'name': 'val_accuracy',\n",
        "      'goal': 'maximize'   \n",
        "    },\n",
        "    'parameters': {\n",
        "\n",
        "        'dropout': {\n",
        "            'values': [0.0, 0.1, 0.2]\n",
        "        },\n",
        "        'learning_rate': {\n",
        "            'values': [1e-3, 1e-4]\n",
        "        },\n",
        "        'batch_size': {\n",
        "            'values': [64, 128]\n",
        "        },\n",
        "        'in_emb': {\n",
        "            'values': [32, 64, 128]\n",
        "        },\n",
        "        'num_enc': {\n",
        "            'values': [1, 2, 3]\n",
        "        },\n",
        "        'num_dec': {\n",
        "            'values': [1, 2, 3]\n",
        "        },\n",
        "        'hidden_size':{\n",
        "            'values': [32, 64, 128]\n",
        "        },\n",
        "        'cell_type': {\n",
        "            'values': ['RNN', 'GRU', 'LSTM']\n",
        "        },\n",
        "        'dec_search': {\n",
        "            'values': ['beam_search', 'greedy']\n",
        "        },\n",
        "        'beam_width':{\n",
        "            'values': [3,5]\n",
        "        }\n",
        "    }\n",
        "}"
      ],
      "execution_count": null,
      "outputs": []
    },
    {
      "cell_type": "code",
      "metadata": {
        "id": "dC0C9Ol8QcW5"
      },
      "source": [
        "# Initialize a new sweep\n",
        "#sweep_id = wandb.sweep(sweep_config, entity=\"cs6910assignment3\", project=\"RNN\")"
      ],
      "execution_count": null,
      "outputs": []
    },
    {
      "cell_type": "code",
      "metadata": {
        "id": "5QeYGKXmlKHr"
      },
      "source": [
        "def train_sweep():\n",
        "  config_defaults = {\n",
        "        'dropout': 0.4,\n",
        "        'learning_rate': 1e-3,\n",
        "        'batch_size': 32,\n",
        "        'epochs' : 15,\n",
        "        'in_emb': 32,\n",
        "        'num_enc': 2,\n",
        "        'num_dec': 2,\n",
        "        'hidden_size': 32,\n",
        "        'cell_type': 'RNN',\n",
        "        'dec_search': 'beam_search',\n",
        "        'beam_width': 5\n",
        "        }\n",
        "\n",
        "  # Initialize a new wandb run\n",
        "  wandb.init(config = config_defaults)\n",
        "  \n",
        "  # Config is a variable that holds and saves hyperparameters and inputs\n",
        "  config = wandb.config\n",
        "\n",
        "  wandb.run.name = str(config.cell_type)+ '_' + config.dec_search+'_bs_'+str(config.batch_size)\n",
        "  \n",
        "  model_rnn = MyRNN(cell_type = config.cell_type, in_emb = config.in_emb, hidden_size=config.hidden_size,\n",
        "                learning_rate= config.learning_rate, dropout=config.dropout,pred_type = config.dec_search,epochs = config.epochs,\n",
        "                batch_size = config.batch_size, beam_width = config.beam_width, num_enc = config.num_enc,num_dec = config.num_dec)\n",
        "  \n",
        "  model_rnn.build_fit(encoder_input_data,decoder_input_data,decoder_target_data,x_test, y_test)"
      ],
      "execution_count": null,
      "outputs": []
    },
    {
      "cell_type": "code",
      "metadata": {
        "colab": {
          "base_uri": "https://localhost:8080/",
          "height": 1000,
          "referenced_widgets": [
            "824470598f4b43b1a770364ebb57bd90",
            "e4b164016e76446788a3a107399673f4",
            "4ef3004583fd4e1ab6dff5c6b41ec818",
            "869affbb689842388dc6ff4ee6b2ab4f",
            "d1d46eede7f94472b25b3c7bc81c83e0",
            "97f0397bc44548c9a88fd36b95ff6544",
            "e5234ce454384faf9b656f0f588fcb52",
            "cb6e13fe21204f8680e114d2a2590ce6",
            "ccb4ec1bebe24666ac7c0d30836a2ba2",
            "51920f90762d4aa88992d8a5918834ce",
            "8356551c004340bea8628722e237b0fb",
            "e713bee736af4f68bc40778afcb7d49f",
            "c9b242acb7c7404784d228862e99a0b3",
            "d6aa798bfe974889a46a9ceeefcfb147",
            "adb6b523a59e4faaadf8474e07263ac0",
            "4e49604f63494e6baa0688743fdc9f32",
            "73852ba02ce148e9b263a6d211ea2331",
            "4d3b3035fbca4e7fbfb6af553baf7b30",
            "6b336789469f4fc7b1065f6639b610d6",
            "23064ede5b774d6996f5b8f7e5df69ec",
            "37865438e33f41b7895a8d194c2b07c8",
            "f9e4576261d3410eb335c3b254a65039",
            "beb26b15fbd1438497c3d8bbdeb0aee9",
            "b3b124e1be0946e89addef00ee8f55be",
            "c4ed9f5eddc241928627413e9a1331da",
            "4fec1be4b4844151898b61e82235792c",
            "62cf16fd372c48bfa05d20232ba4455b",
            "e2303a6861f7424e9f56e01a0d34f851",
            "985135f5541c4a32be55e9c8df798c66",
            "bb9789c26ba84ab381c39bb1ddbab356",
            "c5e762d185854f37aa1ba6371bc0d258",
            "6aa179717209441783029b4ee01f6ca5",
            "ffa197d01cd14ff5bc6bd7f3fc9fb3b8",
            "0d874eda63444d45ae2b2ec8b82ec9c8",
            "3e8f44bb5efa42f487599b2eac42be9c",
            "a4ece0c19ee74d7a975f6048afb556b3",
            "4bb0c5e9d3784800afd09c47bc16d35b",
            "f8d15bed2aa841628cd11cfc3ffbb530",
            "66bd1c74fe0b492e92664e98e8167f0b",
            "2c6ace39417949aeaf7864ce2161d36c",
            "e23fc9c8b5a444bf99ae3f6d1fda9698",
            "8bb1c0dfbae24cc08d1b24ecd26d9192",
            "b4f01a1ab6954c268820308105ce1ef3",
            "5d857eaf4c2446a6a492dc721a6b790d",
            "d14495674e6c45fd9b182f51f2f35257",
            "7500d9f5ee4544c49b6b8701f5ae5909",
            "10832577bf1b420b9714b6a9b94fd5a2",
            "cd4e126231d84bcb91b6b8fd3451ba70",
            "363cc287dfce4add8650ed98a5a7e39c",
            "8048f67203ad4dec98065468ad610ae5",
            "ab227055aac64036993d43335fbb49e0",
            "844048999db047119a13ec7a82359bdd",
            "65f7157b401f489da551c6b924c2206b",
            "b3feddfdcf9c400492a3c9b2cfc80450",
            "f4521b90e08e44a38b6ac0d3ac4f8c9a",
            "273d5c74f6e74ac2b53a222f3a0c90ac",
            "363468060a3c4c669799960f7cf3d8eb",
            "3dd02592c4b6417e9164e0a3ed369ed3",
            "262e2625d085478d9b9058037d634218",
            "f8924faf6e894209bb17f179924ba32c",
            "13b1c9452c704b2d95631364ba5f907f",
            "df2c27a55a02402781e2ea90a77abc32",
            "b41e1f91c77b4cd886d8775a5d2397fe",
            "2041cf43ab9f412d929ea604b475a4a4",
            "d7ceace38b0e4d2e844a3bc8a5892dd3",
            "998908faf42443ae977f9ddb4b49d95a",
            "a4efd6e729ba4a6d91eb3cc412866d3f",
            "bb4e087e1c2c4859b238e876fec51890",
            "7882c56454a246c69be204db25bf030b",
            "4b2579d7a3b14ac0a310cd790ad5fd7f",
            "2284b5492e8d4b9bad05d1d515a211e3",
            "11adbb2ac6744f549eeb4abdac19dd99",
            "7fe30f2d0c7b463792fcf04c7b073371",
            "3443abd952e143fa82772b37d0627c5e",
            "d9507cf6580e4a7eb4385e361ea39607",
            "aa51288c896443d7a166ff09ea05ebd5",
            "d97d6f4c29c449108c3a3a149b0ee835",
            "3751364af36f4de0a93531d87b259490",
            "b96e5d4c23fb4b03900531fea3cfce60",
            "5c582efcc6b04bf98871e41ae49d9629",
            "553d0146e10c46218cde12c68dda26d2",
            "b0bc5e9804b34d97a5110caa49faf94b",
            "45de4e5f0634437f8d888e9a2e6093ef",
            "06d12a2f2c744ba887f17b144e88e824",
            "4750caa0f7fb4459b4dce9abae00f1e1",
            "6e532fd4d39f4eaca853d0ca297a2d54",
            "924f579e4ca34ee1ae8145670f5b8eb5",
            "c826c464700843a59ebf81ce9e8e31ba",
            "894efac1c46141f7a2fdd333345b85b3",
            "3f93e1e403ab4a728204638ba48ee213",
            "83647d189c2e47168b607015413889a6",
            "a3877c546e044ddc907262035776bbd9",
            "15dd90e7d65c4b428c212e71392b114f",
            "a661f134bf584f7ab12d602b82a3aeeb",
            "12c03dfd0acd45ad9e7b79283ee6dc19",
            "14d773b4c660424d9cd4d0f63d0ab0ad",
            "89499ac1793c43bc90b065e5daf0d573",
            "ed2ba2a8e1e44663843088198f6314a3",
            "aa8bba6fcb33408e8e1bfd52617e9ba1",
            "96220686e9bf4eeba96304154179bbf0",
            "9c7009ba73cb4ad2a4b2ebe263446655",
            "7e189d307cd040498af1817189a7dde1",
            "943cfbb3287646fdb15e7e1538dfb4d6",
            "4f33736b495940f1bb0eed24fc2cac59",
            "72fdfe2cf72f411d96d1e17c5a21e25e",
            "5c3be6715b6248759f15da2cb6baef6b",
            "7f0322df1582450eb04d495ff1d88474",
            "aa610b7f12d74106be90d3b5062677ad",
            "2ae29e70412b41b3afd0da6150af95f7",
            "812c7df24aea414090aaca81c81f70ee",
            "8eca7f1c5d2141ad8ed20ae69d445e5c",
            "dad2f4d4bb244c05b80a478924f499f5",
            "7a5ef9126d0c4630a042a142eca0b544",
            "edacf4a65fa741a3a01249c630f015d0",
            "8c5e98959b2b47b6b967777e16590687",
            "9b2c35695cc74a3987f9251e0cef18ec",
            "570c88eedec3448fac83d7e0e81e7dea",
            "3c55f2a3ec2746c8b4a418871b220fec",
            "75d56ef8971e4b99a08cf1f0a60f74a3",
            "a71404144ed44bc0b2c7a6b8ba534bb5",
            "fc4753a9511549f4b9632ec469f50167",
            "88205ce408d0451e9efcbfc4ffef21cc",
            "26b19eb16971446db57d164aa854693e",
            "3b98d0cbd2ce48a097b177d5cd230e19",
            "ff2aac32a97e4a1a8d0f17b939cf3ab0",
            "6f6fec5a204b4311b1e48af6a886a6be",
            "4d971a39fe0f460ca583d6ad3a3348be",
            "e6191b93eb0e4656b268f612b775f8bf"
          ]
        },
        "id": "kzx3bHH1_1M3",
        "outputId": "4d4c0d67-8052-42a2-8c1c-f4dbfec44b4a"
      },
      "source": [
        "#wandb.agent(sweep_id, train_sweep,count=100)\n",
        "wandb.agent(\"auh90ups\", entity=\"cs6910assignment3\",project=\"RNN\", function =train_sweep,count=100)"
      ],
      "execution_count": null,
      "outputs": [
        {
          "output_type": "stream",
          "text": [
            "\u001b[34m\u001b[1mwandb\u001b[0m: Agent Starting Run: aat76fyu with config:\n",
            "\u001b[34m\u001b[1mwandb\u001b[0m: \tbatch_size: 128\n",
            "\u001b[34m\u001b[1mwandb\u001b[0m: \tbeam_width: 3\n",
            "\u001b[34m\u001b[1mwandb\u001b[0m: \tcell_type: RNN\n",
            "\u001b[34m\u001b[1mwandb\u001b[0m: \tdec_search: greedy\n",
            "\u001b[34m\u001b[1mwandb\u001b[0m: \tdropout: 0\n",
            "\u001b[34m\u001b[1mwandb\u001b[0m: \thidden_size: 64\n",
            "\u001b[34m\u001b[1mwandb\u001b[0m: \tin_emb: 32\n",
            "\u001b[34m\u001b[1mwandb\u001b[0m: \tlearning_rate: 0.0001\n",
            "\u001b[34m\u001b[1mwandb\u001b[0m: \tnum_dec: 2\n",
            "\u001b[34m\u001b[1mwandb\u001b[0m: \tnum_enc: 2\n",
            "\u001b[34m\u001b[1mwandb\u001b[0m: Currently logged in as: \u001b[33mcs6910assignment3\u001b[0m (use `wandb login --relogin` to force relogin)\n"
          ],
          "name": "stderr"
        },
        {
          "output_type": "display_data",
          "data": {
            "text/html": [
              "\n",
              "                Tracking run with wandb version 0.10.30<br/>\n",
              "                Syncing run <strong style=\"color:#cdcd00\">fine-sweep-5</strong> to <a href=\"https://wandb.ai\" target=\"_blank\">Weights & Biases</a> <a href=\"https://docs.wandb.com/integrations/jupyter.html\" target=\"_blank\">(Documentation)</a>.<br/>\n",
              "                Project page: <a href=\"https://wandb.ai/cs6910assignment3/RNN\" target=\"_blank\">https://wandb.ai/cs6910assignment3/RNN</a><br/>\n",
              "                Sweep page: <a href=\"https://wandb.ai/cs6910assignment3/RNN/sweeps/auh90ups\" target=\"_blank\">https://wandb.ai/cs6910assignment3/RNN/sweeps/auh90ups</a><br/>\n",
              "Run page: <a href=\"https://wandb.ai/cs6910assignment3/RNN/runs/aat76fyu\" target=\"_blank\">https://wandb.ai/cs6910assignment3/RNN/runs/aat76fyu</a><br/>\n",
              "                Run data is saved locally in <code>/content/wandb/run-20210510_172148-aat76fyu</code><br/><br/>\n",
              "            "
            ],
            "text/plain": [
              "<IPython.core.display.HTML object>"
            ]
          },
          "metadata": {
            "tags": []
          }
        },
        {
          "output_type": "stream",
          "text": [
            "Model: \"model\"\n",
            "__________________________________________________________________________________________________\n",
            "Layer (type)                    Output Shape         Param #     Connected to                     \n",
            "==================================================================================================\n",
            "Enc_inputs (InputLayer)         [(None, None)]       0                                            \n",
            "__________________________________________________________________________________________________\n",
            "Enc_emb (Embedding)             (None, None, 32)     864         Enc_inputs[0][0]                 \n",
            "__________________________________________________________________________________________________\n",
            "Dec_inputs (InputLayer)         [(None, None)]       0                                            \n",
            "__________________________________________________________________________________________________\n",
            "Enc_hidden_1 (SimpleRNN)        [(None, None, 64), ( 6208        Enc_emb[0][0]                    \n",
            "__________________________________________________________________________________________________\n",
            "Dec_emb (Embedding)             (None, None, 64)     3136        Dec_inputs[0][0]                 \n",
            "__________________________________________________________________________________________________\n",
            "Enc_hidden_2 (SimpleRNN)        [(None, None, 64), ( 8256        Enc_hidden_1[0][0]               \n",
            "                                                                 Enc_hidden_1[0][1]               \n",
            "__________________________________________________________________________________________________\n",
            "Dec_hidden_1 (SimpleRNN)        [(None, None, 64), ( 8256        Dec_emb[0][0]                    \n",
            "                                                                 Enc_hidden_2[0][1]               \n",
            "__________________________________________________________________________________________________\n",
            "Dec_hidden_2 (SimpleRNN)        [(None, None, 64), ( 8256        Dec_hidden_1[0][0]               \n",
            "                                                                 Enc_hidden_2[0][1]               \n",
            "__________________________________________________________________________________________________\n",
            "dense (Dense)                   (None, None, 49)     3185        Dec_hidden_2[0][0]               \n",
            "==================================================================================================\n",
            "Total params: 38,161\n",
            "Trainable params: 38,161\n",
            "Non-trainable params: 0\n",
            "__________________________________________________________________________________________________\n",
            "Epoch 1/15\n",
            "533/533 [==============================] - 55s 97ms/step - loss: 1.2690 - accuracy: 0.1824\n",
            "Epoch 2/15\n",
            "533/533 [==============================] - 51s 96ms/step - loss: 0.9189 - accuracy: 0.3637\n",
            "Epoch 3/15\n",
            "533/533 [==============================] - 51s 96ms/step - loss: 0.8065 - accuracy: 0.4164\n",
            "Epoch 4/15\n",
            "533/533 [==============================] - 51s 97ms/step - loss: 0.7506 - accuracy: 0.4477\n",
            "Epoch 5/15\n",
            "533/533 [==============================] - 51s 96ms/step - loss: 0.7188 - accuracy: 0.4675\n",
            "Epoch 6/15\n",
            "533/533 [==============================] - 51s 96ms/step - loss: 0.6897 - accuracy: 0.4875\n",
            "Epoch 7/15\n",
            "533/533 [==============================] - 51s 96ms/step - loss: 0.6665 - accuracy: 0.5099\n",
            "Epoch 8/15\n",
            "533/533 [==============================] - 51s 95ms/step - loss: 0.6461 - accuracy: 0.5271\n",
            "Epoch 9/15\n",
            "533/533 [==============================] - 51s 96ms/step - loss: 0.6282 - accuracy: 0.5383\n",
            "Epoch 10/15\n",
            "533/533 [==============================] - 51s 95ms/step - loss: 0.6132 - accuracy: 0.5481\n",
            "Epoch 11/15\n",
            "533/533 [==============================] - 51s 95ms/step - loss: 0.6001 - accuracy: 0.5576\n",
            "Epoch 12/15\n",
            "533/533 [==============================] - 51s 95ms/step - loss: 0.5870 - accuracy: 0.5668\n",
            "Epoch 13/15\n",
            "533/533 [==============================] - 51s 95ms/step - loss: 0.5738 - accuracy: 0.5750\n",
            "Epoch 14/15\n",
            "533/533 [==============================] - 51s 95ms/step - loss: 0.5634 - accuracy: 0.5830\n",
            "Epoch 15/15\n",
            "533/533 [==============================] - 51s 96ms/step - loss: 0.5518 - accuracy: 0.5908\n"
          ],
          "name": "stdout"
        },
        {
          "output_type": "display_data",
          "data": {
            "text/html": [
              "<br/>Waiting for W&B process to finish, PID 93089<br/>Program ended successfully."
            ],
            "text/plain": [
              "<IPython.core.display.HTML object>"
            ]
          },
          "metadata": {
            "tags": []
          }
        },
        {
          "output_type": "display_data",
          "data": {
            "application/vnd.jupyter.widget-view+json": {
              "model_id": "824470598f4b43b1a770364ebb57bd90",
              "version_minor": 0,
              "version_major": 2
            },
            "text/plain": [
              "VBox(children=(Label(value=' 0.08MB of 0.08MB uploaded (0.00MB deduped)\\r'), FloatProgress(value=1.0, max=1.0)…"
            ]
          },
          "metadata": {
            "tags": []
          }
        },
        {
          "output_type": "display_data",
          "data": {
            "text/html": [
              "Find user logs for this run at: <code>/content/wandb/run-20210510_172148-aat76fyu/logs/debug.log</code>"
            ],
            "text/plain": [
              "<IPython.core.display.HTML object>"
            ]
          },
          "metadata": {
            "tags": []
          }
        },
        {
          "output_type": "display_data",
          "data": {
            "text/html": [
              "Find internal logs for this run at: <code>/content/wandb/run-20210510_172148-aat76fyu/logs/debug-internal.log</code>"
            ],
            "text/plain": [
              "<IPython.core.display.HTML object>"
            ]
          },
          "metadata": {
            "tags": []
          }
        },
        {
          "output_type": "display_data",
          "data": {
            "text/html": [
              "<h3>Run summary:</h3><br/><style>\n",
              "    table.wandb td:nth-child(1) { padding: 0 10px; text-align: right }\n",
              "    </style><table class=\"wandb\">\n",
              "<tr><td>epoch</td><td>14</td></tr><tr><td>loss</td><td>0.5483</td></tr><tr><td>accuracy</td><td>0.59317</td></tr><tr><td>_runtime</td><td>3509</td></tr><tr><td>_timestamp</td><td>1620670817</td></tr><tr><td>_step</td><td>151</td></tr><tr><td>epoch_accuracy</td><td>0.00191</td></tr><tr><td>val_accuracy</td><td>0.0019</td></tr></table>"
            ],
            "text/plain": [
              "<IPython.core.display.HTML object>"
            ]
          },
          "metadata": {
            "tags": []
          }
        },
        {
          "output_type": "display_data",
          "data": {
            "text/html": [
              "<h3>Run history:</h3><br/><style>\n",
              "    table.wandb td:nth-child(1) { padding: 0 10px; text-align: right }\n",
              "    </style><table class=\"wandb\">\n",
              "<tr><td>epoch</td><td>▁▁▂▃▃▃▄▅▅▅▆▇▇▇█</td></tr><tr><td>loss</td><td>█▅▄▃▃▃▂▂▂▂▂▁▁▁▁</td></tr><tr><td>accuracy</td><td>▁▄▅▅▆▆▆▇▇▇▇▇███</td></tr><tr><td>_runtime</td><td>▁▁▂▂▂▃▃▃▃▃▃▄▄▄▄▄▄▄▅▅▅▅▅▅▆▆▆▆▆▆▇▇▇▇▇▇████</td></tr><tr><td>_timestamp</td><td>▁▁▂▂▂▃▃▃▃▃▃▄▄▄▄▄▄▄▅▅▅▅▅▅▆▆▆▆▆▆▇▇▇▇▇▇████</td></tr><tr><td>_step</td><td>▁▁▁▁▂▂▂▂▂▃▃▃▃▃▃▄▄▄▄▄▅▅▅▅▅▅▆▆▆▆▆▇▇▇▇▇▇███</td></tr><tr><td>epoch_accuracy</td><td>▁▁▁▁▁▁▇▆▆▅▅▅▄▆▇▆▆▆▆▆▇██▇▇▇▇▇█▇▇▇▇▇▆███▇█</td></tr><tr><td>val_accuracy</td><td>▁</td></tr></table><br/>"
            ],
            "text/plain": [
              "<IPython.core.display.HTML object>"
            ]
          },
          "metadata": {
            "tags": []
          }
        },
        {
          "output_type": "display_data",
          "data": {
            "text/html": [
              "Synced 5 W&B file(s), 1 media file(s), 2 artifact file(s) and 1 other file(s)"
            ],
            "text/plain": [
              "<IPython.core.display.HTML object>"
            ]
          },
          "metadata": {
            "tags": []
          }
        },
        {
          "output_type": "display_data",
          "data": {
            "text/html": [
              "\n",
              "                    <br/>Synced <strong style=\"color:#cdcd00\">fine-sweep-5</strong>: <a href=\"https://wandb.ai/cs6910assignment3/RNN/runs/aat76fyu\" target=\"_blank\">https://wandb.ai/cs6910assignment3/RNN/runs/aat76fyu</a><br/>\n",
              "                "
            ],
            "text/plain": [
              "<IPython.core.display.HTML object>"
            ]
          },
          "metadata": {
            "tags": []
          }
        },
        {
          "output_type": "stream",
          "text": [
            "\u001b[34m\u001b[1mwandb\u001b[0m: Agent Starting Run: f0qum99t with config:\n",
            "\u001b[34m\u001b[1mwandb\u001b[0m: \tbatch_size: 128\n",
            "\u001b[34m\u001b[1mwandb\u001b[0m: \tbeam_width: 5\n",
            "\u001b[34m\u001b[1mwandb\u001b[0m: \tcell_type: GRU\n",
            "\u001b[34m\u001b[1mwandb\u001b[0m: \tdec_search: greedy\n",
            "\u001b[34m\u001b[1mwandb\u001b[0m: \tdropout: 0\n",
            "\u001b[34m\u001b[1mwandb\u001b[0m: \thidden_size: 128\n",
            "\u001b[34m\u001b[1mwandb\u001b[0m: \tin_emb: 32\n",
            "\u001b[34m\u001b[1mwandb\u001b[0m: \tlearning_rate: 0.0001\n",
            "\u001b[34m\u001b[1mwandb\u001b[0m: \tnum_dec: 1\n",
            "\u001b[34m\u001b[1mwandb\u001b[0m: \tnum_enc: 3\n"
          ],
          "name": "stderr"
        },
        {
          "output_type": "display_data",
          "data": {
            "text/html": [
              "\n",
              "                Tracking run with wandb version 0.10.30<br/>\n",
              "                Syncing run <strong style=\"color:#cdcd00\">icy-sweep-8</strong> to <a href=\"https://wandb.ai\" target=\"_blank\">Weights & Biases</a> <a href=\"https://docs.wandb.com/integrations/jupyter.html\" target=\"_blank\">(Documentation)</a>.<br/>\n",
              "                Project page: <a href=\"https://wandb.ai/cs6910assignment3/RNN\" target=\"_blank\">https://wandb.ai/cs6910assignment3/RNN</a><br/>\n",
              "                Sweep page: <a href=\"https://wandb.ai/cs6910assignment3/RNN/sweeps/auh90ups\" target=\"_blank\">https://wandb.ai/cs6910assignment3/RNN/sweeps/auh90ups</a><br/>\n",
              "Run page: <a href=\"https://wandb.ai/cs6910assignment3/RNN/runs/f0qum99t\" target=\"_blank\">https://wandb.ai/cs6910assignment3/RNN/runs/f0qum99t</a><br/>\n",
              "                Run data is saved locally in <code>/content/wandb/run-20210510_182023-f0qum99t</code><br/><br/>\n",
              "            "
            ],
            "text/plain": [
              "<IPython.core.display.HTML object>"
            ]
          },
          "metadata": {
            "tags": []
          }
        },
        {
          "output_type": "stream",
          "text": [
            "Model: \"model\"\n",
            "__________________________________________________________________________________________________\n",
            "Layer (type)                    Output Shape         Param #     Connected to                     \n",
            "==================================================================================================\n",
            "Enc_inputs (InputLayer)         [(None, None)]       0                                            \n",
            "__________________________________________________________________________________________________\n",
            "Enc_emb (Embedding)             (None, None, 32)     864         Enc_inputs[0][0]                 \n",
            "__________________________________________________________________________________________________\n",
            "Enc_hidden_1 (GRU)              [(None, None, 128),  62208       Enc_emb[0][0]                    \n",
            "__________________________________________________________________________________________________\n",
            "Dec_inputs (InputLayer)         [(None, None)]       0                                            \n",
            "__________________________________________________________________________________________________\n",
            "Enc_hidden_2 (GRU)              [(None, None, 128),  99072       Enc_hidden_1[0][0]               \n",
            "                                                                 Enc_hidden_1[0][1]               \n",
            "__________________________________________________________________________________________________\n",
            "Dec_emb (Embedding)             (None, None, 128)    6272        Dec_inputs[0][0]                 \n",
            "__________________________________________________________________________________________________\n",
            "Enc_hidden_3 (GRU)              [(None, None, 128),  99072       Enc_hidden_2[0][0]               \n",
            "                                                                 Enc_hidden_2[0][1]               \n",
            "__________________________________________________________________________________________________\n",
            "Dec_hidden_1 (GRU)              [(None, None, 128),  99072       Dec_emb[0][0]                    \n",
            "                                                                 Enc_hidden_3[0][1]               \n",
            "__________________________________________________________________________________________________\n",
            "dense (Dense)                   (None, None, 49)     6321        Dec_hidden_1[0][0]               \n",
            "==================================================================================================\n",
            "Total params: 372,881\n",
            "Trainable params: 372,881\n",
            "Non-trainable params: 0\n",
            "__________________________________________________________________________________________________\n",
            "Epoch 1/15\n",
            "533/533 [==============================] - 22s 18ms/step - loss: 1.2695 - accuracy: 0.2312\n",
            "Epoch 2/15\n",
            "533/533 [==============================] - 9s 18ms/step - loss: 0.8392 - accuracy: 0.3877\n",
            "Epoch 3/15\n",
            "533/533 [==============================] - 9s 17ms/step - loss: 0.7678 - accuracy: 0.4136\n",
            "Epoch 4/15\n",
            "533/533 [==============================] - 10s 18ms/step - loss: 0.7358 - accuracy: 0.4387\n",
            "Epoch 5/15\n",
            "533/533 [==============================] - 10s 18ms/step - loss: 0.7061 - accuracy: 0.4631\n",
            "Epoch 6/15\n",
            "533/533 [==============================] - 10s 18ms/step - loss: 0.6781 - accuracy: 0.4864\n",
            "Epoch 7/15\n",
            "533/533 [==============================] - 10s 18ms/step - loss: 0.6495 - accuracy: 0.5103\n",
            "Epoch 8/15\n",
            "533/533 [==============================] - 10s 18ms/step - loss: 0.6213 - accuracy: 0.5308\n",
            "Epoch 9/15\n",
            "533/533 [==============================] - 10s 18ms/step - loss: 0.5925 - accuracy: 0.5535\n",
            "Epoch 10/15\n",
            "533/533 [==============================] - 10s 18ms/step - loss: 0.5671 - accuracy: 0.5775\n",
            "Epoch 11/15\n",
            "533/533 [==============================] - 10s 18ms/step - loss: 0.5397 - accuracy: 0.5976\n",
            "Epoch 12/15\n",
            "533/533 [==============================] - 10s 18ms/step - loss: 0.5161 - accuracy: 0.6142\n",
            "Epoch 13/15\n",
            "533/533 [==============================] - 10s 18ms/step - loss: 0.4944 - accuracy: 0.6282\n",
            "Epoch 14/15\n",
            "533/533 [==============================] - 10s 18ms/step - loss: 0.4769 - accuracy: 0.6401\n",
            "Epoch 15/15\n",
            "533/533 [==============================] - 10s 18ms/step - loss: 0.4566 - accuracy: 0.6539\n"
          ],
          "name": "stdout"
        },
        {
          "output_type": "display_data",
          "data": {
            "text/html": [
              "<br/>Waiting for W&B process to finish, PID 315328<br/>Program ended successfully."
            ],
            "text/plain": [
              "<IPython.core.display.HTML object>"
            ]
          },
          "metadata": {
            "tags": []
          }
        },
        {
          "output_type": "display_data",
          "data": {
            "application/vnd.jupyter.widget-view+json": {
              "model_id": "ccb4ec1bebe24666ac7c0d30836a2ba2",
              "version_minor": 0,
              "version_major": 2
            },
            "text/plain": [
              "VBox(children=(Label(value=' 0.09MB of 0.09MB uploaded (0.00MB deduped)\\r'), FloatProgress(value=1.0, max=1.0)…"
            ]
          },
          "metadata": {
            "tags": []
          }
        },
        {
          "output_type": "display_data",
          "data": {
            "text/html": [
              "Find user logs for this run at: <code>/content/wandb/run-20210510_182023-f0qum99t/logs/debug.log</code>"
            ],
            "text/plain": [
              "<IPython.core.display.HTML object>"
            ]
          },
          "metadata": {
            "tags": []
          }
        },
        {
          "output_type": "display_data",
          "data": {
            "text/html": [
              "Find internal logs for this run at: <code>/content/wandb/run-20210510_182023-f0qum99t/logs/debug-internal.log</code>"
            ],
            "text/plain": [
              "<IPython.core.display.HTML object>"
            ]
          },
          "metadata": {
            "tags": []
          }
        },
        {
          "output_type": "display_data",
          "data": {
            "text/html": [
              "<h3>Run summary:</h3><br/><style>\n",
              "    table.wandb td:nth-child(1) { padding: 0 10px; text-align: right }\n",
              "    </style><table class=\"wandb\">\n",
              "<tr><td>epoch</td><td>14</td></tr><tr><td>loss</td><td>0.45386</td></tr><tr><td>accuracy</td><td>0.65612</td></tr><tr><td>_runtime</td><td>2839</td></tr><tr><td>_timestamp</td><td>1620673662</td></tr><tr><td>_step</td><td>151</td></tr><tr><td>epoch_accuracy</td><td>0.00632</td></tr><tr><td>val_accuracy</td><td>0.0063</td></tr></table>"
            ],
            "text/plain": [
              "<IPython.core.display.HTML object>"
            ]
          },
          "metadata": {
            "tags": []
          }
        },
        {
          "output_type": "display_data",
          "data": {
            "text/html": [
              "<h3>Run history:</h3><br/><style>\n",
              "    table.wandb td:nth-child(1) { padding: 0 10px; text-align: right }\n",
              "    </style><table class=\"wandb\">\n",
              "<tr><td>epoch</td><td>▁▁▂▃▃▃▄▅▅▅▆▇▇▇█</td></tr><tr><td>loss</td><td>█▅▄▄▄▃▃▃▂▂▂▂▁▁▁</td></tr><tr><td>accuracy</td><td>▁▃▄▄▄▅▅▆▆▇▇▇███</td></tr><tr><td>_runtime</td><td>▁▁▁▁▁▂▂▂▂▂▂▃▃▃▃▃▄▄▄▄▄▅▅▅▅▅▆▆▆▆▆▆▇▇▇▇▇███</td></tr><tr><td>_timestamp</td><td>▁▁▁▁▁▂▂▂▂▂▂▃▃▃▃▃▄▄▄▄▄▅▅▅▅▅▆▆▆▆▆▆▇▇▇▇▇███</td></tr><tr><td>_step</td><td>▁▁▁▁▂▂▂▂▂▃▃▃▃▃▃▄▄▄▄▄▅▅▅▅▅▅▆▆▆▆▆▇▇▇▇▇▇███</td></tr><tr><td>epoch_accuracy</td><td>█▃▃▁▁▁▄▄▄▅▅▄▅▅▆▆▆▆▅▅▅▅▅▅▅▄▄▄▄▄▄▄▄▄▄▄▄▄▄▄</td></tr><tr><td>val_accuracy</td><td>▁</td></tr></table><br/>"
            ],
            "text/plain": [
              "<IPython.core.display.HTML object>"
            ]
          },
          "metadata": {
            "tags": []
          }
        },
        {
          "output_type": "display_data",
          "data": {
            "text/html": [
              "Synced 5 W&B file(s), 1 media file(s), 2 artifact file(s) and 1 other file(s)"
            ],
            "text/plain": [
              "<IPython.core.display.HTML object>"
            ]
          },
          "metadata": {
            "tags": []
          }
        },
        {
          "output_type": "display_data",
          "data": {
            "text/html": [
              "\n",
              "                    <br/>Synced <strong style=\"color:#cdcd00\">icy-sweep-8</strong>: <a href=\"https://wandb.ai/cs6910assignment3/RNN/runs/f0qum99t\" target=\"_blank\">https://wandb.ai/cs6910assignment3/RNN/runs/f0qum99t</a><br/>\n",
              "                "
            ],
            "text/plain": [
              "<IPython.core.display.HTML object>"
            ]
          },
          "metadata": {
            "tags": []
          }
        },
        {
          "output_type": "stream",
          "text": [
            "\u001b[34m\u001b[1mwandb\u001b[0m: Agent Starting Run: 8u0hjgtu with config:\n",
            "\u001b[34m\u001b[1mwandb\u001b[0m: \tbatch_size: 128\n",
            "\u001b[34m\u001b[1mwandb\u001b[0m: \tbeam_width: 5\n",
            "\u001b[34m\u001b[1mwandb\u001b[0m: \tcell_type: GRU\n",
            "\u001b[34m\u001b[1mwandb\u001b[0m: \tdec_search: beam_search\n",
            "\u001b[34m\u001b[1mwandb\u001b[0m: \tdropout: 0.1\n",
            "\u001b[34m\u001b[1mwandb\u001b[0m: \thidden_size: 128\n",
            "\u001b[34m\u001b[1mwandb\u001b[0m: \tin_emb: 64\n",
            "\u001b[34m\u001b[1mwandb\u001b[0m: \tlearning_rate: 0.0001\n",
            "\u001b[34m\u001b[1mwandb\u001b[0m: \tnum_dec: 3\n",
            "\u001b[34m\u001b[1mwandb\u001b[0m: \tnum_enc: 3\n"
          ],
          "name": "stderr"
        },
        {
          "output_type": "display_data",
          "data": {
            "text/html": [
              "\n",
              "                Tracking run with wandb version 0.10.30<br/>\n",
              "                Syncing run <strong style=\"color:#cdcd00\">fallen-sweep-14</strong> to <a href=\"https://wandb.ai\" target=\"_blank\">Weights & Biases</a> <a href=\"https://docs.wandb.com/integrations/jupyter.html\" target=\"_blank\">(Documentation)</a>.<br/>\n",
              "                Project page: <a href=\"https://wandb.ai/cs6910assignment3/RNN\" target=\"_blank\">https://wandb.ai/cs6910assignment3/RNN</a><br/>\n",
              "                Sweep page: <a href=\"https://wandb.ai/cs6910assignment3/RNN/sweeps/auh90ups\" target=\"_blank\">https://wandb.ai/cs6910assignment3/RNN/sweeps/auh90ups</a><br/>\n",
              "Run page: <a href=\"https://wandb.ai/cs6910assignment3/RNN/runs/8u0hjgtu\" target=\"_blank\">https://wandb.ai/cs6910assignment3/RNN/runs/8u0hjgtu</a><br/>\n",
              "                Run data is saved locally in <code>/content/wandb/run-20210510_190749-8u0hjgtu</code><br/><br/>\n",
              "            "
            ],
            "text/plain": [
              "<IPython.core.display.HTML object>"
            ]
          },
          "metadata": {
            "tags": []
          }
        },
        {
          "output_type": "stream",
          "text": [
            "Model: \"model\"\n",
            "__________________________________________________________________________________________________\n",
            "Layer (type)                    Output Shape         Param #     Connected to                     \n",
            "==================================================================================================\n",
            "Enc_inputs (InputLayer)         [(None, None)]       0                                            \n",
            "__________________________________________________________________________________________________\n",
            "Enc_emb (Embedding)             (None, None, 64)     1728        Enc_inputs[0][0]                 \n",
            "__________________________________________________________________________________________________\n",
            "Enc_hidden_1 (GRU)              [(None, None, 128),  74496       Enc_emb[0][0]                    \n",
            "__________________________________________________________________________________________________\n",
            "Dec_inputs (InputLayer)         [(None, None)]       0                                            \n",
            "__________________________________________________________________________________________________\n",
            "Enc_hidden_2 (GRU)              [(None, None, 128),  99072       Enc_hidden_1[0][0]               \n",
            "                                                                 Enc_hidden_1[0][1]               \n",
            "__________________________________________________________________________________________________\n",
            "Dec_emb (Embedding)             (None, None, 128)    6272        Dec_inputs[0][0]                 \n",
            "__________________________________________________________________________________________________\n",
            "Enc_hidden_3 (GRU)              [(None, None, 128),  99072       Enc_hidden_2[0][0]               \n",
            "                                                                 Enc_hidden_2[0][1]               \n",
            "__________________________________________________________________________________________________\n",
            "Dec_hidden_1 (GRU)              [(None, None, 128),  99072       Dec_emb[0][0]                    \n",
            "                                                                 Enc_hidden_3[0][1]               \n",
            "__________________________________________________________________________________________________\n",
            "Dec_hidden_2 (GRU)              [(None, None, 128),  99072       Dec_hidden_1[0][0]               \n",
            "                                                                 Enc_hidden_3[0][1]               \n",
            "__________________________________________________________________________________________________\n",
            "Dec_hidden_3 (GRU)              [(None, None, 128),  99072       Dec_hidden_2[0][0]               \n",
            "                                                                 Enc_hidden_3[0][1]               \n",
            "__________________________________________________________________________________________________\n",
            "dense (Dense)                   (None, None, 49)     6321        Dec_hidden_3[0][0]               \n",
            "==================================================================================================\n",
            "Total params: 584,177\n",
            "Trainable params: 584,177\n",
            "Non-trainable params: 0\n",
            "__________________________________________________________________________________________________\n",
            "Epoch 1/15\n",
            "533/533 [==============================] - 34s 27ms/step - loss: 1.2403 - accuracy: 0.1690\n",
            "Epoch 2/15\n",
            "533/533 [==============================] - 14s 26ms/step - loss: 0.9440 - accuracy: 0.2985\n",
            "Epoch 3/15\n",
            "533/533 [==============================] - 15s 27ms/step - loss: 0.8027 - accuracy: 0.4031\n",
            "Epoch 4/15\n",
            "533/533 [==============================] - 15s 27ms/step - loss: 0.7451 - accuracy: 0.4311\n",
            "Epoch 5/15\n",
            "533/533 [==============================] - 15s 27ms/step - loss: 0.7147 - accuracy: 0.4521\n",
            "Epoch 6/15\n",
            "533/533 [==============================] - 15s 27ms/step - loss: 0.6856 - accuracy: 0.4786\n",
            "Epoch 7/15\n",
            "533/533 [==============================] - 15s 28ms/step - loss: 0.6468 - accuracy: 0.5096\n",
            "Epoch 8/15\n",
            "533/533 [==============================] - 15s 28ms/step - loss: 0.6091 - accuracy: 0.5421\n",
            "Epoch 9/15\n",
            "533/533 [==============================] - 15s 28ms/step - loss: 0.5731 - accuracy: 0.5712\n",
            "Epoch 10/15\n",
            "533/533 [==============================] - 15s 28ms/step - loss: 0.5398 - accuracy: 0.5960\n",
            "Epoch 11/15\n",
            "533/533 [==============================] - 15s 28ms/step - loss: 0.5073 - accuracy: 0.6200\n",
            "Epoch 12/15\n",
            "533/533 [==============================] - 15s 28ms/step - loss: 0.4753 - accuracy: 0.6424\n",
            "Epoch 13/15\n",
            "533/533 [==============================] - 14s 27ms/step - loss: 0.4494 - accuracy: 0.6617\n",
            "Epoch 14/15\n",
            "533/533 [==============================] - 14s 26ms/step - loss: 0.4263 - accuracy: 0.6786\n",
            "Epoch 15/15\n",
            "533/533 [==============================] - 14s 27ms/step - loss: 0.4053 - accuracy: 0.6940\n"
          ],
          "name": "stdout"
        },
        {
          "output_type": "display_data",
          "data": {
            "text/html": [
              "<br/>Waiting for W&B process to finish, PID 542531<br/>Program ended successfully."
            ],
            "text/plain": [
              "<IPython.core.display.HTML object>"
            ]
          },
          "metadata": {
            "tags": []
          }
        },
        {
          "output_type": "display_data",
          "data": {
            "application/vnd.jupyter.widget-view+json": {
              "model_id": "73852ba02ce148e9b263a6d211ea2331",
              "version_minor": 0,
              "version_major": 2
            },
            "text/plain": [
              "VBox(children=(Label(value=' 0.11MB of 0.11MB uploaded (0.00MB deduped)\\r'), FloatProgress(value=1.0, max=1.0)…"
            ]
          },
          "metadata": {
            "tags": []
          }
        },
        {
          "output_type": "display_data",
          "data": {
            "text/html": [
              "Find user logs for this run at: <code>/content/wandb/run-20210510_190749-8u0hjgtu/logs/debug.log</code>"
            ],
            "text/plain": [
              "<IPython.core.display.HTML object>"
            ]
          },
          "metadata": {
            "tags": []
          }
        },
        {
          "output_type": "display_data",
          "data": {
            "text/html": [
              "Find internal logs for this run at: <code>/content/wandb/run-20210510_190749-8u0hjgtu/logs/debug-internal.log</code>"
            ],
            "text/plain": [
              "<IPython.core.display.HTML object>"
            ]
          },
          "metadata": {
            "tags": []
          }
        },
        {
          "output_type": "display_data",
          "data": {
            "text/html": [
              "<h3>Run summary:</h3><br/><style>\n",
              "    table.wandb td:nth-child(1) { padding: 0 10px; text-align: right }\n",
              "    </style><table class=\"wandb\">\n",
              "<tr><td>epoch</td><td>14</td></tr><tr><td>loss</td><td>0.40044</td></tr><tr><td>accuracy</td><td>0.69758</td></tr><tr><td>_runtime</td><td>3385</td></tr><tr><td>_timestamp</td><td>1620677055</td></tr><tr><td>_step</td><td>151</td></tr><tr><td>epoch_accuracy</td><td>0.02559</td></tr><tr><td>val_accuracy</td><td>0.02563</td></tr></table>"
            ],
            "text/plain": [
              "<IPython.core.display.HTML object>"
            ]
          },
          "metadata": {
            "tags": []
          }
        },
        {
          "output_type": "display_data",
          "data": {
            "text/html": [
              "<h3>Run history:</h3><br/><style>\n",
              "    table.wandb td:nth-child(1) { padding: 0 10px; text-align: right }\n",
              "    </style><table class=\"wandb\">\n",
              "<tr><td>epoch</td><td>▁▁▂▃▃▃▄▅▅▅▆▇▇▇█</td></tr><tr><td>loss</td><td>█▆▅▄▄▄▃▃▃▂▂▂▁▁▁</td></tr><tr><td>accuracy</td><td>▁▃▄▄▅▅▅▆▆▇▇▇███</td></tr><tr><td>_runtime</td><td>▁▁▁▁▁▂▂▂▂▂▃▃▃▃▃▃▄▄▄▄▄▅▅▅▅▅▆▆▆▆▆▆▇▇▇▇▇███</td></tr><tr><td>_timestamp</td><td>▁▁▁▁▁▂▂▂▂▂▃▃▃▃▃▃▄▄▄▄▄▅▅▅▅▅▆▆▆▆▆▆▇▇▇▇▇███</td></tr><tr><td>_step</td><td>▁▁▁▁▂▂▂▂▂▃▃▃▃▃▃▄▄▄▄▄▅▅▅▅▅▅▆▆▆▆▆▇▇▇▇▇▇███</td></tr><tr><td>epoch_accuracy</td><td>▁▃▂▁▁▄▅▆▆▆▇▇█▇▇▇▇▇▇▇▇▇▇▆▇▆▆▆▆▆▆▆▆▆▆▆▆▆▆▆</td></tr><tr><td>val_accuracy</td><td>▁</td></tr></table><br/>"
            ],
            "text/plain": [
              "<IPython.core.display.HTML object>"
            ]
          },
          "metadata": {
            "tags": []
          }
        },
        {
          "output_type": "display_data",
          "data": {
            "text/html": [
              "Synced 5 W&B file(s), 1 media file(s), 2 artifact file(s) and 1 other file(s)"
            ],
            "text/plain": [
              "<IPython.core.display.HTML object>"
            ]
          },
          "metadata": {
            "tags": []
          }
        },
        {
          "output_type": "display_data",
          "data": {
            "text/html": [
              "\n",
              "                    <br/>Synced <strong style=\"color:#cdcd00\">fallen-sweep-14</strong>: <a href=\"https://wandb.ai/cs6910assignment3/RNN/runs/8u0hjgtu\" target=\"_blank\">https://wandb.ai/cs6910assignment3/RNN/runs/8u0hjgtu</a><br/>\n",
              "                "
            ],
            "text/plain": [
              "<IPython.core.display.HTML object>"
            ]
          },
          "metadata": {
            "tags": []
          }
        },
        {
          "output_type": "stream",
          "text": [
            "\u001b[34m\u001b[1mwandb\u001b[0m: Agent Starting Run: rfb8k4tc with config:\n",
            "\u001b[34m\u001b[1mwandb\u001b[0m: \tbatch_size: 128\n",
            "\u001b[34m\u001b[1mwandb\u001b[0m: \tbeam_width: 5\n",
            "\u001b[34m\u001b[1mwandb\u001b[0m: \tcell_type: GRU\n",
            "\u001b[34m\u001b[1mwandb\u001b[0m: \tdec_search: greedy\n",
            "\u001b[34m\u001b[1mwandb\u001b[0m: \tdropout: 0.2\n",
            "\u001b[34m\u001b[1mwandb\u001b[0m: \thidden_size: 128\n",
            "\u001b[34m\u001b[1mwandb\u001b[0m: \tin_emb: 128\n",
            "\u001b[34m\u001b[1mwandb\u001b[0m: \tlearning_rate: 0.0001\n",
            "\u001b[34m\u001b[1mwandb\u001b[0m: \tnum_dec: 3\n",
            "\u001b[34m\u001b[1mwandb\u001b[0m: \tnum_enc: 1\n"
          ],
          "name": "stderr"
        },
        {
          "output_type": "display_data",
          "data": {
            "text/html": [
              "\n",
              "                Tracking run with wandb version 0.10.30<br/>\n",
              "                Syncing run <strong style=\"color:#cdcd00\">true-sweep-18</strong> to <a href=\"https://wandb.ai\" target=\"_blank\">Weights & Biases</a> <a href=\"https://docs.wandb.com/integrations/jupyter.html\" target=\"_blank\">(Documentation)</a>.<br/>\n",
              "                Project page: <a href=\"https://wandb.ai/cs6910assignment3/RNN\" target=\"_blank\">https://wandb.ai/cs6910assignment3/RNN</a><br/>\n",
              "                Sweep page: <a href=\"https://wandb.ai/cs6910assignment3/RNN/sweeps/auh90ups\" target=\"_blank\">https://wandb.ai/cs6910assignment3/RNN/sweeps/auh90ups</a><br/>\n",
              "Run page: <a href=\"https://wandb.ai/cs6910assignment3/RNN/runs/rfb8k4tc\" target=\"_blank\">https://wandb.ai/cs6910assignment3/RNN/runs/rfb8k4tc</a><br/>\n",
              "                Run data is saved locally in <code>/content/wandb/run-20210510_200424-rfb8k4tc</code><br/><br/>\n",
              "            "
            ],
            "text/plain": [
              "<IPython.core.display.HTML object>"
            ]
          },
          "metadata": {
            "tags": []
          }
        },
        {
          "output_type": "stream",
          "text": [
            "Model: \"model\"\n",
            "__________________________________________________________________________________________________\n",
            "Layer (type)                    Output Shape         Param #     Connected to                     \n",
            "==================================================================================================\n",
            "Enc_inputs (InputLayer)         [(None, None)]       0                                            \n",
            "__________________________________________________________________________________________________\n",
            "Dec_inputs (InputLayer)         [(None, None)]       0                                            \n",
            "__________________________________________________________________________________________________\n",
            "Enc_emb (Embedding)             (None, None, 128)    3456        Enc_inputs[0][0]                 \n",
            "__________________________________________________________________________________________________\n",
            "Dec_emb (Embedding)             (None, None, 128)    6272        Dec_inputs[0][0]                 \n",
            "__________________________________________________________________________________________________\n",
            "Enc_hidden_1 (GRU)              [(None, None, 128),  99072       Enc_emb[0][0]                    \n",
            "__________________________________________________________________________________________________\n",
            "Dec_hidden_1 (GRU)              [(None, None, 128),  99072       Dec_emb[0][0]                    \n",
            "                                                                 Enc_hidden_1[0][1]               \n",
            "__________________________________________________________________________________________________\n",
            "Dec_hidden_2 (GRU)              [(None, None, 128),  99072       Dec_hidden_1[0][0]               \n",
            "                                                                 Enc_hidden_1[0][1]               \n",
            "__________________________________________________________________________________________________\n",
            "Dec_hidden_3 (GRU)              [(None, None, 128),  99072       Dec_hidden_2[0][0]               \n",
            "                                                                 Enc_hidden_1[0][1]               \n",
            "__________________________________________________________________________________________________\n",
            "dense (Dense)                   (None, None, 49)     6321        Dec_hidden_3[0][0]               \n",
            "==================================================================================================\n",
            "Total params: 412,337\n",
            "Trainable params: 412,337\n",
            "Non-trainable params: 0\n",
            "__________________________________________________________________________________________________\n",
            "Epoch 1/15\n",
            "533/533 [==============================] - 25s 20ms/step - loss: 1.2492 - accuracy: 0.1702\n",
            "Epoch 2/15\n",
            "533/533 [==============================] - 10s 20ms/step - loss: 0.9244 - accuracy: 0.3231\n",
            "Epoch 3/15\n",
            "533/533 [==============================] - 11s 20ms/step - loss: 0.7927 - accuracy: 0.4016\n",
            "Epoch 4/15\n",
            "533/533 [==============================] - 11s 20ms/step - loss: 0.7637 - accuracy: 0.4134\n",
            "Epoch 5/15\n",
            "533/533 [==============================] - 11s 20ms/step - loss: 0.7444 - accuracy: 0.4269\n",
            "Epoch 6/15\n",
            "533/533 [==============================] - 11s 20ms/step - loss: 0.7229 - accuracy: 0.4442\n",
            "Epoch 7/15\n",
            "533/533 [==============================] - 11s 20ms/step - loss: 0.6970 - accuracy: 0.4627\n",
            "Epoch 8/15\n",
            "533/533 [==============================] - 10s 20ms/step - loss: 0.6734 - accuracy: 0.4816\n",
            "Epoch 9/15\n",
            "533/533 [==============================] - 10s 19ms/step - loss: 0.6462 - accuracy: 0.5036\n",
            "Epoch 10/15\n",
            "533/533 [==============================] - 10s 20ms/step - loss: 0.6109 - accuracy: 0.5294\n",
            "Epoch 11/15\n",
            "533/533 [==============================] - 10s 20ms/step - loss: 0.5764 - accuracy: 0.5560\n",
            "Epoch 12/15\n",
            "533/533 [==============================] - 11s 20ms/step - loss: 0.5443 - accuracy: 0.5845\n",
            "Epoch 13/15\n",
            "533/533 [==============================] - 10s 19ms/step - loss: 0.5111 - accuracy: 0.6108\n",
            "Epoch 14/15\n",
            "533/533 [==============================] - 11s 20ms/step - loss: 0.4825 - accuracy: 0.6327\n",
            "Epoch 15/15\n",
            "533/533 [==============================] - 11s 20ms/step - loss: 0.4529 - accuracy: 0.6537\n"
          ],
          "name": "stdout"
        },
        {
          "output_type": "display_data",
          "data": {
            "text/html": [
              "<br/>Waiting for W&B process to finish, PID 763130<br/>Program ended successfully."
            ],
            "text/plain": [
              "<IPython.core.display.HTML object>"
            ]
          },
          "metadata": {
            "tags": []
          }
        },
        {
          "output_type": "display_data",
          "data": {
            "application/vnd.jupyter.widget-view+json": {
              "model_id": "c4ed9f5eddc241928627413e9a1331da",
              "version_minor": 0,
              "version_major": 2
            },
            "text/plain": [
              "VBox(children=(Label(value=' 0.13MB of 0.13MB uploaded (0.00MB deduped)\\r'), FloatProgress(value=1.0, max=1.0)…"
            ]
          },
          "metadata": {
            "tags": []
          }
        },
        {
          "output_type": "display_data",
          "data": {
            "text/html": [
              "Find user logs for this run at: <code>/content/wandb/run-20210510_200424-rfb8k4tc/logs/debug.log</code>"
            ],
            "text/plain": [
              "<IPython.core.display.HTML object>"
            ]
          },
          "metadata": {
            "tags": []
          }
        },
        {
          "output_type": "display_data",
          "data": {
            "text/html": [
              "Find internal logs for this run at: <code>/content/wandb/run-20210510_200424-rfb8k4tc/logs/debug-internal.log</code>"
            ],
            "text/plain": [
              "<IPython.core.display.HTML object>"
            ]
          },
          "metadata": {
            "tags": []
          }
        },
        {
          "output_type": "display_data",
          "data": {
            "text/html": [
              "<h3>Run summary:</h3><br/><style>\n",
              "    table.wandb td:nth-child(1) { padding: 0 10px; text-align: right }\n",
              "    </style><table class=\"wandb\">\n",
              "<tr><td>epoch</td><td>14</td></tr><tr><td>loss</td><td>0.44518</td></tr><tr><td>accuracy</td><td>0.65918</td></tr><tr><td>_runtime</td><td>3408</td></tr><tr><td>_timestamp</td><td>1620680472</td></tr><tr><td>_step</td><td>151</td></tr><tr><td>epoch_accuracy</td><td>0.01221</td></tr><tr><td>val_accuracy</td><td>0.0123</td></tr></table>"
            ],
            "text/plain": [
              "<IPython.core.display.HTML object>"
            ]
          },
          "metadata": {
            "tags": []
          }
        },
        {
          "output_type": "display_data",
          "data": {
            "text/html": [
              "<h3>Run history:</h3><br/><style>\n",
              "    table.wandb td:nth-child(1) { padding: 0 10px; text-align: right }\n",
              "    </style><table class=\"wandb\">\n",
              "<tr><td>epoch</td><td>▁▁▂▃▃▃▄▅▅▅▆▇▇▇█</td></tr><tr><td>loss</td><td>█▆▅▄▄▄▄▃▃▃▂▂▂▁▁</td></tr><tr><td>accuracy</td><td>▁▃▄▄▄▅▅▅▆▆▆▇▇██</td></tr><tr><td>_runtime</td><td>▁▁▁▁▁▂▂▂▂▂▃▃▃▃▃▃▄▄▄▄▄▅▅▅▅▅▆▆▆▆▆▇▇▇▇▇▇███</td></tr><tr><td>_timestamp</td><td>▁▁▁▁▁▂▂▂▂▂▃▃▃▃▃▃▄▄▄▄▄▅▅▅▅▅▆▆▆▆▆▇▇▇▇▇▇███</td></tr><tr><td>_step</td><td>▁▁▁▁▂▂▂▂▂▃▃▃▃▃▃▄▄▄▄▄▅▅▅▅▅▅▆▆▆▆▆▇▇▇▇▇▇███</td></tr><tr><td>epoch_accuracy</td><td>█▄▆▁▂▃▄▃▃▃▃▃▃▃▄▃▂▂▂▂▂▂▂▁▁▁▁▂▁▁▁▂▂▂▁▂▁▁▁▁</td></tr><tr><td>val_accuracy</td><td>▁</td></tr></table><br/>"
            ],
            "text/plain": [
              "<IPython.core.display.HTML object>"
            ]
          },
          "metadata": {
            "tags": []
          }
        },
        {
          "output_type": "display_data",
          "data": {
            "text/html": [
              "Synced 5 W&B file(s), 1 media file(s), 2 artifact file(s) and 1 other file(s)"
            ],
            "text/plain": [
              "<IPython.core.display.HTML object>"
            ]
          },
          "metadata": {
            "tags": []
          }
        },
        {
          "output_type": "display_data",
          "data": {
            "text/html": [
              "\n",
              "                    <br/>Synced <strong style=\"color:#cdcd00\">true-sweep-18</strong>: <a href=\"https://wandb.ai/cs6910assignment3/RNN/runs/rfb8k4tc\" target=\"_blank\">https://wandb.ai/cs6910assignment3/RNN/runs/rfb8k4tc</a><br/>\n",
              "                "
            ],
            "text/plain": [
              "<IPython.core.display.HTML object>"
            ]
          },
          "metadata": {
            "tags": []
          }
        },
        {
          "output_type": "stream",
          "text": [
            "\u001b[34m\u001b[1mwandb\u001b[0m: Agent Starting Run: jvlyyj82 with config:\n",
            "\u001b[34m\u001b[1mwandb\u001b[0m: \tbatch_size: 128\n",
            "\u001b[34m\u001b[1mwandb\u001b[0m: \tbeam_width: 5\n",
            "\u001b[34m\u001b[1mwandb\u001b[0m: \tcell_type: GRU\n",
            "\u001b[34m\u001b[1mwandb\u001b[0m: \tdec_search: greedy\n",
            "\u001b[34m\u001b[1mwandb\u001b[0m: \tdropout: 0.1\n",
            "\u001b[34m\u001b[1mwandb\u001b[0m: \thidden_size: 128\n",
            "\u001b[34m\u001b[1mwandb\u001b[0m: \tin_emb: 128\n",
            "\u001b[34m\u001b[1mwandb\u001b[0m: \tlearning_rate: 0.001\n",
            "\u001b[34m\u001b[1mwandb\u001b[0m: \tnum_dec: 3\n",
            "\u001b[34m\u001b[1mwandb\u001b[0m: \tnum_enc: 3\n"
          ],
          "name": "stderr"
        },
        {
          "output_type": "display_data",
          "data": {
            "text/html": [
              "\n",
              "                Tracking run with wandb version 0.10.30<br/>\n",
              "                Syncing run <strong style=\"color:#cdcd00\">gentle-sweep-23</strong> to <a href=\"https://wandb.ai\" target=\"_blank\">Weights & Biases</a> <a href=\"https://docs.wandb.com/integrations/jupyter.html\" target=\"_blank\">(Documentation)</a>.<br/>\n",
              "                Project page: <a href=\"https://wandb.ai/cs6910assignment3/RNN\" target=\"_blank\">https://wandb.ai/cs6910assignment3/RNN</a><br/>\n",
              "                Sweep page: <a href=\"https://wandb.ai/cs6910assignment3/RNN/sweeps/auh90ups\" target=\"_blank\">https://wandb.ai/cs6910assignment3/RNN/sweeps/auh90ups</a><br/>\n",
              "Run page: <a href=\"https://wandb.ai/cs6910assignment3/RNN/runs/jvlyyj82\" target=\"_blank\">https://wandb.ai/cs6910assignment3/RNN/runs/jvlyyj82</a><br/>\n",
              "                Run data is saved locally in <code>/content/wandb/run-20210510_210120-jvlyyj82</code><br/><br/>\n",
              "            "
            ],
            "text/plain": [
              "<IPython.core.display.HTML object>"
            ]
          },
          "metadata": {
            "tags": []
          }
        },
        {
          "output_type": "stream",
          "text": [
            "Model: \"model\"\n",
            "__________________________________________________________________________________________________\n",
            "Layer (type)                    Output Shape         Param #     Connected to                     \n",
            "==================================================================================================\n",
            "Enc_inputs (InputLayer)         [(None, None)]       0                                            \n",
            "__________________________________________________________________________________________________\n",
            "Enc_emb (Embedding)             (None, None, 128)    3456        Enc_inputs[0][0]                 \n",
            "__________________________________________________________________________________________________\n",
            "Enc_hidden_1 (GRU)              [(None, None, 128),  99072       Enc_emb[0][0]                    \n",
            "__________________________________________________________________________________________________\n",
            "Dec_inputs (InputLayer)         [(None, None)]       0                                            \n",
            "__________________________________________________________________________________________________\n",
            "Enc_hidden_2 (GRU)              [(None, None, 128),  99072       Enc_hidden_1[0][0]               \n",
            "                                                                 Enc_hidden_1[0][1]               \n",
            "__________________________________________________________________________________________________\n",
            "Dec_emb (Embedding)             (None, None, 128)    6272        Dec_inputs[0][0]                 \n",
            "__________________________________________________________________________________________________\n",
            "Enc_hidden_3 (GRU)              [(None, None, 128),  99072       Enc_hidden_2[0][0]               \n",
            "                                                                 Enc_hidden_2[0][1]               \n",
            "__________________________________________________________________________________________________\n",
            "Dec_hidden_1 (GRU)              [(None, None, 128),  99072       Dec_emb[0][0]                    \n",
            "                                                                 Enc_hidden_3[0][1]               \n",
            "__________________________________________________________________________________________________\n",
            "Dec_hidden_2 (GRU)              [(None, None, 128),  99072       Dec_hidden_1[0][0]               \n",
            "                                                                 Enc_hidden_3[0][1]               \n",
            "__________________________________________________________________________________________________\n",
            "Dec_hidden_3 (GRU)              [(None, None, 128),  99072       Dec_hidden_2[0][0]               \n",
            "                                                                 Enc_hidden_3[0][1]               \n",
            "__________________________________________________________________________________________________\n",
            "dense (Dense)                   (None, None, 49)     6321        Dec_hidden_3[0][0]               \n",
            "==================================================================================================\n",
            "Total params: 610,481\n",
            "Trainable params: 610,481\n",
            "Non-trainable params: 0\n",
            "__________________________________________________________________________________________________\n",
            "Epoch 1/15\n",
            "533/533 [==============================] - 32s 27ms/step - loss: 0.9505 - accuracy: 0.3214\n",
            "Epoch 2/15\n",
            "533/533 [==============================] - 14s 27ms/step - loss: 0.3956 - accuracy: 0.7067\n",
            "Epoch 3/15\n",
            "533/533 [==============================] - 14s 27ms/step - loss: 0.2146 - accuracy: 0.8483\n",
            "Epoch 4/15\n",
            "533/533 [==============================] - 14s 27ms/step - loss: 0.1555 - accuracy: 0.8917\n",
            "Epoch 5/15\n",
            "533/533 [==============================] - 14s 27ms/step - loss: 0.1252 - accuracy: 0.9140\n",
            "Epoch 6/15\n",
            "533/533 [==============================] - 14s 27ms/step - loss: 0.1054 - accuracy: 0.9270\n",
            "Epoch 7/15\n",
            "533/533 [==============================] - 14s 27ms/step - loss: 0.0934 - accuracy: 0.9355\n",
            "Epoch 8/15\n",
            "533/533 [==============================] - 14s 27ms/step - loss: 0.0821 - accuracy: 0.9424\n",
            "Epoch 9/15\n",
            "533/533 [==============================] - 14s 27ms/step - loss: 0.0759 - accuracy: 0.9472\n",
            "Epoch 10/15\n",
            "533/533 [==============================] - 14s 27ms/step - loss: 0.0695 - accuracy: 0.9514\n",
            "Epoch 11/15\n",
            "533/533 [==============================] - 14s 27ms/step - loss: 0.0627 - accuracy: 0.9559\n",
            "Epoch 12/15\n",
            "533/533 [==============================] - 14s 27ms/step - loss: 0.0583 - accuracy: 0.9586\n",
            "Epoch 13/15\n",
            "533/533 [==============================] - 15s 27ms/step - loss: 0.0540 - accuracy: 0.9613\n",
            "Epoch 14/15\n",
            "533/533 [==============================] - 14s 27ms/step - loss: 0.0500 - accuracy: 0.9636\n",
            "Epoch 15/15\n",
            "533/533 [==============================] - 14s 27ms/step - loss: 0.0467 - accuracy: 0.9662\n"
          ],
          "name": "stdout"
        },
        {
          "output_type": "display_data",
          "data": {
            "text/html": [
              "<br/>Waiting for W&B process to finish, PID 982485<br/>Program ended successfully."
            ],
            "text/plain": [
              "<IPython.core.display.HTML object>"
            ]
          },
          "metadata": {
            "tags": []
          }
        },
        {
          "output_type": "display_data",
          "data": {
            "application/vnd.jupyter.widget-view+json": {
              "model_id": "ffa197d01cd14ff5bc6bd7f3fc9fb3b8",
              "version_minor": 0,
              "version_major": 2
            },
            "text/plain": [
              "VBox(children=(Label(value=' 0.14MB of 0.14MB uploaded (0.00MB deduped)\\r'), FloatProgress(value=1.0, max=1.0)…"
            ]
          },
          "metadata": {
            "tags": []
          }
        },
        {
          "output_type": "display_data",
          "data": {
            "text/html": [
              "Find user logs for this run at: <code>/content/wandb/run-20210510_210120-jvlyyj82/logs/debug.log</code>"
            ],
            "text/plain": [
              "<IPython.core.display.HTML object>"
            ]
          },
          "metadata": {
            "tags": []
          }
        },
        {
          "output_type": "display_data",
          "data": {
            "text/html": [
              "Find internal logs for this run at: <code>/content/wandb/run-20210510_210120-jvlyyj82/logs/debug-internal.log</code>"
            ],
            "text/plain": [
              "<IPython.core.display.HTML object>"
            ]
          },
          "metadata": {
            "tags": []
          }
        },
        {
          "output_type": "display_data",
          "data": {
            "text/html": [
              "<h3>Run summary:</h3><br/><style>\n",
              "    table.wandb td:nth-child(1) { padding: 0 10px; text-align: right }\n",
              "    </style><table class=\"wandb\">\n",
              "<tr><td>epoch</td><td>14</td></tr><tr><td>loss</td><td>0.04806</td></tr><tr><td>accuracy</td><td>0.96501</td></tr><tr><td>_runtime</td><td>3302</td></tr><tr><td>_timestamp</td><td>1620683782</td></tr><tr><td>_step</td><td>151</td></tr><tr><td>epoch_accuracy</td><td>0.51206</td></tr><tr><td>val_accuracy</td><td>0.51194</td></tr></table>"
            ],
            "text/plain": [
              "<IPython.core.display.HTML object>"
            ]
          },
          "metadata": {
            "tags": []
          }
        },
        {
          "output_type": "display_data",
          "data": {
            "text/html": [
              "<h3>Run history:</h3><br/><style>\n",
              "    table.wandb td:nth-child(1) { padding: 0 10px; text-align: right }\n",
              "    </style><table class=\"wandb\">\n",
              "<tr><td>epoch</td><td>▁▁▂▃▃▃▄▅▅▅▆▇▇▇█</td></tr><tr><td>loss</td><td>█▄▂▂▂▂▁▁▁▁▁▁▁▁▁</td></tr><tr><td>accuracy</td><td>▁▅▇▇▇▇█████████</td></tr><tr><td>_runtime</td><td>▁▁▁▁▁▂▂▂▂▂▃▃▃▃▃▃▄▄▄▄▄▅▅▅▅▅▆▆▆▆▆▆▇▇▇▇▇███</td></tr><tr><td>_timestamp</td><td>▁▁▁▁▁▂▂▂▂▂▃▃▃▃▃▃▄▄▄▄▄▅▅▅▅▅▆▆▆▆▆▆▇▇▇▇▇███</td></tr><tr><td>_step</td><td>▁▁▁▁▂▂▂▂▂▃▃▃▃▃▃▄▄▄▄▄▅▅▅▅▅▅▆▆▆▆▆▇▇▇▇▇▇███</td></tr><tr><td>epoch_accuracy</td><td>▁▆▁▄▄▄▃▄▃▄▄▃▄▄▅▅▅▅▆▆▆▇▇▇▇▇▇▇▇▇▇▇▇▇▇▇████</td></tr><tr><td>val_accuracy</td><td>▁</td></tr></table><br/>"
            ],
            "text/plain": [
              "<IPython.core.display.HTML object>"
            ]
          },
          "metadata": {
            "tags": []
          }
        },
        {
          "output_type": "display_data",
          "data": {
            "text/html": [
              "Synced 5 W&B file(s), 1 media file(s), 2 artifact file(s) and 1 other file(s)"
            ],
            "text/plain": [
              "<IPython.core.display.HTML object>"
            ]
          },
          "metadata": {
            "tags": []
          }
        },
        {
          "output_type": "display_data",
          "data": {
            "text/html": [
              "\n",
              "                    <br/>Synced <strong style=\"color:#cdcd00\">gentle-sweep-23</strong>: <a href=\"https://wandb.ai/cs6910assignment3/RNN/runs/jvlyyj82\" target=\"_blank\">https://wandb.ai/cs6910assignment3/RNN/runs/jvlyyj82</a><br/>\n",
              "                "
            ],
            "text/plain": [
              "<IPython.core.display.HTML object>"
            ]
          },
          "metadata": {
            "tags": []
          }
        },
        {
          "output_type": "stream",
          "text": [
            "\u001b[34m\u001b[1mwandb\u001b[0m: Agent Starting Run: lzhw73f5 with config:\n",
            "\u001b[34m\u001b[1mwandb\u001b[0m: \tbatch_size: 128\n",
            "\u001b[34m\u001b[1mwandb\u001b[0m: \tbeam_width: 5\n",
            "\u001b[34m\u001b[1mwandb\u001b[0m: \tcell_type: LSTM\n",
            "\u001b[34m\u001b[1mwandb\u001b[0m: \tdec_search: greedy\n",
            "\u001b[34m\u001b[1mwandb\u001b[0m: \tdropout: 0.2\n",
            "\u001b[34m\u001b[1mwandb\u001b[0m: \thidden_size: 128\n",
            "\u001b[34m\u001b[1mwandb\u001b[0m: \tin_emb: 64\n",
            "\u001b[34m\u001b[1mwandb\u001b[0m: \tlearning_rate: 0.001\n",
            "\u001b[34m\u001b[1mwandb\u001b[0m: \tnum_dec: 2\n",
            "\u001b[34m\u001b[1mwandb\u001b[0m: \tnum_enc: 2\n"
          ],
          "name": "stderr"
        },
        {
          "output_type": "display_data",
          "data": {
            "text/html": [
              "\n",
              "                Tracking run with wandb version 0.10.30<br/>\n",
              "                Syncing run <strong style=\"color:#cdcd00\">swift-sweep-28</strong> to <a href=\"https://wandb.ai\" target=\"_blank\">Weights & Biases</a> <a href=\"https://docs.wandb.com/integrations/jupyter.html\" target=\"_blank\">(Documentation)</a>.<br/>\n",
              "                Project page: <a href=\"https://wandb.ai/cs6910assignment3/RNN\" target=\"_blank\">https://wandb.ai/cs6910assignment3/RNN</a><br/>\n",
              "                Sweep page: <a href=\"https://wandb.ai/cs6910assignment3/RNN/sweeps/auh90ups\" target=\"_blank\">https://wandb.ai/cs6910assignment3/RNN/sweeps/auh90ups</a><br/>\n",
              "Run page: <a href=\"https://wandb.ai/cs6910assignment3/RNN/runs/lzhw73f5\" target=\"_blank\">https://wandb.ai/cs6910assignment3/RNN/runs/lzhw73f5</a><br/>\n",
              "                Run data is saved locally in <code>/content/wandb/run-20210510_215629-lzhw73f5</code><br/><br/>\n",
              "            "
            ],
            "text/plain": [
              "<IPython.core.display.HTML object>"
            ]
          },
          "metadata": {
            "tags": []
          }
        },
        {
          "output_type": "stream",
          "text": [
            "Model: \"model\"\n",
            "__________________________________________________________________________________________________\n",
            "Layer (type)                    Output Shape         Param #     Connected to                     \n",
            "==================================================================================================\n",
            "Enc_inputs (InputLayer)         [(None, None)]       0                                            \n",
            "__________________________________________________________________________________________________\n",
            "Enc_emb (Embedding)             (None, None, 64)     1728        Enc_inputs[0][0]                 \n",
            "__________________________________________________________________________________________________\n",
            "Dec_inputs (InputLayer)         [(None, None)]       0                                            \n",
            "__________________________________________________________________________________________________\n",
            "Enc_hidden_1 (LSTM)             [(None, None, 128),  98816       Enc_emb[0][0]                    \n",
            "__________________________________________________________________________________________________\n",
            "Dec_emb (Embedding)             (None, None, 128)    6272        Dec_inputs[0][0]                 \n",
            "__________________________________________________________________________________________________\n",
            "Enc_hidden_2 (LSTM)             [(None, None, 128),  131584      Enc_hidden_1[0][0]               \n",
            "                                                                 Enc_hidden_1[0][1]               \n",
            "                                                                 Enc_hidden_1[0][2]               \n",
            "__________________________________________________________________________________________________\n",
            "Dec_hidden_1 (LSTM)             [(None, None, 128),  131584      Dec_emb[0][0]                    \n",
            "                                                                 Enc_hidden_2[0][1]               \n",
            "                                                                 Enc_hidden_2[0][2]               \n",
            "__________________________________________________________________________________________________\n",
            "Dec_hidden_2 (LSTM)             [(None, None, 128),  131584      Dec_hidden_1[0][0]               \n",
            "                                                                 Enc_hidden_2[0][1]               \n",
            "                                                                 Enc_hidden_2[0][2]               \n",
            "__________________________________________________________________________________________________\n",
            "dense (Dense)                   (None, None, 49)     6321        Dec_hidden_2[0][0]               \n",
            "==================================================================================================\n",
            "Total params: 507,889\n",
            "Trainable params: 507,889\n",
            "Non-trainable params: 0\n",
            "__________________________________________________________________________________________________\n",
            "Epoch 1/15\n",
            "533/533 [==============================] - 24s 21ms/step - loss: 0.9835 - accuracy: 0.2943\n",
            "Epoch 2/15\n",
            "533/533 [==============================] - 11s 20ms/step - loss: 0.5165 - accuracy: 0.6118\n",
            "Epoch 3/15\n",
            "533/533 [==============================] - 11s 20ms/step - loss: 0.3113 - accuracy: 0.7706\n",
            "Epoch 4/15\n",
            "533/533 [==============================] - 11s 20ms/step - loss: 0.2184 - accuracy: 0.8405\n",
            "Epoch 5/15\n",
            "533/533 [==============================] - 11s 21ms/step - loss: 0.1731 - accuracy: 0.8757\n",
            "Epoch 6/15\n",
            "533/533 [==============================] - 11s 21ms/step - loss: 0.1431 - accuracy: 0.8977\n",
            "Epoch 7/15\n",
            "533/533 [==============================] - 11s 21ms/step - loss: 0.1231 - accuracy: 0.9126\n",
            "Epoch 8/15\n",
            "533/533 [==============================] - 11s 20ms/step - loss: 0.1091 - accuracy: 0.9230\n",
            "Epoch 9/15\n",
            "533/533 [==============================] - 11s 21ms/step - loss: 0.0967 - accuracy: 0.9314\n",
            "Epoch 10/15\n",
            "533/533 [==============================] - 11s 20ms/step - loss: 0.0882 - accuracy: 0.9373\n",
            "Epoch 11/15\n",
            "533/533 [==============================] - 11s 20ms/step - loss: 0.0791 - accuracy: 0.9436\n",
            "Epoch 12/15\n",
            "533/533 [==============================] - 11s 20ms/step - loss: 0.0736 - accuracy: 0.9474\n",
            "Epoch 13/15\n",
            "533/533 [==============================] - 11s 20ms/step - loss: 0.0689 - accuracy: 0.9505\n",
            "Epoch 14/15\n",
            "533/533 [==============================] - 11s 21ms/step - loss: 0.0640 - accuracy: 0.9538\n",
            "Epoch 15/15\n",
            "533/533 [==============================] - 11s 20ms/step - loss: 0.0580 - accuracy: 0.9580\n"
          ],
          "name": "stdout"
        },
        {
          "output_type": "display_data",
          "data": {
            "text/html": [
              "<br/>Waiting for W&B process to finish, PID 1191817<br/>Program ended successfully."
            ],
            "text/plain": [
              "<IPython.core.display.HTML object>"
            ]
          },
          "metadata": {
            "tags": []
          }
        },
        {
          "output_type": "display_data",
          "data": {
            "application/vnd.jupyter.widget-view+json": {
              "model_id": "e23fc9c8b5a444bf99ae3f6d1fda9698",
              "version_minor": 0,
              "version_major": 2
            },
            "text/plain": [
              "VBox(children=(Label(value=' 0.16MB of 0.16MB uploaded (0.00MB deduped)\\r'), FloatProgress(value=1.0, max=1.0)…"
            ]
          },
          "metadata": {
            "tags": []
          }
        },
        {
          "output_type": "display_data",
          "data": {
            "text/html": [
              "Find user logs for this run at: <code>/content/wandb/run-20210510_215629-lzhw73f5/logs/debug.log</code>"
            ],
            "text/plain": [
              "<IPython.core.display.HTML object>"
            ]
          },
          "metadata": {
            "tags": []
          }
        },
        {
          "output_type": "display_data",
          "data": {
            "text/html": [
              "Find internal logs for this run at: <code>/content/wandb/run-20210510_215629-lzhw73f5/logs/debug-internal.log</code>"
            ],
            "text/plain": [
              "<IPython.core.display.HTML object>"
            ]
          },
          "metadata": {
            "tags": []
          }
        },
        {
          "output_type": "display_data",
          "data": {
            "text/html": [
              "<h3>Run summary:</h3><br/><style>\n",
              "    table.wandb td:nth-child(1) { padding: 0 10px; text-align: right }\n",
              "    </style><table class=\"wandb\">\n",
              "<tr><td>epoch</td><td>14</td></tr><tr><td>loss</td><td>0.05911</td></tr><tr><td>accuracy</td><td>0.95712</td></tr><tr><td>_runtime</td><td>3360</td></tr><tr><td>_timestamp</td><td>1620687149</td></tr><tr><td>_step</td><td>151</td></tr><tr><td>epoch_accuracy</td><td>0.50853</td></tr><tr><td>val_accuracy</td><td>0.50828</td></tr></table>"
            ],
            "text/plain": [
              "<IPython.core.display.HTML object>"
            ]
          },
          "metadata": {
            "tags": []
          }
        },
        {
          "output_type": "display_data",
          "data": {
            "text/html": [
              "<h3>Run history:</h3><br/><style>\n",
              "    table.wandb td:nth-child(1) { padding: 0 10px; text-align: right }\n",
              "    </style><table class=\"wandb\">\n",
              "<tr><td>epoch</td><td>▁▁▂▃▃▃▄▅▅▅▆▇▇▇█</td></tr><tr><td>loss</td><td>█▅▃▂▂▂▂▁▁▁▁▁▁▁▁</td></tr><tr><td>accuracy</td><td>▁▄▆▇▇▇▇████████</td></tr><tr><td>_runtime</td><td>▁▁▁▁▁▂▂▂▂▂▃▃▃▃▃▃▄▄▄▄▄▅▅▅▅▅▆▆▆▆▆▆▇▇▇▇▇███</td></tr><tr><td>_timestamp</td><td>▁▁▁▁▁▂▂▂▂▂▃▃▃▃▃▃▄▄▄▄▄▅▅▅▅▅▆▆▆▆▆▆▇▇▇▇▇███</td></tr><tr><td>_step</td><td>▁▁▁▁▂▂▂▂▂▃▃▃▃▃▃▄▄▄▄▄▅▅▅▅▅▅▆▆▆▆▆▇▇▇▇▇▇███</td></tr><tr><td>epoch_accuracy</td><td>▆▆▃▂▃▃▂▂▁▁▂▂▂▃▄▅▅▆▆▆▆▆▆▆▇▇▇▇▇▇██████████</td></tr><tr><td>val_accuracy</td><td>▁</td></tr></table><br/>"
            ],
            "text/plain": [
              "<IPython.core.display.HTML object>"
            ]
          },
          "metadata": {
            "tags": []
          }
        },
        {
          "output_type": "display_data",
          "data": {
            "text/html": [
              "Synced 5 W&B file(s), 1 media file(s), 2 artifact file(s) and 1 other file(s)"
            ],
            "text/plain": [
              "<IPython.core.display.HTML object>"
            ]
          },
          "metadata": {
            "tags": []
          }
        },
        {
          "output_type": "display_data",
          "data": {
            "text/html": [
              "\n",
              "                    <br/>Synced <strong style=\"color:#cdcd00\">swift-sweep-28</strong>: <a href=\"https://wandb.ai/cs6910assignment3/RNN/runs/lzhw73f5\" target=\"_blank\">https://wandb.ai/cs6910assignment3/RNN/runs/lzhw73f5</a><br/>\n",
              "                "
            ],
            "text/plain": [
              "<IPython.core.display.HTML object>"
            ]
          },
          "metadata": {
            "tags": []
          }
        },
        {
          "output_type": "stream",
          "text": [
            "\u001b[34m\u001b[1mwandb\u001b[0m: Agent Starting Run: 6hv78oos with config:\n",
            "\u001b[34m\u001b[1mwandb\u001b[0m: \tbatch_size: 128\n",
            "\u001b[34m\u001b[1mwandb\u001b[0m: \tbeam_width: 5\n",
            "\u001b[34m\u001b[1mwandb\u001b[0m: \tcell_type: LSTM\n",
            "\u001b[34m\u001b[1mwandb\u001b[0m: \tdec_search: greedy\n",
            "\u001b[34m\u001b[1mwandb\u001b[0m: \tdropout: 0.2\n",
            "\u001b[34m\u001b[1mwandb\u001b[0m: \thidden_size: 64\n",
            "\u001b[34m\u001b[1mwandb\u001b[0m: \tin_emb: 64\n",
            "\u001b[34m\u001b[1mwandb\u001b[0m: \tlearning_rate: 0.001\n",
            "\u001b[34m\u001b[1mwandb\u001b[0m: \tnum_dec: 1\n",
            "\u001b[34m\u001b[1mwandb\u001b[0m: \tnum_enc: 1\n"
          ],
          "name": "stderr"
        },
        {
          "output_type": "display_data",
          "data": {
            "text/html": [
              "\n",
              "                Tracking run with wandb version 0.10.30<br/>\n",
              "                Syncing run <strong style=\"color:#cdcd00\">stellar-sweep-32</strong> to <a href=\"https://wandb.ai\" target=\"_blank\">Weights & Biases</a> <a href=\"https://docs.wandb.com/integrations/jupyter.html\" target=\"_blank\">(Documentation)</a>.<br/>\n",
              "                Project page: <a href=\"https://wandb.ai/cs6910assignment3/RNN\" target=\"_blank\">https://wandb.ai/cs6910assignment3/RNN</a><br/>\n",
              "                Sweep page: <a href=\"https://wandb.ai/cs6910assignment3/RNN/sweeps/auh90ups\" target=\"_blank\">https://wandb.ai/cs6910assignment3/RNN/sweeps/auh90ups</a><br/>\n",
              "Run page: <a href=\"https://wandb.ai/cs6910assignment3/RNN/runs/6hv78oos\" target=\"_blank\">https://wandb.ai/cs6910assignment3/RNN/runs/6hv78oos</a><br/>\n",
              "                Run data is saved locally in <code>/content/wandb/run-20210510_225238-6hv78oos</code><br/><br/>\n",
              "            "
            ],
            "text/plain": [
              "<IPython.core.display.HTML object>"
            ]
          },
          "metadata": {
            "tags": []
          }
        },
        {
          "output_type": "stream",
          "text": [
            "Model: \"model\"\n",
            "__________________________________________________________________________________________________\n",
            "Layer (type)                    Output Shape         Param #     Connected to                     \n",
            "==================================================================================================\n",
            "Enc_inputs (InputLayer)         [(None, None)]       0                                            \n",
            "__________________________________________________________________________________________________\n",
            "Dec_inputs (InputLayer)         [(None, None)]       0                                            \n",
            "__________________________________________________________________________________________________\n",
            "Enc_emb (Embedding)             (None, None, 64)     1728        Enc_inputs[0][0]                 \n",
            "__________________________________________________________________________________________________\n",
            "Dec_emb (Embedding)             (None, None, 64)     3136        Dec_inputs[0][0]                 \n",
            "__________________________________________________________________________________________________\n",
            "Enc_hidden_1 (LSTM)             [(None, None, 64), ( 33024       Enc_emb[0][0]                    \n",
            "__________________________________________________________________________________________________\n",
            "Dec_hidden_1 (LSTM)             [(None, None, 64), ( 33024       Dec_emb[0][0]                    \n",
            "                                                                 Enc_hidden_1[0][1]               \n",
            "                                                                 Enc_hidden_1[0][2]               \n",
            "__________________________________________________________________________________________________\n",
            "dense (Dense)                   (None, None, 49)     3185        Dec_hidden_1[0][0]               \n",
            "==================================================================================================\n",
            "Total params: 74,097\n",
            "Trainable params: 74,097\n",
            "Non-trainable params: 0\n",
            "__________________________________________________________________________________________________\n",
            "Epoch 1/15\n",
            "533/533 [==============================] - 13s 12ms/step - loss: 1.0538 - accuracy: 0.2707\n",
            "Epoch 2/15\n",
            "533/533 [==============================] - 6s 12ms/step - loss: 0.6048 - accuracy: 0.5437\n",
            "Epoch 3/15\n",
            "533/533 [==============================] - 6s 12ms/step - loss: 0.4532 - accuracy: 0.6587\n",
            "Epoch 4/15\n",
            "533/533 [==============================] - 6s 12ms/step - loss: 0.3600 - accuracy: 0.7278\n",
            "Epoch 5/15\n",
            "533/533 [==============================] - 6s 12ms/step - loss: 0.3046 - accuracy: 0.7712\n",
            "Epoch 6/15\n",
            "533/533 [==============================] - 6s 12ms/step - loss: 0.2690 - accuracy: 0.7991\n",
            "Epoch 7/15\n",
            "533/533 [==============================] - 6s 12ms/step - loss: 0.2414 - accuracy: 0.8209\n",
            "Epoch 8/15\n",
            "533/533 [==============================] - 6s 12ms/step - loss: 0.2245 - accuracy: 0.8347\n",
            "Epoch 9/15\n",
            "533/533 [==============================] - 6s 12ms/step - loss: 0.2093 - accuracy: 0.8467\n",
            "Epoch 10/15\n",
            "533/533 [==============================] - 6s 12ms/step - loss: 0.1979 - accuracy: 0.8564\n",
            "Epoch 11/15\n",
            "533/533 [==============================] - 7s 12ms/step - loss: 0.1867 - accuracy: 0.8645\n",
            "Epoch 12/15\n",
            "533/533 [==============================] - 6s 12ms/step - loss: 0.1777 - accuracy: 0.8719\n",
            "Epoch 13/15\n",
            "533/533 [==============================] - 6s 12ms/step - loss: 0.1720 - accuracy: 0.8769\n",
            "Epoch 14/15\n",
            "533/533 [==============================] - 6s 12ms/step - loss: 0.1646 - accuracy: 0.8818\n",
            "Epoch 15/15\n",
            "533/533 [==============================] - 6s 12ms/step - loss: 0.1583 - accuracy: 0.8869\n"
          ],
          "name": "stdout"
        },
        {
          "output_type": "display_data",
          "data": {
            "text/html": [
              "<br/>Waiting for W&B process to finish, PID 1401954<br/>Program ended successfully."
            ],
            "text/plain": [
              "<IPython.core.display.HTML object>"
            ]
          },
          "metadata": {
            "tags": []
          }
        },
        {
          "output_type": "display_data",
          "data": {
            "application/vnd.jupyter.widget-view+json": {
              "model_id": "363cc287dfce4add8650ed98a5a7e39c",
              "version_minor": 0,
              "version_major": 2
            },
            "text/plain": [
              "VBox(children=(Label(value=' 0.17MB of 0.17MB uploaded (0.00MB deduped)\\r'), FloatProgress(value=1.0, max=1.0)…"
            ]
          },
          "metadata": {
            "tags": []
          }
        },
        {
          "output_type": "display_data",
          "data": {
            "text/html": [
              "Find user logs for this run at: <code>/content/wandb/run-20210510_225238-6hv78oos/logs/debug.log</code>"
            ],
            "text/plain": [
              "<IPython.core.display.HTML object>"
            ]
          },
          "metadata": {
            "tags": []
          }
        },
        {
          "output_type": "display_data",
          "data": {
            "text/html": [
              "Find internal logs for this run at: <code>/content/wandb/run-20210510_225238-6hv78oos/logs/debug-internal.log</code>"
            ],
            "text/plain": [
              "<IPython.core.display.HTML object>"
            ]
          },
          "metadata": {
            "tags": []
          }
        },
        {
          "output_type": "display_data",
          "data": {
            "text/html": [
              "<h3>Run summary:</h3><br/><style>\n",
              "    table.wandb td:nth-child(1) { padding: 0 10px; text-align: right }\n",
              "    </style><table class=\"wandb\">\n",
              "<tr><td>epoch</td><td>14</td></tr><tr><td>loss</td><td>0.15852</td></tr><tr><td>accuracy</td><td>0.88693</td></tr><tr><td>_runtime</td><td>2826</td></tr><tr><td>_timestamp</td><td>1620689984</td></tr><tr><td>_step</td><td>151</td></tr><tr><td>epoch_accuracy</td><td>0.37279</td></tr><tr><td>val_accuracy</td><td>0.37278</td></tr></table>"
            ],
            "text/plain": [
              "<IPython.core.display.HTML object>"
            ]
          },
          "metadata": {
            "tags": []
          }
        },
        {
          "output_type": "display_data",
          "data": {
            "text/html": [
              "<h3>Run history:</h3><br/><style>\n",
              "    table.wandb td:nth-child(1) { padding: 0 10px; text-align: right }\n",
              "    </style><table class=\"wandb\">\n",
              "<tr><td>epoch</td><td>▁▁▂▃▃▃▄▅▅▅▆▇▇▇█</td></tr><tr><td>loss</td><td>█▅▄▃▂▂▂▂▁▁▁▁▁▁▁</td></tr><tr><td>accuracy</td><td>▁▄▅▆▇▇▇▇▇██████</td></tr><tr><td>_runtime</td><td>▁▁▁▁▁▁▂▂▂▂▂▃▃▃▃▃▄▄▄▄▄▅▅▅▅▅▆▆▆▆▆▆▇▇▇▇▇███</td></tr><tr><td>_timestamp</td><td>▁▁▁▁▁▁▂▂▂▂▂▃▃▃▃▃▄▄▄▄▄▅▅▅▅▅▆▆▆▆▆▆▇▇▇▇▇███</td></tr><tr><td>_step</td><td>▁▁▁▁▂▂▂▂▂▃▃▃▃▃▃▄▄▄▄▄▅▅▅▅▅▅▆▆▆▆▆▇▇▇▇▇▇███</td></tr><tr><td>epoch_accuracy</td><td>█▁▃▄▅▅▅▅▅▅▅▅▆▆▇▇▇▆▇▇▇▆▇▇▇▇▇▇▇▇▇▇▇▇▇▇▇▇▇▇</td></tr><tr><td>val_accuracy</td><td>▁</td></tr></table><br/>"
            ],
            "text/plain": [
              "<IPython.core.display.HTML object>"
            ]
          },
          "metadata": {
            "tags": []
          }
        },
        {
          "output_type": "display_data",
          "data": {
            "text/html": [
              "Synced 5 W&B file(s), 1 media file(s), 2 artifact file(s) and 1 other file(s)"
            ],
            "text/plain": [
              "<IPython.core.display.HTML object>"
            ]
          },
          "metadata": {
            "tags": []
          }
        },
        {
          "output_type": "display_data",
          "data": {
            "text/html": [
              "\n",
              "                    <br/>Synced <strong style=\"color:#cdcd00\">stellar-sweep-32</strong>: <a href=\"https://wandb.ai/cs6910assignment3/RNN/runs/6hv78oos\" target=\"_blank\">https://wandb.ai/cs6910assignment3/RNN/runs/6hv78oos</a><br/>\n",
              "                "
            ],
            "text/plain": [
              "<IPython.core.display.HTML object>"
            ]
          },
          "metadata": {
            "tags": []
          }
        },
        {
          "output_type": "stream",
          "text": [
            "\u001b[34m\u001b[1mwandb\u001b[0m: Agent Starting Run: l8nsmb7n with config:\n",
            "\u001b[34m\u001b[1mwandb\u001b[0m: \tbatch_size: 128\n",
            "\u001b[34m\u001b[1mwandb\u001b[0m: \tbeam_width: 5\n",
            "\u001b[34m\u001b[1mwandb\u001b[0m: \tcell_type: LSTM\n",
            "\u001b[34m\u001b[1mwandb\u001b[0m: \tdec_search: greedy\n",
            "\u001b[34m\u001b[1mwandb\u001b[0m: \tdropout: 0.1\n",
            "\u001b[34m\u001b[1mwandb\u001b[0m: \thidden_size: 128\n",
            "\u001b[34m\u001b[1mwandb\u001b[0m: \tin_emb: 32\n",
            "\u001b[34m\u001b[1mwandb\u001b[0m: \tlearning_rate: 0.001\n",
            "\u001b[34m\u001b[1mwandb\u001b[0m: \tnum_dec: 2\n",
            "\u001b[34m\u001b[1mwandb\u001b[0m: \tnum_enc: 3\n"
          ],
          "name": "stderr"
        },
        {
          "output_type": "display_data",
          "data": {
            "text/html": [
              "\n",
              "                Tracking run with wandb version 0.10.30<br/>\n",
              "                Syncing run <strong style=\"color:#cdcd00\">faithful-sweep-37</strong> to <a href=\"https://wandb.ai\" target=\"_blank\">Weights & Biases</a> <a href=\"https://docs.wandb.com/integrations/jupyter.html\" target=\"_blank\">(Documentation)</a>.<br/>\n",
              "                Project page: <a href=\"https://wandb.ai/cs6910assignment3/RNN\" target=\"_blank\">https://wandb.ai/cs6910assignment3/RNN</a><br/>\n",
              "                Sweep page: <a href=\"https://wandb.ai/cs6910assignment3/RNN/sweeps/auh90ups\" target=\"_blank\">https://wandb.ai/cs6910assignment3/RNN/sweeps/auh90ups</a><br/>\n",
              "Run page: <a href=\"https://wandb.ai/cs6910assignment3/RNN/runs/l8nsmb7n\" target=\"_blank\">https://wandb.ai/cs6910assignment3/RNN/runs/l8nsmb7n</a><br/>\n",
              "                Run data is saved locally in <code>/content/wandb/run-20210510_233952-l8nsmb7n</code><br/><br/>\n",
              "            "
            ],
            "text/plain": [
              "<IPython.core.display.HTML object>"
            ]
          },
          "metadata": {
            "tags": []
          }
        },
        {
          "output_type": "stream",
          "text": [
            "Model: \"model\"\n",
            "__________________________________________________________________________________________________\n",
            "Layer (type)                    Output Shape         Param #     Connected to                     \n",
            "==================================================================================================\n",
            "Enc_inputs (InputLayer)         [(None, None)]       0                                            \n",
            "__________________________________________________________________________________________________\n",
            "Enc_emb (Embedding)             (None, None, 32)     864         Enc_inputs[0][0]                 \n",
            "__________________________________________________________________________________________________\n",
            "Enc_hidden_1 (LSTM)             [(None, None, 128),  82432       Enc_emb[0][0]                    \n",
            "__________________________________________________________________________________________________\n",
            "Dec_inputs (InputLayer)         [(None, None)]       0                                            \n",
            "__________________________________________________________________________________________________\n",
            "Enc_hidden_2 (LSTM)             [(None, None, 128),  131584      Enc_hidden_1[0][0]               \n",
            "                                                                 Enc_hidden_1[0][1]               \n",
            "                                                                 Enc_hidden_1[0][2]               \n",
            "__________________________________________________________________________________________________\n",
            "Dec_emb (Embedding)             (None, None, 128)    6272        Dec_inputs[0][0]                 \n",
            "__________________________________________________________________________________________________\n",
            "Enc_hidden_3 (LSTM)             [(None, None, 128),  131584      Enc_hidden_2[0][0]               \n",
            "                                                                 Enc_hidden_2[0][1]               \n",
            "                                                                 Enc_hidden_2[0][2]               \n",
            "__________________________________________________________________________________________________\n",
            "Dec_hidden_1 (LSTM)             [(None, None, 128),  131584      Dec_emb[0][0]                    \n",
            "                                                                 Enc_hidden_3[0][1]               \n",
            "                                                                 Enc_hidden_3[0][2]               \n",
            "__________________________________________________________________________________________________\n",
            "Dec_hidden_2 (LSTM)             [(None, None, 128),  131584      Dec_hidden_1[0][0]               \n",
            "                                                                 Enc_hidden_3[0][1]               \n",
            "                                                                 Enc_hidden_3[0][2]               \n",
            "__________________________________________________________________________________________________\n",
            "dense (Dense)                   (None, None, 49)     6321        Dec_hidden_2[0][0]               \n",
            "==================================================================================================\n",
            "Total params: 622,225\n",
            "Trainable params: 622,225\n",
            "Non-trainable params: 0\n",
            "__________________________________________________________________________________________________\n",
            "Epoch 1/15\n",
            "533/533 [==============================] - 28s 23ms/step - loss: 0.9811 - accuracy: 0.2949\n",
            "Epoch 2/15\n",
            "533/533 [==============================] - 13s 23ms/step - loss: 0.5495 - accuracy: 0.5885\n",
            "Epoch 3/15\n",
            "533/533 [==============================] - 12s 23ms/step - loss: 0.3866 - accuracy: 0.7117\n",
            "Epoch 4/15\n",
            "533/533 [==============================] - 12s 23ms/step - loss: 0.2804 - accuracy: 0.7920\n",
            "Epoch 5/15\n",
            "533/533 [==============================] - 12s 23ms/step - loss: 0.2117 - accuracy: 0.8443\n",
            "Epoch 6/15\n",
            "533/533 [==============================] - 13s 24ms/step - loss: 0.1707 - accuracy: 0.8757\n",
            "Epoch 7/15\n",
            "533/533 [==============================] - 12s 23ms/step - loss: 0.1418 - accuracy: 0.8971\n",
            "Epoch 8/15\n",
            "533/533 [==============================] - 12s 23ms/step - loss: 0.1212 - accuracy: 0.9125\n",
            "Epoch 9/15\n",
            "533/533 [==============================] - 12s 23ms/step - loss: 0.1052 - accuracy: 0.9239\n",
            "Epoch 10/15\n",
            "533/533 [==============================] - 12s 23ms/step - loss: 0.0913 - accuracy: 0.9342\n",
            "Epoch 11/15\n",
            "533/533 [==============================] - 13s 23ms/step - loss: 0.0818 - accuracy: 0.9408\n",
            "Epoch 12/15\n",
            "533/533 [==============================] - 13s 23ms/step - loss: 0.0731 - accuracy: 0.9470\n",
            "Epoch 13/15\n",
            "533/533 [==============================] - 13s 24ms/step - loss: 0.0664 - accuracy: 0.9519\n",
            "Epoch 14/15\n",
            "533/533 [==============================] - 13s 23ms/step - loss: 0.0596 - accuracy: 0.9566\n",
            "Epoch 15/15\n",
            "533/533 [==============================] - 12s 23ms/step - loss: 0.0542 - accuracy: 0.9607\n"
          ],
          "name": "stdout"
        },
        {
          "output_type": "display_data",
          "data": {
            "text/html": [
              "<br/>Waiting for W&B process to finish, PID 1613687<br/>Program ended successfully."
            ],
            "text/plain": [
              "<IPython.core.display.HTML object>"
            ]
          },
          "metadata": {
            "tags": []
          }
        },
        {
          "output_type": "display_data",
          "data": {
            "application/vnd.jupyter.widget-view+json": {
              "model_id": "363468060a3c4c669799960f7cf3d8eb",
              "version_minor": 0,
              "version_major": 2
            },
            "text/plain": [
              "VBox(children=(Label(value=' 0.19MB of 0.19MB uploaded (0.00MB deduped)\\r'), FloatProgress(value=1.0, max=1.0)…"
            ]
          },
          "metadata": {
            "tags": []
          }
        },
        {
          "output_type": "display_data",
          "data": {
            "text/html": [
              "Find user logs for this run at: <code>/content/wandb/run-20210510_233952-l8nsmb7n/logs/debug.log</code>"
            ],
            "text/plain": [
              "<IPython.core.display.HTML object>"
            ]
          },
          "metadata": {
            "tags": []
          }
        },
        {
          "output_type": "display_data",
          "data": {
            "text/html": [
              "Find internal logs for this run at: <code>/content/wandb/run-20210510_233952-l8nsmb7n/logs/debug-internal.log</code>"
            ],
            "text/plain": [
              "<IPython.core.display.HTML object>"
            ]
          },
          "metadata": {
            "tags": []
          }
        },
        {
          "output_type": "display_data",
          "data": {
            "text/html": [
              "<h3>Run summary:</h3><br/><style>\n",
              "    table.wandb td:nth-child(1) { padding: 0 10px; text-align: right }\n",
              "    </style><table class=\"wandb\">\n",
              "<tr><td>epoch</td><td>14</td></tr><tr><td>loss</td><td>0.05465</td></tr><tr><td>accuracy</td><td>0.96021</td></tr><tr><td>_runtime</td><td>3440</td></tr><tr><td>_timestamp</td><td>1620693432</td></tr><tr><td>_step</td><td>151</td></tr><tr><td>epoch_accuracy</td><td>0.475</td></tr><tr><td>val_accuracy</td><td>0.47503</td></tr></table>"
            ],
            "text/plain": [
              "<IPython.core.display.HTML object>"
            ]
          },
          "metadata": {
            "tags": []
          }
        },
        {
          "output_type": "display_data",
          "data": {
            "text/html": [
              "<h3>Run history:</h3><br/><style>\n",
              "    table.wandb td:nth-child(1) { padding: 0 10px; text-align: right }\n",
              "    </style><table class=\"wandb\">\n",
              "<tr><td>epoch</td><td>▁▁▂▃▃▃▄▅▅▅▆▇▇▇█</td></tr><tr><td>loss</td><td>█▅▄▃▂▂▂▂▁▁▁▁▁▁▁</td></tr><tr><td>accuracy</td><td>▁▄▅▆▇▇▇▇███████</td></tr><tr><td>_runtime</td><td>▁▁▁▁▁▂▂▂▂▂▃▃▃▃▃▃▄▄▄▄▄▅▅▅▅▅▆▆▆▆▆▆▇▇▇▇▇███</td></tr><tr><td>_timestamp</td><td>▁▁▁▁▁▂▂▂▂▂▃▃▃▃▃▃▄▄▄▄▄▅▅▅▅▅▆▆▆▆▆▆▇▇▇▇▇███</td></tr><tr><td>_step</td><td>▁▁▁▁▂▂▂▂▂▃▃▃▃▃▃▄▄▄▄▄▅▅▅▅▅▅▆▆▆▆▆▇▇▇▇▇▇███</td></tr><tr><td>epoch_accuracy</td><td>▂▁▄▄▄▃▃▃▂▄▄▄▅▅▅▆▆▆▆▆▆▇▇▇▇█████████████▇▇</td></tr><tr><td>val_accuracy</td><td>▁</td></tr></table><br/>"
            ],
            "text/plain": [
              "<IPython.core.display.HTML object>"
            ]
          },
          "metadata": {
            "tags": []
          }
        },
        {
          "output_type": "display_data",
          "data": {
            "text/html": [
              "Synced 5 W&B file(s), 1 media file(s), 2 artifact file(s) and 1 other file(s)"
            ],
            "text/plain": [
              "<IPython.core.display.HTML object>"
            ]
          },
          "metadata": {
            "tags": []
          }
        },
        {
          "output_type": "display_data",
          "data": {
            "text/html": [
              "\n",
              "                    <br/>Synced <strong style=\"color:#cdcd00\">faithful-sweep-37</strong>: <a href=\"https://wandb.ai/cs6910assignment3/RNN/runs/l8nsmb7n\" target=\"_blank\">https://wandb.ai/cs6910assignment3/RNN/runs/l8nsmb7n</a><br/>\n",
              "                "
            ],
            "text/plain": [
              "<IPython.core.display.HTML object>"
            ]
          },
          "metadata": {
            "tags": []
          }
        },
        {
          "output_type": "stream",
          "text": [
            "\u001b[34m\u001b[1mwandb\u001b[0m: Agent Starting Run: vw5xki3i with config:\n",
            "\u001b[34m\u001b[1mwandb\u001b[0m: \tbatch_size: 128\n",
            "\u001b[34m\u001b[1mwandb\u001b[0m: \tbeam_width: 5\n",
            "\u001b[34m\u001b[1mwandb\u001b[0m: \tcell_type: LSTM\n",
            "\u001b[34m\u001b[1mwandb\u001b[0m: \tdec_search: greedy\n",
            "\u001b[34m\u001b[1mwandb\u001b[0m: \tdropout: 0.1\n",
            "\u001b[34m\u001b[1mwandb\u001b[0m: \thidden_size: 128\n",
            "\u001b[34m\u001b[1mwandb\u001b[0m: \tin_emb: 64\n",
            "\u001b[34m\u001b[1mwandb\u001b[0m: \tlearning_rate: 0.001\n",
            "\u001b[34m\u001b[1mwandb\u001b[0m: \tnum_dec: 2\n",
            "\u001b[34m\u001b[1mwandb\u001b[0m: \tnum_enc: 2\n"
          ],
          "name": "stderr"
        },
        {
          "output_type": "display_data",
          "data": {
            "text/html": [
              "\n",
              "                Tracking run with wandb version 0.10.30<br/>\n",
              "                Syncing run <strong style=\"color:#cdcd00\">fanciful-sweep-41</strong> to <a href=\"https://wandb.ai\" target=\"_blank\">Weights & Biases</a> <a href=\"https://docs.wandb.com/integrations/jupyter.html\" target=\"_blank\">(Documentation)</a>.<br/>\n",
              "                Project page: <a href=\"https://wandb.ai/cs6910assignment3/RNN\" target=\"_blank\">https://wandb.ai/cs6910assignment3/RNN</a><br/>\n",
              "                Sweep page: <a href=\"https://wandb.ai/cs6910assignment3/RNN/sweeps/auh90ups\" target=\"_blank\">https://wandb.ai/cs6910assignment3/RNN/sweeps/auh90ups</a><br/>\n",
              "Run page: <a href=\"https://wandb.ai/cs6910assignment3/RNN/runs/vw5xki3i\" target=\"_blank\">https://wandb.ai/cs6910assignment3/RNN/runs/vw5xki3i</a><br/>\n",
              "                Run data is saved locally in <code>/content/wandb/run-20210511_003722-vw5xki3i</code><br/><br/>\n",
              "            "
            ],
            "text/plain": [
              "<IPython.core.display.HTML object>"
            ]
          },
          "metadata": {
            "tags": []
          }
        },
        {
          "output_type": "stream",
          "text": [
            "Model: \"model\"\n",
            "__________________________________________________________________________________________________\n",
            "Layer (type)                    Output Shape         Param #     Connected to                     \n",
            "==================================================================================================\n",
            "Enc_inputs (InputLayer)         [(None, None)]       0                                            \n",
            "__________________________________________________________________________________________________\n",
            "Enc_emb (Embedding)             (None, None, 64)     1728        Enc_inputs[0][0]                 \n",
            "__________________________________________________________________________________________________\n",
            "Dec_inputs (InputLayer)         [(None, None)]       0                                            \n",
            "__________________________________________________________________________________________________\n",
            "Enc_hidden_1 (LSTM)             [(None, None, 128),  98816       Enc_emb[0][0]                    \n",
            "__________________________________________________________________________________________________\n",
            "Dec_emb (Embedding)             (None, None, 128)    6272        Dec_inputs[0][0]                 \n",
            "__________________________________________________________________________________________________\n",
            "Enc_hidden_2 (LSTM)             [(None, None, 128),  131584      Enc_hidden_1[0][0]               \n",
            "                                                                 Enc_hidden_1[0][1]               \n",
            "                                                                 Enc_hidden_1[0][2]               \n",
            "__________________________________________________________________________________________________\n",
            "Dec_hidden_1 (LSTM)             [(None, None, 128),  131584      Dec_emb[0][0]                    \n",
            "                                                                 Enc_hidden_2[0][1]               \n",
            "                                                                 Enc_hidden_2[0][2]               \n",
            "__________________________________________________________________________________________________\n",
            "Dec_hidden_2 (LSTM)             [(None, None, 128),  131584      Dec_hidden_1[0][0]               \n",
            "                                                                 Enc_hidden_2[0][1]               \n",
            "                                                                 Enc_hidden_2[0][2]               \n",
            "__________________________________________________________________________________________________\n",
            "dense (Dense)                   (None, None, 49)     6321        Dec_hidden_2[0][0]               \n",
            "==================================================================================================\n",
            "Total params: 507,889\n",
            "Trainable params: 507,889\n",
            "Non-trainable params: 0\n",
            "__________________________________________________________________________________________________\n",
            "Epoch 1/15\n",
            "533/533 [==============================] - 26s 21ms/step - loss: 0.9889 - accuracy: 0.2937\n",
            "Epoch 2/15\n",
            "533/533 [==============================] - 11s 20ms/step - loss: 0.5107 - accuracy: 0.6173\n",
            "Epoch 3/15\n",
            "533/533 [==============================] - 11s 21ms/step - loss: 0.2984 - accuracy: 0.7816\n",
            "Epoch 4/15\n",
            "533/533 [==============================] - 12s 22ms/step - loss: 0.2075 - accuracy: 0.8492\n",
            "Epoch 5/15\n",
            "533/533 [==============================] - 11s 21ms/step - loss: 0.1612 - accuracy: 0.8847\n",
            "Epoch 6/15\n",
            "533/533 [==============================] - 11s 21ms/step - loss: 0.1354 - accuracy: 0.9042\n",
            "Epoch 7/15\n",
            "533/533 [==============================] - 12s 22ms/step - loss: 0.1159 - accuracy: 0.9187\n",
            "Epoch 8/15\n",
            "533/533 [==============================] - 12s 22ms/step - loss: 0.0999 - accuracy: 0.9303\n",
            "Epoch 9/15\n",
            "533/533 [==============================] - 11s 21ms/step - loss: 0.0901 - accuracy: 0.9366\n",
            "Epoch 10/15\n",
            "533/533 [==============================] - 11s 21ms/step - loss: 0.0785 - accuracy: 0.9448\n",
            "Epoch 11/15\n",
            "533/533 [==============================] - 11s 21ms/step - loss: 0.0710 - accuracy: 0.9497\n",
            "Epoch 12/15\n",
            "533/533 [==============================] - 11s 21ms/step - loss: 0.0639 - accuracy: 0.9549\n",
            "Epoch 13/15\n",
            "533/533 [==============================] - 11s 21ms/step - loss: 0.0587 - accuracy: 0.9582\n",
            "Epoch 14/15\n",
            "533/533 [==============================] - 12s 22ms/step - loss: 0.0546 - accuracy: 0.9612\n",
            "Epoch 15/15\n",
            "533/533 [==============================] - 11s 21ms/step - loss: 0.0501 - accuracy: 0.9637\n"
          ],
          "name": "stdout"
        },
        {
          "output_type": "display_data",
          "data": {
            "text/html": [
              "<br/>Waiting for W&B process to finish, PID 1824907<br/>Program ended successfully."
            ],
            "text/plain": [
              "<IPython.core.display.HTML object>"
            ]
          },
          "metadata": {
            "tags": []
          }
        },
        {
          "output_type": "display_data",
          "data": {
            "application/vnd.jupyter.widget-view+json": {
              "model_id": "d7ceace38b0e4d2e844a3bc8a5892dd3",
              "version_minor": 0,
              "version_major": 2
            },
            "text/plain": [
              "VBox(children=(Label(value=' 0.21MB of 0.21MB uploaded (0.00MB deduped)\\r'), FloatProgress(value=1.0, max=1.0)…"
            ]
          },
          "metadata": {
            "tags": []
          }
        },
        {
          "output_type": "display_data",
          "data": {
            "text/html": [
              "Find user logs for this run at: <code>/content/wandb/run-20210511_003722-vw5xki3i/logs/debug.log</code>"
            ],
            "text/plain": [
              "<IPython.core.display.HTML object>"
            ]
          },
          "metadata": {
            "tags": []
          }
        },
        {
          "output_type": "display_data",
          "data": {
            "text/html": [
              "Find internal logs for this run at: <code>/content/wandb/run-20210511_003722-vw5xki3i/logs/debug-internal.log</code>"
            ],
            "text/plain": [
              "<IPython.core.display.HTML object>"
            ]
          },
          "metadata": {
            "tags": []
          }
        },
        {
          "output_type": "display_data",
          "data": {
            "text/html": [
              "<h3>Run summary:</h3><br/><style>\n",
              "    table.wandb td:nth-child(1) { padding: 0 10px; text-align: right }\n",
              "    </style><table class=\"wandb\">\n",
              "<tr><td>epoch</td><td>14</td></tr><tr><td>loss</td><td>0.05009</td></tr><tr><td>accuracy</td><td>0.96371</td></tr><tr><td>_runtime</td><td>3534</td></tr><tr><td>_timestamp</td><td>1620696976</td></tr><tr><td>_step</td><td>151</td></tr><tr><td>epoch_accuracy</td><td>0.50147</td></tr><tr><td>val_accuracy</td><td>0.50154</td></tr></table>"
            ],
            "text/plain": [
              "<IPython.core.display.HTML object>"
            ]
          },
          "metadata": {
            "tags": []
          }
        },
        {
          "output_type": "display_data",
          "data": {
            "text/html": [
              "<h3>Run history:</h3><br/><style>\n",
              "    table.wandb td:nth-child(1) { padding: 0 10px; text-align: right }\n",
              "    </style><table class=\"wandb\">\n",
              "<tr><td>epoch</td><td>▁▁▂▃▃▃▄▅▅▅▆▇▇▇█</td></tr><tr><td>loss</td><td>█▅▃▂▂▂▂▁▁▁▁▁▁▁▁</td></tr><tr><td>accuracy</td><td>▁▄▆▇▇▇▇████████</td></tr><tr><td>_runtime</td><td>▁▁▁▁▁▂▂▂▂▂▃▃▃▃▃▃▄▄▄▄▄▅▅▅▅▅▆▆▆▆▆▆▇▇▇▇▇███</td></tr><tr><td>_timestamp</td><td>▁▁▁▁▁▂▂▂▂▂▃▃▃▃▃▃▄▄▄▄▄▅▅▅▅▅▆▆▆▆▆▆▇▇▇▇▇███</td></tr><tr><td>_step</td><td>▁▁▁▁▂▂▂▂▂▃▃▃▃▃▃▄▄▄▄▄▅▅▅▅▅▅▆▆▆▆▆▇▇▇▇▇▇███</td></tr><tr><td>epoch_accuracy</td><td>▁▆▅▅▅▄▄▄▃▃▄▄▄▄▅▅▆▆▆▆▆▇▇▇▇▇▇▇▇▇▇█████████</td></tr><tr><td>val_accuracy</td><td>▁</td></tr></table><br/>"
            ],
            "text/plain": [
              "<IPython.core.display.HTML object>"
            ]
          },
          "metadata": {
            "tags": []
          }
        },
        {
          "output_type": "display_data",
          "data": {
            "text/html": [
              "Synced 5 W&B file(s), 1 media file(s), 2 artifact file(s) and 1 other file(s)"
            ],
            "text/plain": [
              "<IPython.core.display.HTML object>"
            ]
          },
          "metadata": {
            "tags": []
          }
        },
        {
          "output_type": "display_data",
          "data": {
            "text/html": [
              "\n",
              "                    <br/>Synced <strong style=\"color:#cdcd00\">fanciful-sweep-41</strong>: <a href=\"https://wandb.ai/cs6910assignment3/RNN/runs/vw5xki3i\" target=\"_blank\">https://wandb.ai/cs6910assignment3/RNN/runs/vw5xki3i</a><br/>\n",
              "                "
            ],
            "text/plain": [
              "<IPython.core.display.HTML object>"
            ]
          },
          "metadata": {
            "tags": []
          }
        },
        {
          "output_type": "stream",
          "text": [
            "\u001b[34m\u001b[1mwandb\u001b[0m: Agent Starting Run: 1m1j6ykb with config:\n",
            "\u001b[34m\u001b[1mwandb\u001b[0m: \tbatch_size: 128\n",
            "\u001b[34m\u001b[1mwandb\u001b[0m: \tbeam_width: 5\n",
            "\u001b[34m\u001b[1mwandb\u001b[0m: \tcell_type: LSTM\n",
            "\u001b[34m\u001b[1mwandb\u001b[0m: \tdec_search: beam_search\n",
            "\u001b[34m\u001b[1mwandb\u001b[0m: \tdropout: 0\n",
            "\u001b[34m\u001b[1mwandb\u001b[0m: \thidden_size: 128\n",
            "\u001b[34m\u001b[1mwandb\u001b[0m: \tin_emb: 32\n",
            "\u001b[34m\u001b[1mwandb\u001b[0m: \tlearning_rate: 0.001\n",
            "\u001b[34m\u001b[1mwandb\u001b[0m: \tnum_dec: 3\n",
            "\u001b[34m\u001b[1mwandb\u001b[0m: \tnum_enc: 3\n"
          ],
          "name": "stderr"
        },
        {
          "output_type": "display_data",
          "data": {
            "text/html": [
              "\n",
              "                Tracking run with wandb version 0.10.30<br/>\n",
              "                Syncing run <strong style=\"color:#cdcd00\">pious-sweep-47</strong> to <a href=\"https://wandb.ai\" target=\"_blank\">Weights & Biases</a> <a href=\"https://docs.wandb.com/integrations/jupyter.html\" target=\"_blank\">(Documentation)</a>.<br/>\n",
              "                Project page: <a href=\"https://wandb.ai/cs6910assignment3/RNN\" target=\"_blank\">https://wandb.ai/cs6910assignment3/RNN</a><br/>\n",
              "                Sweep page: <a href=\"https://wandb.ai/cs6910assignment3/RNN/sweeps/auh90ups\" target=\"_blank\">https://wandb.ai/cs6910assignment3/RNN/sweeps/auh90ups</a><br/>\n",
              "Run page: <a href=\"https://wandb.ai/cs6910assignment3/RNN/runs/1m1j6ykb\" target=\"_blank\">https://wandb.ai/cs6910assignment3/RNN/runs/1m1j6ykb</a><br/>\n",
              "                Run data is saved locally in <code>/content/wandb/run-20210511_013625-1m1j6ykb</code><br/><br/>\n",
              "            "
            ],
            "text/plain": [
              "<IPython.core.display.HTML object>"
            ]
          },
          "metadata": {
            "tags": []
          }
        },
        {
          "output_type": "stream",
          "text": [
            "Model: \"model\"\n",
            "__________________________________________________________________________________________________\n",
            "Layer (type)                    Output Shape         Param #     Connected to                     \n",
            "==================================================================================================\n",
            "Enc_inputs (InputLayer)         [(None, None)]       0                                            \n",
            "__________________________________________________________________________________________________\n",
            "Enc_emb (Embedding)             (None, None, 32)     864         Enc_inputs[0][0]                 \n",
            "__________________________________________________________________________________________________\n",
            "Enc_hidden_1 (LSTM)             [(None, None, 128),  82432       Enc_emb[0][0]                    \n",
            "__________________________________________________________________________________________________\n",
            "Dec_inputs (InputLayer)         [(None, None)]       0                                            \n",
            "__________________________________________________________________________________________________\n",
            "Enc_hidden_2 (LSTM)             [(None, None, 128),  131584      Enc_hidden_1[0][0]               \n",
            "                                                                 Enc_hidden_1[0][1]               \n",
            "                                                                 Enc_hidden_1[0][2]               \n",
            "__________________________________________________________________________________________________\n",
            "Dec_emb (Embedding)             (None, None, 128)    6272        Dec_inputs[0][0]                 \n",
            "__________________________________________________________________________________________________\n",
            "Enc_hidden_3 (LSTM)             [(None, None, 128),  131584      Enc_hidden_2[0][0]               \n",
            "                                                                 Enc_hidden_2[0][1]               \n",
            "                                                                 Enc_hidden_2[0][2]               \n",
            "__________________________________________________________________________________________________\n",
            "Dec_hidden_1 (LSTM)             [(None, None, 128),  131584      Dec_emb[0][0]                    \n",
            "                                                                 Enc_hidden_3[0][1]               \n",
            "                                                                 Enc_hidden_3[0][2]               \n",
            "__________________________________________________________________________________________________\n",
            "Dec_hidden_2 (LSTM)             [(None, None, 128),  131584      Dec_hidden_1[0][0]               \n",
            "                                                                 Enc_hidden_3[0][1]               \n",
            "                                                                 Enc_hidden_3[0][2]               \n",
            "__________________________________________________________________________________________________\n",
            "Dec_hidden_3 (LSTM)             [(None, None, 128),  131584      Dec_hidden_2[0][0]               \n",
            "                                                                 Enc_hidden_3[0][1]               \n",
            "                                                                 Enc_hidden_3[0][2]               \n",
            "__________________________________________________________________________________________________\n",
            "dense (Dense)                   (None, None, 49)     6321        Dec_hidden_3[0][0]               \n",
            "==================================================================================================\n",
            "Total params: 753,809\n",
            "Trainable params: 753,809\n",
            "Non-trainable params: 0\n",
            "__________________________________________________________________________________________________\n",
            "Epoch 1/15\n",
            "533/533 [==============================] - 32s 27ms/step - loss: 1.0163 - accuracy: 0.2633\n",
            "Epoch 2/15\n",
            "533/533 [==============================] - 15s 27ms/step - loss: 0.5623 - accuracy: 0.5751\n",
            "Epoch 3/15\n",
            "533/533 [==============================] - 14s 27ms/step - loss: 0.3594 - accuracy: 0.7366\n",
            "Epoch 4/15\n",
            "533/533 [==============================] - 14s 27ms/step - loss: 0.2430 - accuracy: 0.8263\n",
            "Epoch 5/15\n",
            "533/533 [==============================] - 14s 27ms/step - loss: 0.1832 - accuracy: 0.8703\n",
            "Epoch 6/15\n",
            "533/533 [==============================] - 14s 27ms/step - loss: 0.1449 - accuracy: 0.8980\n",
            "Epoch 7/15\n",
            "533/533 [==============================] - 14s 27ms/step - loss: 0.1204 - accuracy: 0.9166\n",
            "Epoch 8/15\n",
            "533/533 [==============================] - 14s 27ms/step - loss: 0.1011 - accuracy: 0.9303\n",
            "Epoch 9/15\n",
            "533/533 [==============================] - 15s 27ms/step - loss: 0.0857 - accuracy: 0.9411\n",
            "Epoch 10/15\n",
            "533/533 [==============================] - 14s 27ms/step - loss: 0.0736 - accuracy: 0.9497\n",
            "Epoch 11/15\n",
            "533/533 [==============================] - 14s 27ms/step - loss: 0.0640 - accuracy: 0.9563\n",
            "Epoch 12/15\n",
            "533/533 [==============================] - 14s 27ms/step - loss: 0.0565 - accuracy: 0.9615\n",
            "Epoch 13/15\n",
            "533/533 [==============================] - 15s 28ms/step - loss: 0.0478 - accuracy: 0.9674\n",
            "Epoch 14/15\n",
            "533/533 [==============================] - 15s 28ms/step - loss: 0.0428 - accuracy: 0.9708\n",
            "Epoch 15/15\n",
            "533/533 [==============================] - 14s 27ms/step - loss: 0.0376 - accuracy: 0.9744\n"
          ],
          "name": "stdout"
        },
        {
          "output_type": "display_data",
          "data": {
            "text/html": [
              "<br/>Waiting for W&B process to finish, PID 2036736<br/>Program ended successfully."
            ],
            "text/plain": [
              "<IPython.core.display.HTML object>"
            ]
          },
          "metadata": {
            "tags": []
          }
        },
        {
          "output_type": "display_data",
          "data": {
            "application/vnd.jupyter.widget-view+json": {
              "model_id": "7fe30f2d0c7b463792fcf04c7b073371",
              "version_minor": 0,
              "version_major": 2
            },
            "text/plain": [
              "VBox(children=(Label(value=' 0.22MB of 0.22MB uploaded (0.00MB deduped)\\r'), FloatProgress(value=1.0, max=1.0)…"
            ]
          },
          "metadata": {
            "tags": []
          }
        },
        {
          "output_type": "display_data",
          "data": {
            "text/html": [
              "Find user logs for this run at: <code>/content/wandb/run-20210511_013625-1m1j6ykb/logs/debug.log</code>"
            ],
            "text/plain": [
              "<IPython.core.display.HTML object>"
            ]
          },
          "metadata": {
            "tags": []
          }
        },
        {
          "output_type": "display_data",
          "data": {
            "text/html": [
              "Find internal logs for this run at: <code>/content/wandb/run-20210511_013625-1m1j6ykb/logs/debug-internal.log</code>"
            ],
            "text/plain": [
              "<IPython.core.display.HTML object>"
            ]
          },
          "metadata": {
            "tags": []
          }
        },
        {
          "output_type": "display_data",
          "data": {
            "text/html": [
              "<h3>Run summary:</h3><br/><style>\n",
              "    table.wandb td:nth-child(1) { padding: 0 10px; text-align: right }\n",
              "    </style><table class=\"wandb\">\n",
              "<tr><td>epoch</td><td>14</td></tr><tr><td>loss</td><td>0.03814</td></tr><tr><td>accuracy</td><td>0.97366</td></tr><tr><td>_runtime</td><td>3949</td></tr><tr><td>_timestamp</td><td>1620700934</td></tr><tr><td>_step</td><td>151</td></tr><tr><td>epoch_accuracy</td><td>0.43941</td></tr><tr><td>val_accuracy</td><td>0.43943</td></tr></table>"
            ],
            "text/plain": [
              "<IPython.core.display.HTML object>"
            ]
          },
          "metadata": {
            "tags": []
          }
        },
        {
          "output_type": "display_data",
          "data": {
            "text/html": [
              "<h3>Run history:</h3><br/><style>\n",
              "    table.wandb td:nth-child(1) { padding: 0 10px; text-align: right }\n",
              "    </style><table class=\"wandb\">\n",
              "<tr><td>epoch</td><td>▁▁▂▃▃▃▄▅▅▅▆▇▇▇█</td></tr><tr><td>loss</td><td>█▅▃▃▂▂▂▂▁▁▁▁▁▁▁</td></tr><tr><td>accuracy</td><td>▁▄▆▆▇▇▇████████</td></tr><tr><td>_runtime</td><td>▁▁▁▁▁▂▂▂▂▂▃▃▃▃▃▃▄▄▄▄▄▅▅▅▅▅▆▆▆▆▆▆▇▇▇▇▇███</td></tr><tr><td>_timestamp</td><td>▁▁▁▁▁▂▂▂▂▂▃▃▃▃▃▃▄▄▄▄▄▅▅▅▅▅▆▆▆▆▆▆▇▇▇▇▇███</td></tr><tr><td>_step</td><td>▁▁▁▁▂▂▂▂▂▃▃▃▃▃▃▄▄▄▄▄▅▅▅▅▅▅▆▆▆▆▆▇▇▇▇▇▇███</td></tr><tr><td>epoch_accuracy</td><td>█▆▂▃▄▃▁▂▁▂▂▂▂▃▄▄▄▄▅▅▄▅▅▅▅▅▅▅▅▅▅▅▅▅▅▅▆▆▅▅</td></tr><tr><td>val_accuracy</td><td>▁</td></tr></table><br/>"
            ],
            "text/plain": [
              "<IPython.core.display.HTML object>"
            ]
          },
          "metadata": {
            "tags": []
          }
        },
        {
          "output_type": "display_data",
          "data": {
            "text/html": [
              "Synced 5 W&B file(s), 1 media file(s), 2 artifact file(s) and 1 other file(s)"
            ],
            "text/plain": [
              "<IPython.core.display.HTML object>"
            ]
          },
          "metadata": {
            "tags": []
          }
        },
        {
          "output_type": "display_data",
          "data": {
            "text/html": [
              "\n",
              "                    <br/>Synced <strong style=\"color:#cdcd00\">pious-sweep-47</strong>: <a href=\"https://wandb.ai/cs6910assignment3/RNN/runs/1m1j6ykb\" target=\"_blank\">https://wandb.ai/cs6910assignment3/RNN/runs/1m1j6ykb</a><br/>\n",
              "                "
            ],
            "text/plain": [
              "<IPython.core.display.HTML object>"
            ]
          },
          "metadata": {
            "tags": []
          }
        },
        {
          "output_type": "stream",
          "text": [
            "\u001b[34m\u001b[1mwandb\u001b[0m: Agent Starting Run: 91ksretg with config:\n",
            "\u001b[34m\u001b[1mwandb\u001b[0m: \tbatch_size: 128\n",
            "\u001b[34m\u001b[1mwandb\u001b[0m: \tbeam_width: 5\n",
            "\u001b[34m\u001b[1mwandb\u001b[0m: \tcell_type: LSTM\n",
            "\u001b[34m\u001b[1mwandb\u001b[0m: \tdec_search: greedy\n",
            "\u001b[34m\u001b[1mwandb\u001b[0m: \tdropout: 0.2\n",
            "\u001b[34m\u001b[1mwandb\u001b[0m: \thidden_size: 128\n",
            "\u001b[34m\u001b[1mwandb\u001b[0m: \tin_emb: 128\n",
            "\u001b[34m\u001b[1mwandb\u001b[0m: \tlearning_rate: 0.001\n",
            "\u001b[34m\u001b[1mwandb\u001b[0m: \tnum_dec: 3\n",
            "\u001b[34m\u001b[1mwandb\u001b[0m: \tnum_enc: 1\n"
          ],
          "name": "stderr"
        },
        {
          "output_type": "display_data",
          "data": {
            "text/html": [
              "\n",
              "                Tracking run with wandb version 0.10.30<br/>\n",
              "                Syncing run <strong style=\"color:#cdcd00\">curious-sweep-50</strong> to <a href=\"https://wandb.ai\" target=\"_blank\">Weights & Biases</a> <a href=\"https://docs.wandb.com/integrations/jupyter.html\" target=\"_blank\">(Documentation)</a>.<br/>\n",
              "                Project page: <a href=\"https://wandb.ai/cs6910assignment3/RNN\" target=\"_blank\">https://wandb.ai/cs6910assignment3/RNN</a><br/>\n",
              "                Sweep page: <a href=\"https://wandb.ai/cs6910assignment3/RNN/sweeps/auh90ups\" target=\"_blank\">https://wandb.ai/cs6910assignment3/RNN/sweeps/auh90ups</a><br/>\n",
              "Run page: <a href=\"https://wandb.ai/cs6910assignment3/RNN/runs/91ksretg\" target=\"_blank\">https://wandb.ai/cs6910assignment3/RNN/runs/91ksretg</a><br/>\n",
              "                Run data is saved locally in <code>/content/wandb/run-20210511_024223-91ksretg</code><br/><br/>\n",
              "            "
            ],
            "text/plain": [
              "<IPython.core.display.HTML object>"
            ]
          },
          "metadata": {
            "tags": []
          }
        },
        {
          "output_type": "stream",
          "text": [
            "Model: \"model\"\n",
            "__________________________________________________________________________________________________\n",
            "Layer (type)                    Output Shape         Param #     Connected to                     \n",
            "==================================================================================================\n",
            "Enc_inputs (InputLayer)         [(None, None)]       0                                            \n",
            "__________________________________________________________________________________________________\n",
            "Dec_inputs (InputLayer)         [(None, None)]       0                                            \n",
            "__________________________________________________________________________________________________\n",
            "Enc_emb (Embedding)             (None, None, 128)    3456        Enc_inputs[0][0]                 \n",
            "__________________________________________________________________________________________________\n",
            "Dec_emb (Embedding)             (None, None, 128)    6272        Dec_inputs[0][0]                 \n",
            "__________________________________________________________________________________________________\n",
            "Enc_hidden_1 (LSTM)             [(None, None, 128),  131584      Enc_emb[0][0]                    \n",
            "__________________________________________________________________________________________________\n",
            "Dec_hidden_1 (LSTM)             [(None, None, 128),  131584      Dec_emb[0][0]                    \n",
            "                                                                 Enc_hidden_1[0][1]               \n",
            "                                                                 Enc_hidden_1[0][2]               \n",
            "__________________________________________________________________________________________________\n",
            "Dec_hidden_2 (LSTM)             [(None, None, 128),  131584      Dec_hidden_1[0][0]               \n",
            "                                                                 Enc_hidden_1[0][1]               \n",
            "                                                                 Enc_hidden_1[0][2]               \n",
            "__________________________________________________________________________________________________\n",
            "Dec_hidden_3 (LSTM)             [(None, None, 128),  131584      Dec_hidden_2[0][0]               \n",
            "                                                                 Enc_hidden_1[0][1]               \n",
            "                                                                 Enc_hidden_1[0][2]               \n",
            "__________________________________________________________________________________________________\n",
            "dense (Dense)                   (None, None, 49)     6321        Dec_hidden_3[0][0]               \n",
            "==================================================================================================\n",
            "Total params: 542,385\n",
            "Trainable params: 542,385\n",
            "Non-trainable params: 0\n",
            "__________________________________________________________________________________________________\n",
            "Epoch 1/15\n",
            "533/533 [==============================] - 26s 21ms/step - loss: 1.0307 - accuracy: 0.2534\n",
            "Epoch 2/15\n",
            "533/533 [==============================] - 11s 21ms/step - loss: 0.4929 - accuracy: 0.6267\n",
            "Epoch 3/15\n",
            "533/533 [==============================] - 11s 21ms/step - loss: 0.2911 - accuracy: 0.7826\n",
            "Epoch 4/15\n",
            "533/533 [==============================] - 11s 21ms/step - loss: 0.2071 - accuracy: 0.8490\n",
            "Epoch 5/15\n",
            "533/533 [==============================] - 11s 21ms/step - loss: 0.1657 - accuracy: 0.8813\n",
            "Epoch 6/15\n",
            "533/533 [==============================] - 11s 21ms/step - loss: 0.1388 - accuracy: 0.9017\n",
            "Epoch 7/15\n",
            "533/533 [==============================] - 11s 21ms/step - loss: 0.1199 - accuracy: 0.9156\n",
            "Epoch 8/15\n",
            "533/533 [==============================] - 11s 21ms/step - loss: 0.1056 - accuracy: 0.9252\n",
            "Epoch 9/15\n",
            "533/533 [==============================] - 11s 21ms/step - loss: 0.0940 - accuracy: 0.9327\n",
            "Epoch 10/15\n",
            "533/533 [==============================] - 11s 21ms/step - loss: 0.0845 - accuracy: 0.9391\n",
            "Epoch 11/15\n",
            "533/533 [==============================] - 11s 21ms/step - loss: 0.0772 - accuracy: 0.9447\n",
            "Epoch 12/15\n",
            "533/533 [==============================] - 11s 21ms/step - loss: 0.0716 - accuracy: 0.9482\n",
            "Epoch 13/15\n",
            "533/533 [==============================] - 11s 21ms/step - loss: 0.0669 - accuracy: 0.9509\n",
            "Epoch 14/15\n",
            "533/533 [==============================] - 11s 21ms/step - loss: 0.0614 - accuracy: 0.9551\n",
            "Epoch 15/15\n",
            "533/533 [==============================] - 11s 21ms/step - loss: 0.0577 - accuracy: 0.9579\n"
          ],
          "name": "stdout"
        },
        {
          "output_type": "display_data",
          "data": {
            "text/html": [
              "<br/>Waiting for W&B process to finish, PID 2246915<br/>Program ended successfully."
            ],
            "text/plain": [
              "<IPython.core.display.HTML object>"
            ]
          },
          "metadata": {
            "tags": []
          }
        },
        {
          "output_type": "display_data",
          "data": {
            "application/vnd.jupyter.widget-view+json": {
              "model_id": "553d0146e10c46218cde12c68dda26d2",
              "version_minor": 0,
              "version_major": 2
            },
            "text/plain": [
              "VBox(children=(Label(value=' 0.24MB of 0.24MB uploaded (0.00MB deduped)\\r'), FloatProgress(value=1.0, max=1.0)…"
            ]
          },
          "metadata": {
            "tags": []
          }
        },
        {
          "output_type": "display_data",
          "data": {
            "text/html": [
              "Find user logs for this run at: <code>/content/wandb/run-20210511_024223-91ksretg/logs/debug.log</code>"
            ],
            "text/plain": [
              "<IPython.core.display.HTML object>"
            ]
          },
          "metadata": {
            "tags": []
          }
        },
        {
          "output_type": "display_data",
          "data": {
            "text/html": [
              "Find internal logs for this run at: <code>/content/wandb/run-20210511_024223-91ksretg/logs/debug-internal.log</code>"
            ],
            "text/plain": [
              "<IPython.core.display.HTML object>"
            ]
          },
          "metadata": {
            "tags": []
          }
        },
        {
          "output_type": "display_data",
          "data": {
            "text/html": [
              "<h3>Run summary:</h3><br/><style>\n",
              "    table.wandb td:nth-child(1) { padding: 0 10px; text-align: right }\n",
              "    </style><table class=\"wandb\">\n",
              "<tr><td>epoch</td><td>14</td></tr><tr><td>loss</td><td>0.05817</td></tr><tr><td>accuracy</td><td>0.95747</td></tr><tr><td>_runtime</td><td>3970</td></tr><tr><td>_timestamp</td><td>1620704913</td></tr><tr><td>_step</td><td>151</td></tr><tr><td>epoch_accuracy</td><td>0.51324</td></tr><tr><td>val_accuracy</td><td>0.51311</td></tr></table>"
            ],
            "text/plain": [
              "<IPython.core.display.HTML object>"
            ]
          },
          "metadata": {
            "tags": []
          }
        },
        {
          "output_type": "display_data",
          "data": {
            "text/html": [
              "<h3>Run history:</h3><br/><style>\n",
              "    table.wandb td:nth-child(1) { padding: 0 10px; text-align: right }\n",
              "    </style><table class=\"wandb\">\n",
              "<tr><td>epoch</td><td>▁▁▂▃▃▃▄▅▅▅▆▇▇▇█</td></tr><tr><td>loss</td><td>█▄▃▂▂▂▂▁▁▁▁▁▁▁▁</td></tr><tr><td>accuracy</td><td>▁▅▆▇▇▇█████████</td></tr><tr><td>_runtime</td><td>▁▁▁▁▁▂▂▂▂▂▂▃▃▃▃▃▄▄▄▄▄▅▅▅▅▅▆▆▆▆▆▆▇▇▇▇▇███</td></tr><tr><td>_timestamp</td><td>▁▁▁▁▁▂▂▂▂▂▂▃▃▃▃▃▄▄▄▄▄▅▅▅▅▅▆▆▆▆▆▆▇▇▇▇▇███</td></tr><tr><td>_step</td><td>▁▁▁▁▂▂▂▂▂▃▃▃▃▃▃▄▄▄▄▄▅▅▅▅▅▅▆▆▆▆▆▇▇▇▇▇▇███</td></tr><tr><td>epoch_accuracy</td><td>▂▁▂▃▃▂▂▁▁▂▃▃▄▄▅▆▆▆▆▆▆▇▇▇▇█▇█████████████</td></tr><tr><td>val_accuracy</td><td>▁</td></tr></table><br/>"
            ],
            "text/plain": [
              "<IPython.core.display.HTML object>"
            ]
          },
          "metadata": {
            "tags": []
          }
        },
        {
          "output_type": "display_data",
          "data": {
            "text/html": [
              "Synced 5 W&B file(s), 1 media file(s), 2 artifact file(s) and 1 other file(s)"
            ],
            "text/plain": [
              "<IPython.core.display.HTML object>"
            ]
          },
          "metadata": {
            "tags": []
          }
        },
        {
          "output_type": "display_data",
          "data": {
            "text/html": [
              "\n",
              "                    <br/>Synced <strong style=\"color:#cdcd00\">curious-sweep-50</strong>: <a href=\"https://wandb.ai/cs6910assignment3/RNN/runs/91ksretg\" target=\"_blank\">https://wandb.ai/cs6910assignment3/RNN/runs/91ksretg</a><br/>\n",
              "                "
            ],
            "text/plain": [
              "<IPython.core.display.HTML object>"
            ]
          },
          "metadata": {
            "tags": []
          }
        },
        {
          "output_type": "stream",
          "text": [
            "\u001b[34m\u001b[1mwandb\u001b[0m: Agent Starting Run: srllwi1b with config:\n",
            "\u001b[34m\u001b[1mwandb\u001b[0m: \tbatch_size: 128\n",
            "\u001b[34m\u001b[1mwandb\u001b[0m: \tbeam_width: 5\n",
            "\u001b[34m\u001b[1mwandb\u001b[0m: \tcell_type: LSTM\n",
            "\u001b[34m\u001b[1mwandb\u001b[0m: \tdec_search: greedy\n",
            "\u001b[34m\u001b[1mwandb\u001b[0m: \tdropout: 0.1\n",
            "\u001b[34m\u001b[1mwandb\u001b[0m: \thidden_size: 64\n",
            "\u001b[34m\u001b[1mwandb\u001b[0m: \tin_emb: 64\n",
            "\u001b[34m\u001b[1mwandb\u001b[0m: \tlearning_rate: 0.001\n",
            "\u001b[34m\u001b[1mwandb\u001b[0m: \tnum_dec: 3\n",
            "\u001b[34m\u001b[1mwandb\u001b[0m: \tnum_enc: 3\n"
          ],
          "name": "stderr"
        },
        {
          "output_type": "display_data",
          "data": {
            "text/html": [
              "\n",
              "                Tracking run with wandb version 0.10.30<br/>\n",
              "                Syncing run <strong style=\"color:#cdcd00\">lively-sweep-53</strong> to <a href=\"https://wandb.ai\" target=\"_blank\">Weights & Biases</a> <a href=\"https://docs.wandb.com/integrations/jupyter.html\" target=\"_blank\">(Documentation)</a>.<br/>\n",
              "                Project page: <a href=\"https://wandb.ai/cs6910assignment3/RNN\" target=\"_blank\">https://wandb.ai/cs6910assignment3/RNN</a><br/>\n",
              "                Sweep page: <a href=\"https://wandb.ai/cs6910assignment3/RNN/sweeps/auh90ups\" target=\"_blank\">https://wandb.ai/cs6910assignment3/RNN/sweeps/auh90ups</a><br/>\n",
              "Run page: <a href=\"https://wandb.ai/cs6910assignment3/RNN/runs/srllwi1b\" target=\"_blank\">https://wandb.ai/cs6910assignment3/RNN/runs/srllwi1b</a><br/>\n",
              "                Run data is saved locally in <code>/content/wandb/run-20210511_034842-srllwi1b</code><br/><br/>\n",
              "            "
            ],
            "text/plain": [
              "<IPython.core.display.HTML object>"
            ]
          },
          "metadata": {
            "tags": []
          }
        },
        {
          "output_type": "stream",
          "text": [
            "Model: \"model\"\n",
            "__________________________________________________________________________________________________\n",
            "Layer (type)                    Output Shape         Param #     Connected to                     \n",
            "==================================================================================================\n",
            "Enc_inputs (InputLayer)         [(None, None)]       0                                            \n",
            "__________________________________________________________________________________________________\n",
            "Enc_emb (Embedding)             (None, None, 64)     1728        Enc_inputs[0][0]                 \n",
            "__________________________________________________________________________________________________\n",
            "Enc_hidden_1 (LSTM)             [(None, None, 64), ( 33024       Enc_emb[0][0]                    \n",
            "__________________________________________________________________________________________________\n",
            "Dec_inputs (InputLayer)         [(None, None)]       0                                            \n",
            "__________________________________________________________________________________________________\n",
            "Enc_hidden_2 (LSTM)             [(None, None, 64), ( 33024       Enc_hidden_1[0][0]               \n",
            "                                                                 Enc_hidden_1[0][1]               \n",
            "                                                                 Enc_hidden_1[0][2]               \n",
            "__________________________________________________________________________________________________\n",
            "Dec_emb (Embedding)             (None, None, 64)     3136        Dec_inputs[0][0]                 \n",
            "__________________________________________________________________________________________________\n",
            "Enc_hidden_3 (LSTM)             [(None, None, 64), ( 33024       Enc_hidden_2[0][0]               \n",
            "                                                                 Enc_hidden_2[0][1]               \n",
            "                                                                 Enc_hidden_2[0][2]               \n",
            "__________________________________________________________________________________________________\n",
            "Dec_hidden_1 (LSTM)             [(None, None, 64), ( 33024       Dec_emb[0][0]                    \n",
            "                                                                 Enc_hidden_3[0][1]               \n",
            "                                                                 Enc_hidden_3[0][2]               \n",
            "__________________________________________________________________________________________________\n",
            "Dec_hidden_2 (LSTM)             [(None, None, 64), ( 33024       Dec_hidden_1[0][0]               \n",
            "                                                                 Enc_hidden_3[0][1]               \n",
            "                                                                 Enc_hidden_3[0][2]               \n",
            "__________________________________________________________________________________________________\n",
            "Dec_hidden_3 (LSTM)             [(None, None, 64), ( 33024       Dec_hidden_2[0][0]               \n",
            "                                                                 Enc_hidden_3[0][1]               \n",
            "                                                                 Enc_hidden_3[0][2]               \n",
            "__________________________________________________________________________________________________\n",
            "dense (Dense)                   (None, None, 49)     3185        Dec_hidden_3[0][0]               \n",
            "==================================================================================================\n",
            "Total params: 206,193\n",
            "Trainable params: 206,193\n",
            "Non-trainable params: 0\n",
            "__________________________________________________________________________________________________\n",
            "Epoch 1/15\n",
            "533/533 [==============================] - 37s 30ms/step - loss: 1.0874 - accuracy: 0.2317\n",
            "Epoch 2/15\n",
            "533/533 [==============================] - 16s 29ms/step - loss: 0.6733 - accuracy: 0.4887\n",
            "Epoch 3/15\n",
            "533/533 [==============================] - 16s 29ms/step - loss: 0.5093 - accuracy: 0.6143\n",
            "Epoch 4/15\n",
            "533/533 [==============================] - 16s 29ms/step - loss: 0.4033 - accuracy: 0.6952\n",
            "Epoch 5/15\n",
            "533/533 [==============================] - 16s 29ms/step - loss: 0.3240 - accuracy: 0.7580\n",
            "Epoch 6/15\n",
            "533/533 [==============================] - 16s 29ms/step - loss: 0.2708 - accuracy: 0.7983\n",
            "Epoch 7/15\n",
            "533/533 [==============================] - 15s 29ms/step - loss: 0.2339 - accuracy: 0.8275\n",
            "Epoch 8/15\n",
            "533/533 [==============================] - 16s 29ms/step - loss: 0.2062 - accuracy: 0.8481\n",
            "Epoch 9/15\n",
            "533/533 [==============================] - 16s 29ms/step - loss: 0.1888 - accuracy: 0.8612\n",
            "Epoch 10/15\n",
            "533/533 [==============================] - 16s 29ms/step - loss: 0.1728 - accuracy: 0.8738\n",
            "Epoch 11/15\n",
            "533/533 [==============================] - 15s 29ms/step - loss: 0.1594 - accuracy: 0.8844\n",
            "Epoch 12/15\n",
            "533/533 [==============================] - 16s 29ms/step - loss: 0.1481 - accuracy: 0.8915\n",
            "Epoch 13/15\n",
            "533/533 [==============================] - 16s 29ms/step - loss: 0.1401 - accuracy: 0.8976\n",
            "Epoch 14/15\n",
            "533/533 [==============================] - 16s 30ms/step - loss: 0.1315 - accuracy: 0.9035\n",
            "Epoch 15/15\n",
            "533/533 [==============================] - 16s 29ms/step - loss: 0.1245 - accuracy: 0.9077\n"
          ],
          "name": "stdout"
        },
        {
          "output_type": "display_data",
          "data": {
            "text/html": [
              "<br/>Waiting for W&B process to finish, PID 2458270<br/>Program ended successfully."
            ],
            "text/plain": [
              "<IPython.core.display.HTML object>"
            ]
          },
          "metadata": {
            "tags": []
          }
        },
        {
          "output_type": "display_data",
          "data": {
            "application/vnd.jupyter.widget-view+json": {
              "model_id": "894efac1c46141f7a2fdd333345b85b3",
              "version_minor": 0,
              "version_major": 2
            },
            "text/plain": [
              "VBox(children=(Label(value=' 0.26MB of 0.26MB uploaded (0.00MB deduped)\\r'), FloatProgress(value=1.0, max=1.0)…"
            ]
          },
          "metadata": {
            "tags": []
          }
        },
        {
          "output_type": "display_data",
          "data": {
            "text/html": [
              "Find user logs for this run at: <code>/content/wandb/run-20210511_034842-srllwi1b/logs/debug.log</code>"
            ],
            "text/plain": [
              "<IPython.core.display.HTML object>"
            ]
          },
          "metadata": {
            "tags": []
          }
        },
        {
          "output_type": "display_data",
          "data": {
            "text/html": [
              "Find internal logs for this run at: <code>/content/wandb/run-20210511_034842-srllwi1b/logs/debug-internal.log</code>"
            ],
            "text/plain": [
              "<IPython.core.display.HTML object>"
            ]
          },
          "metadata": {
            "tags": []
          }
        },
        {
          "output_type": "display_data",
          "data": {
            "text/html": [
              "<h3>Run summary:</h3><br/><style>\n",
              "    table.wandb td:nth-child(1) { padding: 0 10px; text-align: right }\n",
              "    </style><table class=\"wandb\">\n",
              "<tr><td>epoch</td><td>14</td></tr><tr><td>loss</td><td>0.12444</td></tr><tr><td>accuracy</td><td>0.90812</td></tr><tr><td>_runtime</td><td>4144</td></tr><tr><td>_timestamp</td><td>1620709066</td></tr><tr><td>_step</td><td>151</td></tr><tr><td>epoch_accuracy</td><td>0.43676</td></tr><tr><td>val_accuracy</td><td>0.4365</td></tr></table>"
            ],
            "text/plain": [
              "<IPython.core.display.HTML object>"
            ]
          },
          "metadata": {
            "tags": []
          }
        },
        {
          "output_type": "display_data",
          "data": {
            "text/html": [
              "<h3>Run history:</h3><br/><style>\n",
              "    table.wandb td:nth-child(1) { padding: 0 10px; text-align: right }\n",
              "    </style><table class=\"wandb\">\n",
              "<tr><td>epoch</td><td>▁▁▂▃▃▃▄▅▅▅▆▇▇▇█</td></tr><tr><td>loss</td><td>█▅▄▃▃▂▂▂▂▁▁▁▁▁▁</td></tr><tr><td>accuracy</td><td>▁▄▅▆▆▇▇▇▇██████</td></tr><tr><td>_runtime</td><td>▁▁▁▁▁▂▂▂▂▂▃▃▃▃▃▃▄▄▄▄▄▅▅▅▅▅▆▆▆▆▆▆▇▇▇▇▇███</td></tr><tr><td>_timestamp</td><td>▁▁▁▁▁▂▂▂▂▂▃▃▃▃▃▃▄▄▄▄▄▅▅▅▅▅▆▆▆▆▆▆▇▇▇▇▇███</td></tr><tr><td>_step</td><td>▁▁▁▁▂▂▂▂▂▃▃▃▃▃▃▄▄▄▄▄▅▅▅▅▅▅▆▆▆▆▆▇▇▇▇▇▇███</td></tr><tr><td>epoch_accuracy</td><td>▂▇▁▂▂▁▂▃▂▃▃▃▃▄▅▅▆▅▆▇▇▆▇▇▇▇▇███████▇█████</td></tr><tr><td>val_accuracy</td><td>▁</td></tr></table><br/>"
            ],
            "text/plain": [
              "<IPython.core.display.HTML object>"
            ]
          },
          "metadata": {
            "tags": []
          }
        },
        {
          "output_type": "display_data",
          "data": {
            "text/html": [
              "Synced 5 W&B file(s), 1 media file(s), 2 artifact file(s) and 1 other file(s)"
            ],
            "text/plain": [
              "<IPython.core.display.HTML object>"
            ]
          },
          "metadata": {
            "tags": []
          }
        },
        {
          "output_type": "display_data",
          "data": {
            "text/html": [
              "\n",
              "                    <br/>Synced <strong style=\"color:#cdcd00\">lively-sweep-53</strong>: <a href=\"https://wandb.ai/cs6910assignment3/RNN/runs/srllwi1b\" target=\"_blank\">https://wandb.ai/cs6910assignment3/RNN/runs/srllwi1b</a><br/>\n",
              "                "
            ],
            "text/plain": [
              "<IPython.core.display.HTML object>"
            ]
          },
          "metadata": {
            "tags": []
          }
        },
        {
          "output_type": "stream",
          "text": [
            "\u001b[34m\u001b[1mwandb\u001b[0m: Agent Starting Run: 6e6rpj0n with config:\n",
            "\u001b[34m\u001b[1mwandb\u001b[0m: \tbatch_size: 128\n",
            "\u001b[34m\u001b[1mwandb\u001b[0m: \tbeam_width: 5\n",
            "\u001b[34m\u001b[1mwandb\u001b[0m: \tcell_type: GRU\n",
            "\u001b[34m\u001b[1mwandb\u001b[0m: \tdec_search: beam_search\n",
            "\u001b[34m\u001b[1mwandb\u001b[0m: \tdropout: 0\n",
            "\u001b[34m\u001b[1mwandb\u001b[0m: \thidden_size: 128\n",
            "\u001b[34m\u001b[1mwandb\u001b[0m: \tin_emb: 32\n",
            "\u001b[34m\u001b[1mwandb\u001b[0m: \tlearning_rate: 0.001\n",
            "\u001b[34m\u001b[1mwandb\u001b[0m: \tnum_dec: 2\n",
            "\u001b[34m\u001b[1mwandb\u001b[0m: \tnum_enc: 3\n"
          ],
          "name": "stderr"
        },
        {
          "output_type": "display_data",
          "data": {
            "text/html": [
              "\n",
              "                Tracking run with wandb version 0.10.30<br/>\n",
              "                Syncing run <strong style=\"color:#cdcd00\">vocal-sweep-56</strong> to <a href=\"https://wandb.ai\" target=\"_blank\">Weights & Biases</a> <a href=\"https://docs.wandb.com/integrations/jupyter.html\" target=\"_blank\">(Documentation)</a>.<br/>\n",
              "                Project page: <a href=\"https://wandb.ai/cs6910assignment3/RNN\" target=\"_blank\">https://wandb.ai/cs6910assignment3/RNN</a><br/>\n",
              "                Sweep page: <a href=\"https://wandb.ai/cs6910assignment3/RNN/sweeps/auh90ups\" target=\"_blank\">https://wandb.ai/cs6910assignment3/RNN/sweeps/auh90ups</a><br/>\n",
              "Run page: <a href=\"https://wandb.ai/cs6910assignment3/RNN/runs/6e6rpj0n\" target=\"_blank\">https://wandb.ai/cs6910assignment3/RNN/runs/6e6rpj0n</a><br/>\n",
              "                Run data is saved locally in <code>/content/wandb/run-20210511_045756-6e6rpj0n</code><br/><br/>\n",
              "            "
            ],
            "text/plain": [
              "<IPython.core.display.HTML object>"
            ]
          },
          "metadata": {
            "tags": []
          }
        },
        {
          "output_type": "stream",
          "text": [
            "Model: \"model\"\n",
            "__________________________________________________________________________________________________\n",
            "Layer (type)                    Output Shape         Param #     Connected to                     \n",
            "==================================================================================================\n",
            "Enc_inputs (InputLayer)         [(None, None)]       0                                            \n",
            "__________________________________________________________________________________________________\n",
            "Enc_emb (Embedding)             (None, None, 32)     864         Enc_inputs[0][0]                 \n",
            "__________________________________________________________________________________________________\n",
            "Enc_hidden_1 (GRU)              [(None, None, 128),  62208       Enc_emb[0][0]                    \n",
            "__________________________________________________________________________________________________\n",
            "Dec_inputs (InputLayer)         [(None, None)]       0                                            \n",
            "__________________________________________________________________________________________________\n",
            "Enc_hidden_2 (GRU)              [(None, None, 128),  99072       Enc_hidden_1[0][0]               \n",
            "                                                                 Enc_hidden_1[0][1]               \n",
            "__________________________________________________________________________________________________\n",
            "Dec_emb (Embedding)             (None, None, 128)    6272        Dec_inputs[0][0]                 \n",
            "__________________________________________________________________________________________________\n",
            "Enc_hidden_3 (GRU)              [(None, None, 128),  99072       Enc_hidden_2[0][0]               \n",
            "                                                                 Enc_hidden_2[0][1]               \n",
            "__________________________________________________________________________________________________\n",
            "Dec_hidden_1 (GRU)              [(None, None, 128),  99072       Dec_emb[0][0]                    \n",
            "                                                                 Enc_hidden_3[0][1]               \n",
            "__________________________________________________________________________________________________\n",
            "Dec_hidden_2 (GRU)              [(None, None, 128),  99072       Dec_hidden_1[0][0]               \n",
            "                                                                 Enc_hidden_3[0][1]               \n",
            "__________________________________________________________________________________________________\n",
            "dense (Dense)                   (None, None, 49)     6321        Dec_hidden_2[0][0]               \n",
            "==================================================================================================\n",
            "Total params: 471,953\n",
            "Trainable params: 471,953\n",
            "Non-trainable params: 0\n",
            "__________________________________________________________________________________________________\n",
            "Epoch 1/15\n",
            "533/533 [==============================] - 30s 24ms/step - loss: 0.9323 - accuracy: 0.3362\n",
            "Epoch 2/15\n",
            "533/533 [==============================] - 13s 24ms/step - loss: 0.4320 - accuracy: 0.6770\n",
            "Epoch 3/15\n",
            "533/533 [==============================] - 13s 24ms/step - loss: 0.2454 - accuracy: 0.8258\n",
            "Epoch 4/15\n",
            "533/533 [==============================] - 13s 24ms/step - loss: 0.1684 - accuracy: 0.8847\n",
            "Epoch 5/15\n",
            "533/533 [==============================] - 13s 24ms/step - loss: 0.1307 - accuracy: 0.9122\n",
            "Epoch 6/15\n",
            "533/533 [==============================] - 13s 24ms/step - loss: 0.1076 - accuracy: 0.9280\n",
            "Epoch 7/15\n",
            "533/533 [==============================] - 12s 23ms/step - loss: 0.0918 - accuracy: 0.9387\n",
            "Epoch 8/15\n",
            "533/533 [==============================] - 13s 24ms/step - loss: 0.0805 - accuracy: 0.9463\n",
            "Epoch 9/15\n",
            "533/533 [==============================] - 12s 23ms/step - loss: 0.0700 - accuracy: 0.9537\n",
            "Epoch 10/15\n",
            "533/533 [==============================] - 12s 23ms/step - loss: 0.0621 - accuracy: 0.9590\n",
            "Epoch 11/15\n",
            "533/533 [==============================] - 12s 23ms/step - loss: 0.0557 - accuracy: 0.9633\n",
            "Epoch 12/15\n",
            "533/533 [==============================] - 12s 23ms/step - loss: 0.0490 - accuracy: 0.9677\n",
            "Epoch 13/15\n",
            "533/533 [==============================] - 12s 23ms/step - loss: 0.0438 - accuracy: 0.9711\n",
            "Epoch 14/15\n",
            "533/533 [==============================] - 12s 23ms/step - loss: 0.0399 - accuracy: 0.9734\n",
            "Epoch 15/15\n",
            "533/533 [==============================] - 13s 24ms/step - loss: 0.0359 - accuracy: 0.9757\n"
          ],
          "name": "stdout"
        },
        {
          "output_type": "display_data",
          "data": {
            "text/html": [
              "<br/>Waiting for W&B process to finish, PID 2670357<br/>Program ended successfully."
            ],
            "text/plain": [
              "<IPython.core.display.HTML object>"
            ]
          },
          "metadata": {
            "tags": []
          }
        },
        {
          "output_type": "display_data",
          "data": {
            "application/vnd.jupyter.widget-view+json": {
              "model_id": "89499ac1793c43bc90b065e5daf0d573",
              "version_minor": 0,
              "version_major": 2
            },
            "text/plain": [
              "VBox(children=(Label(value=' 0.27MB of 0.27MB uploaded (0.00MB deduped)\\r'), FloatProgress(value=1.0, max=1.0)…"
            ]
          },
          "metadata": {
            "tags": []
          }
        },
        {
          "output_type": "display_data",
          "data": {
            "text/html": [
              "Find user logs for this run at: <code>/content/wandb/run-20210511_045756-6e6rpj0n/logs/debug.log</code>"
            ],
            "text/plain": [
              "<IPython.core.display.HTML object>"
            ]
          },
          "metadata": {
            "tags": []
          }
        },
        {
          "output_type": "display_data",
          "data": {
            "text/html": [
              "Find internal logs for this run at: <code>/content/wandb/run-20210511_045756-6e6rpj0n/logs/debug-internal.log</code>"
            ],
            "text/plain": [
              "<IPython.core.display.HTML object>"
            ]
          },
          "metadata": {
            "tags": []
          }
        },
        {
          "output_type": "display_data",
          "data": {
            "text/html": [
              "<h3>Run summary:</h3><br/><style>\n",
              "    table.wandb td:nth-child(1) { padding: 0 10px; text-align: right }\n",
              "    </style><table class=\"wandb\">\n",
              "<tr><td>epoch</td><td>14</td></tr><tr><td>loss</td><td>0.03695</td></tr><tr><td>accuracy</td><td>0.97496</td></tr><tr><td>_runtime</td><td>3235</td></tr><tr><td>_timestamp</td><td>1620712311</td></tr><tr><td>_step</td><td>151</td></tr><tr><td>epoch_accuracy</td><td>0.43691</td></tr><tr><td>val_accuracy</td><td>0.4368</td></tr></table>"
            ],
            "text/plain": [
              "<IPython.core.display.HTML object>"
            ]
          },
          "metadata": {
            "tags": []
          }
        },
        {
          "output_type": "display_data",
          "data": {
            "text/html": [
              "<h3>Run history:</h3><br/><style>\n",
              "    table.wandb td:nth-child(1) { padding: 0 10px; text-align: right }\n",
              "    </style><table class=\"wandb\">\n",
              "<tr><td>epoch</td><td>▁▁▂▃▃▃▄▅▅▅▆▇▇▇█</td></tr><tr><td>loss</td><td>█▄▃▂▂▂▂▁▁▁▁▁▁▁▁</td></tr><tr><td>accuracy</td><td>▁▅▆▇▇▇█████████</td></tr><tr><td>_runtime</td><td>▁▁▁▁▁▂▂▂▂▂▃▃▃▃▃▃▄▄▄▄▄▅▅▅▅▅▆▆▆▆▆▆▇▇▇▇▇███</td></tr><tr><td>_timestamp</td><td>▁▁▁▁▁▂▂▂▂▂▃▃▃▃▃▃▄▄▄▄▄▅▅▅▅▅▆▆▆▆▆▆▇▇▇▇▇███</td></tr><tr><td>_step</td><td>▁▁▁▁▂▂▂▂▂▃▃▃▃▃▃▄▄▄▄▄▅▅▅▅▅▅▆▆▆▆▆▇▇▇▇▇▇███</td></tr><tr><td>epoch_accuracy</td><td>█▅▂▅▅▄▂▂▁▂▂▁▂▁▂▃▄▃▄▃▄▃▄▄▄▄▄▄▄▄▄▄▄▄▄▄▄▄▄▄</td></tr><tr><td>val_accuracy</td><td>▁</td></tr></table><br/>"
            ],
            "text/plain": [
              "<IPython.core.display.HTML object>"
            ]
          },
          "metadata": {
            "tags": []
          }
        },
        {
          "output_type": "display_data",
          "data": {
            "text/html": [
              "Synced 5 W&B file(s), 1 media file(s), 2 artifact file(s) and 1 other file(s)"
            ],
            "text/plain": [
              "<IPython.core.display.HTML object>"
            ]
          },
          "metadata": {
            "tags": []
          }
        },
        {
          "output_type": "display_data",
          "data": {
            "text/html": [
              "\n",
              "                    <br/>Synced <strong style=\"color:#cdcd00\">vocal-sweep-56</strong>: <a href=\"https://wandb.ai/cs6910assignment3/RNN/runs/6e6rpj0n\" target=\"_blank\">https://wandb.ai/cs6910assignment3/RNN/runs/6e6rpj0n</a><br/>\n",
              "                "
            ],
            "text/plain": [
              "<IPython.core.display.HTML object>"
            ]
          },
          "metadata": {
            "tags": []
          }
        },
        {
          "output_type": "stream",
          "text": [
            "\u001b[34m\u001b[1mwandb\u001b[0m: Agent Starting Run: kqdqbug0 with config:\n",
            "\u001b[34m\u001b[1mwandb\u001b[0m: \tbatch_size: 128\n",
            "\u001b[34m\u001b[1mwandb\u001b[0m: \tbeam_width: 5\n",
            "\u001b[34m\u001b[1mwandb\u001b[0m: \tcell_type: LSTM\n",
            "\u001b[34m\u001b[1mwandb\u001b[0m: \tdec_search: beam_search\n",
            "\u001b[34m\u001b[1mwandb\u001b[0m: \tdropout: 0.2\n",
            "\u001b[34m\u001b[1mwandb\u001b[0m: \thidden_size: 128\n",
            "\u001b[34m\u001b[1mwandb\u001b[0m: \tin_emb: 64\n",
            "\u001b[34m\u001b[1mwandb\u001b[0m: \tlearning_rate: 0.001\n",
            "\u001b[34m\u001b[1mwandb\u001b[0m: \tnum_dec: 2\n",
            "\u001b[34m\u001b[1mwandb\u001b[0m: \tnum_enc: 1\n"
          ],
          "name": "stderr"
        },
        {
          "output_type": "display_data",
          "data": {
            "text/html": [
              "\n",
              "                Tracking run with wandb version 0.10.30<br/>\n",
              "                Syncing run <strong style=\"color:#cdcd00\">icy-sweep-59</strong> to <a href=\"https://wandb.ai\" target=\"_blank\">Weights & Biases</a> <a href=\"https://docs.wandb.com/integrations/jupyter.html\" target=\"_blank\">(Documentation)</a>.<br/>\n",
              "                Project page: <a href=\"https://wandb.ai/cs6910assignment3/RNN\" target=\"_blank\">https://wandb.ai/cs6910assignment3/RNN</a><br/>\n",
              "                Sweep page: <a href=\"https://wandb.ai/cs6910assignment3/RNN/sweeps/auh90ups\" target=\"_blank\">https://wandb.ai/cs6910assignment3/RNN/sweeps/auh90ups</a><br/>\n",
              "Run page: <a href=\"https://wandb.ai/cs6910assignment3/RNN/runs/kqdqbug0\" target=\"_blank\">https://wandb.ai/cs6910assignment3/RNN/runs/kqdqbug0</a><br/>\n",
              "                Run data is saved locally in <code>/content/wandb/run-20210511_055203-kqdqbug0</code><br/><br/>\n",
              "            "
            ],
            "text/plain": [
              "<IPython.core.display.HTML object>"
            ]
          },
          "metadata": {
            "tags": []
          }
        },
        {
          "output_type": "stream",
          "text": [
            "Model: \"model\"\n",
            "__________________________________________________________________________________________________\n",
            "Layer (type)                    Output Shape         Param #     Connected to                     \n",
            "==================================================================================================\n",
            "Enc_inputs (InputLayer)         [(None, None)]       0                                            \n",
            "__________________________________________________________________________________________________\n",
            "Dec_inputs (InputLayer)         [(None, None)]       0                                            \n",
            "__________________________________________________________________________________________________\n",
            "Enc_emb (Embedding)             (None, None, 64)     1728        Enc_inputs[0][0]                 \n",
            "__________________________________________________________________________________________________\n",
            "Dec_emb (Embedding)             (None, None, 128)    6272        Dec_inputs[0][0]                 \n",
            "__________________________________________________________________________________________________\n",
            "Enc_hidden_1 (LSTM)             [(None, None, 128),  98816       Enc_emb[0][0]                    \n",
            "__________________________________________________________________________________________________\n",
            "Dec_hidden_1 (LSTM)             [(None, None, 128),  131584      Dec_emb[0][0]                    \n",
            "                                                                 Enc_hidden_1[0][1]               \n",
            "                                                                 Enc_hidden_1[0][2]               \n",
            "__________________________________________________________________________________________________\n",
            "Dec_hidden_2 (LSTM)             [(None, None, 128),  131584      Dec_hidden_1[0][0]               \n",
            "                                                                 Enc_hidden_1[0][1]               \n",
            "                                                                 Enc_hidden_1[0][2]               \n",
            "__________________________________________________________________________________________________\n",
            "dense (Dense)                   (None, None, 49)     6321        Dec_hidden_2[0][0]               \n",
            "==================================================================================================\n",
            "Total params: 376,305\n",
            "Trainable params: 376,305\n",
            "Non-trainable params: 0\n",
            "__________________________________________________________________________________________________\n",
            "Epoch 1/15\n",
            "533/533 [==============================] - 20s 17ms/step - loss: 1.0006 - accuracy: 0.2900\n",
            "Epoch 2/15\n",
            "533/533 [==============================] - 9s 17ms/step - loss: 0.4808 - accuracy: 0.6382\n",
            "Epoch 3/15\n",
            "533/533 [==============================] - 9s 17ms/step - loss: 0.3113 - accuracy: 0.7657\n",
            "Epoch 4/15\n",
            "533/533 [==============================] - 9s 17ms/step - loss: 0.2343 - accuracy: 0.8281\n",
            "Epoch 5/15\n",
            "533/533 [==============================] - 9s 17ms/step - loss: 0.1894 - accuracy: 0.8622\n",
            "Epoch 6/15\n",
            "533/533 [==============================] - 9s 17ms/step - loss: 0.1590 - accuracy: 0.8853\n",
            "Epoch 7/15\n",
            "533/533 [==============================] - 9s 17ms/step - loss: 0.1387 - accuracy: 0.9008\n",
            "Epoch 8/15\n",
            "533/533 [==============================] - 9s 17ms/step - loss: 0.1217 - accuracy: 0.9126\n",
            "Epoch 9/15\n",
            "533/533 [==============================] - 9s 17ms/step - loss: 0.1096 - accuracy: 0.9217\n",
            "Epoch 10/15\n",
            "533/533 [==============================] - 9s 17ms/step - loss: 0.0993 - accuracy: 0.9291\n",
            "Epoch 11/15\n",
            "533/533 [==============================] - 9s 18ms/step - loss: 0.0912 - accuracy: 0.9346\n",
            "Epoch 12/15\n",
            "533/533 [==============================] - 9s 17ms/step - loss: 0.0840 - accuracy: 0.9396\n",
            "Epoch 13/15\n",
            "533/533 [==============================] - 9s 17ms/step - loss: 0.0780 - accuracy: 0.9437\n",
            "Epoch 14/15\n",
            "533/533 [==============================] - 9s 17ms/step - loss: 0.0730 - accuracy: 0.9467\n",
            "Epoch 15/15\n",
            "533/533 [==============================] - 9s 17ms/step - loss: 0.0690 - accuracy: 0.9497\n"
          ],
          "name": "stdout"
        },
        {
          "output_type": "display_data",
          "data": {
            "text/html": [
              "<br/>Waiting for W&B process to finish, PID 2883559<br/>Program ended successfully."
            ],
            "text/plain": [
              "<IPython.core.display.HTML object>"
            ]
          },
          "metadata": {
            "tags": []
          }
        },
        {
          "output_type": "display_data",
          "data": {
            "application/vnd.jupyter.widget-view+json": {
              "model_id": "72fdfe2cf72f411d96d1e17c5a21e25e",
              "version_minor": 0,
              "version_major": 2
            },
            "text/plain": [
              "VBox(children=(Label(value=' 0.29MB of 0.29MB uploaded (0.00MB deduped)\\r'), FloatProgress(value=1.0, max=1.0)…"
            ]
          },
          "metadata": {
            "tags": []
          }
        },
        {
          "output_type": "display_data",
          "data": {
            "text/html": [
              "Find user logs for this run at: <code>/content/wandb/run-20210511_055203-kqdqbug0/logs/debug.log</code>"
            ],
            "text/plain": [
              "<IPython.core.display.HTML object>"
            ]
          },
          "metadata": {
            "tags": []
          }
        },
        {
          "output_type": "display_data",
          "data": {
            "text/html": [
              "Find internal logs for this run at: <code>/content/wandb/run-20210511_055203-kqdqbug0/logs/debug-internal.log</code>"
            ],
            "text/plain": [
              "<IPython.core.display.HTML object>"
            ]
          },
          "metadata": {
            "tags": []
          }
        },
        {
          "output_type": "display_data",
          "data": {
            "text/html": [
              "<h3>Run summary:</h3><br/><style>\n",
              "    table.wandb td:nth-child(1) { padding: 0 10px; text-align: right }\n",
              "    </style><table class=\"wandb\">\n",
              "<tr><td>epoch</td><td>14</td></tr><tr><td>loss</td><td>0.0689</td></tr><tr><td>accuracy</td><td>0.94993</td></tr><tr><td>_runtime</td><td>3571</td></tr><tr><td>_timestamp</td><td>1620715894</td></tr><tr><td>_step</td><td>151</td></tr><tr><td>epoch_accuracy</td><td>0.49809</td></tr><tr><td>val_accuracy</td><td>0.49832</td></tr></table>"
            ],
            "text/plain": [
              "<IPython.core.display.HTML object>"
            ]
          },
          "metadata": {
            "tags": []
          }
        },
        {
          "output_type": "display_data",
          "data": {
            "text/html": [
              "<h3>Run history:</h3><br/><style>\n",
              "    table.wandb td:nth-child(1) { padding: 0 10px; text-align: right }\n",
              "    </style><table class=\"wandb\">\n",
              "<tr><td>epoch</td><td>▁▁▂▃▃▃▄▅▅▅▆▇▇▇█</td></tr><tr><td>loss</td><td>█▄▃▂▂▂▂▁▁▁▁▁▁▁▁</td></tr><tr><td>accuracy</td><td>▁▄▆▇▇▇▇████████</td></tr><tr><td>_runtime</td><td>▁▁▁▁▁▁▂▂▂▂▂▃▃▃▃▃▄▄▄▄▄▅▅▅▅▅▆▆▆▆▆▆▇▇▇▇▇███</td></tr><tr><td>_timestamp</td><td>▁▁▁▁▁▁▂▂▂▂▂▃▃▃▃▃▄▄▄▄▄▅▅▅▅▅▆▆▆▆▆▆▇▇▇▇▇███</td></tr><tr><td>_step</td><td>▁▁▁▁▂▂▂▂▂▃▃▃▃▃▃▄▄▄▄▄▅▅▅▅▅▅▆▆▆▆▆▇▇▇▇▇▇███</td></tr><tr><td>epoch_accuracy</td><td>▁▃▄▆▆▆▆▅▅▅▅▅▅▆▆▇▇▇▇▇▇▇▇▇████████████████</td></tr><tr><td>val_accuracy</td><td>▁</td></tr></table><br/>"
            ],
            "text/plain": [
              "<IPython.core.display.HTML object>"
            ]
          },
          "metadata": {
            "tags": []
          }
        },
        {
          "output_type": "display_data",
          "data": {
            "text/html": [
              "Synced 5 W&B file(s), 1 media file(s), 2 artifact file(s) and 1 other file(s)"
            ],
            "text/plain": [
              "<IPython.core.display.HTML object>"
            ]
          },
          "metadata": {
            "tags": []
          }
        },
        {
          "output_type": "display_data",
          "data": {
            "text/html": [
              "\n",
              "                    <br/>Synced <strong style=\"color:#cdcd00\">icy-sweep-59</strong>: <a href=\"https://wandb.ai/cs6910assignment3/RNN/runs/kqdqbug0\" target=\"_blank\">https://wandb.ai/cs6910assignment3/RNN/runs/kqdqbug0</a><br/>\n",
              "                "
            ],
            "text/plain": [
              "<IPython.core.display.HTML object>"
            ]
          },
          "metadata": {
            "tags": []
          }
        },
        {
          "output_type": "stream",
          "text": [
            "\u001b[34m\u001b[1mwandb\u001b[0m: Agent Starting Run: i5eg9iof with config:\n",
            "\u001b[34m\u001b[1mwandb\u001b[0m: \tbatch_size: 128\n",
            "\u001b[34m\u001b[1mwandb\u001b[0m: \tbeam_width: 5\n",
            "\u001b[34m\u001b[1mwandb\u001b[0m: \tcell_type: LSTM\n",
            "\u001b[34m\u001b[1mwandb\u001b[0m: \tdec_search: beam_search\n",
            "\u001b[34m\u001b[1mwandb\u001b[0m: \tdropout: 0\n",
            "\u001b[34m\u001b[1mwandb\u001b[0m: \thidden_size: 64\n",
            "\u001b[34m\u001b[1mwandb\u001b[0m: \tin_emb: 32\n",
            "\u001b[34m\u001b[1mwandb\u001b[0m: \tlearning_rate: 0.001\n",
            "\u001b[34m\u001b[1mwandb\u001b[0m: \tnum_dec: 2\n",
            "\u001b[34m\u001b[1mwandb\u001b[0m: \tnum_enc: 2\n"
          ],
          "name": "stderr"
        },
        {
          "output_type": "display_data",
          "data": {
            "text/html": [
              "\n",
              "                Tracking run with wandb version 0.10.30<br/>\n",
              "                Syncing run <strong style=\"color:#cdcd00\">efficient-sweep-61</strong> to <a href=\"https://wandb.ai\" target=\"_blank\">Weights & Biases</a> <a href=\"https://docs.wandb.com/integrations/jupyter.html\" target=\"_blank\">(Documentation)</a>.<br/>\n",
              "                Project page: <a href=\"https://wandb.ai/cs6910assignment3/RNN\" target=\"_blank\">https://wandb.ai/cs6910assignment3/RNN</a><br/>\n",
              "                Sweep page: <a href=\"https://wandb.ai/cs6910assignment3/RNN/sweeps/auh90ups\" target=\"_blank\">https://wandb.ai/cs6910assignment3/RNN/sweeps/auh90ups</a><br/>\n",
              "Run page: <a href=\"https://wandb.ai/cs6910assignment3/RNN/runs/i5eg9iof\" target=\"_blank\">https://wandb.ai/cs6910assignment3/RNN/runs/i5eg9iof</a><br/>\n",
              "                Run data is saved locally in <code>/content/wandb/run-20210511_065147-i5eg9iof</code><br/><br/>\n",
              "            "
            ],
            "text/plain": [
              "<IPython.core.display.HTML object>"
            ]
          },
          "metadata": {
            "tags": []
          }
        },
        {
          "output_type": "stream",
          "text": [
            "Model: \"model\"\n",
            "__________________________________________________________________________________________________\n",
            "Layer (type)                    Output Shape         Param #     Connected to                     \n",
            "==================================================================================================\n",
            "Enc_inputs (InputLayer)         [(None, None)]       0                                            \n",
            "__________________________________________________________________________________________________\n",
            "Enc_emb (Embedding)             (None, None, 32)     864         Enc_inputs[0][0]                 \n",
            "__________________________________________________________________________________________________\n",
            "Dec_inputs (InputLayer)         [(None, None)]       0                                            \n",
            "__________________________________________________________________________________________________\n",
            "Enc_hidden_1 (LSTM)             [(None, None, 64), ( 24832       Enc_emb[0][0]                    \n",
            "__________________________________________________________________________________________________\n",
            "Dec_emb (Embedding)             (None, None, 64)     3136        Dec_inputs[0][0]                 \n",
            "__________________________________________________________________________________________________\n",
            "Enc_hidden_2 (LSTM)             [(None, None, 64), ( 33024       Enc_hidden_1[0][0]               \n",
            "                                                                 Enc_hidden_1[0][1]               \n",
            "                                                                 Enc_hidden_1[0][2]               \n",
            "__________________________________________________________________________________________________\n",
            "Dec_hidden_1 (LSTM)             [(None, None, 64), ( 33024       Dec_emb[0][0]                    \n",
            "                                                                 Enc_hidden_2[0][1]               \n",
            "                                                                 Enc_hidden_2[0][2]               \n",
            "__________________________________________________________________________________________________\n",
            "Dec_hidden_2 (LSTM)             [(None, None, 64), ( 33024       Dec_hidden_1[0][0]               \n",
            "                                                                 Enc_hidden_2[0][1]               \n",
            "                                                                 Enc_hidden_2[0][2]               \n",
            "__________________________________________________________________________________________________\n",
            "dense (Dense)                   (None, None, 49)     3185        Dec_hidden_2[0][0]               \n",
            "==================================================================================================\n",
            "Total params: 131,089\n",
            "Trainable params: 131,089\n",
            "Non-trainable params: 0\n",
            "__________________________________________________________________________________________________\n",
            "Epoch 1/15\n",
            "533/533 [==============================] - 24s 20ms/step - loss: 1.0748 - accuracy: 0.2465\n",
            "Epoch 2/15\n",
            "533/533 [==============================] - 11s 20ms/step - loss: 0.6965 - accuracy: 0.4718\n",
            "Epoch 3/15\n",
            "533/533 [==============================] - 11s 20ms/step - loss: 0.5015 - accuracy: 0.6240\n",
            "Epoch 4/15\n",
            "533/533 [==============================] - 11s 20ms/step - loss: 0.3795 - accuracy: 0.7196\n",
            "Epoch 5/15\n",
            "533/533 [==============================] - 11s 20ms/step - loss: 0.3080 - accuracy: 0.7757\n",
            "Epoch 6/15\n",
            "533/533 [==============================] - 10s 20ms/step - loss: 0.2556 - accuracy: 0.8159\n",
            "Epoch 7/15\n",
            "533/533 [==============================] - 11s 20ms/step - loss: 0.2224 - accuracy: 0.8415\n",
            "Epoch 8/15\n",
            "533/533 [==============================] - 11s 20ms/step - loss: 0.1981 - accuracy: 0.8594\n",
            "Epoch 9/15\n",
            "533/533 [==============================] - 11s 21ms/step - loss: 0.1796 - accuracy: 0.8732\n",
            "Epoch 10/15\n",
            "533/533 [==============================] - 11s 20ms/step - loss: 0.1634 - accuracy: 0.8848\n",
            "Epoch 11/15\n",
            "533/533 [==============================] - 11s 20ms/step - loss: 0.1492 - accuracy: 0.8950\n",
            "Epoch 12/15\n",
            "533/533 [==============================] - 11s 20ms/step - loss: 0.1402 - accuracy: 0.9021\n",
            "Epoch 13/15\n",
            "533/533 [==============================] - 11s 20ms/step - loss: 0.1301 - accuracy: 0.9091\n",
            "Epoch 14/15\n",
            "533/533 [==============================] - 11s 20ms/step - loss: 0.1228 - accuracy: 0.9138\n",
            "Epoch 15/15\n",
            "533/533 [==============================] - 11s 20ms/step - loss: 0.1160 - accuracy: 0.9187\n"
          ],
          "name": "stdout"
        },
        {
          "output_type": "display_data",
          "data": {
            "text/html": [
              "<br/>Waiting for W&B process to finish, PID 3094923<br/>Program ended successfully."
            ],
            "text/plain": [
              "<IPython.core.display.HTML object>"
            ]
          },
          "metadata": {
            "tags": []
          }
        },
        {
          "output_type": "display_data",
          "data": {
            "application/vnd.jupyter.widget-view+json": {
              "model_id": "7a5ef9126d0c4630a042a142eca0b544",
              "version_minor": 0,
              "version_major": 2
            },
            "text/plain": [
              "VBox(children=(Label(value=' 0.30MB of 0.30MB uploaded (0.00MB deduped)\\r'), FloatProgress(value=1.0, max=1.0)…"
            ]
          },
          "metadata": {
            "tags": []
          }
        },
        {
          "output_type": "display_data",
          "data": {
            "text/html": [
              "Find user logs for this run at: <code>/content/wandb/run-20210511_065147-i5eg9iof/logs/debug.log</code>"
            ],
            "text/plain": [
              "<IPython.core.display.HTML object>"
            ]
          },
          "metadata": {
            "tags": []
          }
        },
        {
          "output_type": "display_data",
          "data": {
            "text/html": [
              "Find internal logs for this run at: <code>/content/wandb/run-20210511_065147-i5eg9iof/logs/debug-internal.log</code>"
            ],
            "text/plain": [
              "<IPython.core.display.HTML object>"
            ]
          },
          "metadata": {
            "tags": []
          }
        },
        {
          "output_type": "display_data",
          "data": {
            "text/html": [
              "<h3>Run summary:</h3><br/><style>\n",
              "    table.wandb td:nth-child(1) { padding: 0 10px; text-align: right }\n",
              "    </style><table class=\"wandb\">\n",
              "<tr><td>epoch</td><td>14</td></tr><tr><td>loss</td><td>0.11538</td></tr><tr><td>accuracy</td><td>0.91956</td></tr><tr><td>_runtime</td><td>3411</td></tr><tr><td>_timestamp</td><td>1620719318</td></tr><tr><td>_step</td><td>151</td></tr><tr><td>epoch_accuracy</td><td>0.39412</td></tr><tr><td>val_accuracy</td><td>0.39402</td></tr></table>"
            ],
            "text/plain": [
              "<IPython.core.display.HTML object>"
            ]
          },
          "metadata": {
            "tags": []
          }
        },
        {
          "output_type": "display_data",
          "data": {
            "text/html": [
              "<h3>Run history:</h3><br/><style>\n",
              "    table.wandb td:nth-child(1) { padding: 0 10px; text-align: right }\n",
              "    </style><table class=\"wandb\">\n",
              "<tr><td>epoch</td><td>▁▁▂▃▃▃▄▅▅▅▆▇▇▇█</td></tr><tr><td>loss</td><td>█▆▄▃▃▂▂▂▂▁▁▁▁▁▁</td></tr><tr><td>accuracy</td><td>▁▃▅▆▆▇▇▇▇██████</td></tr><tr><td>_runtime</td><td>▁▁▁▁▁▂▂▂▂▂▂▃▃▃▃▃▄▄▄▄▄▅▅▅▅▅▆▆▆▆▆▆▇▇▇▇▇███</td></tr><tr><td>_timestamp</td><td>▁▁▁▁▁▂▂▂▂▂▂▃▃▃▃▃▄▄▄▄▄▅▅▅▅▅▆▆▆▆▆▆▇▇▇▇▇███</td></tr><tr><td>_step</td><td>▁▁▁▁▂▂▂▂▂▃▃▃▃▃▃▄▄▄▄▄▅▅▅▅▅▅▆▆▆▆▆▇▇▇▇▇▇███</td></tr><tr><td>epoch_accuracy</td><td>█▂▁▂▃▂▂▂▁▁▃▃▃▃▄▅▅▄▅▅▆▆▆▆▆▆▆▆▆▆▆▆▆▆▆▆▆▆▆▅</td></tr><tr><td>val_accuracy</td><td>▁</td></tr></table><br/>"
            ],
            "text/plain": [
              "<IPython.core.display.HTML object>"
            ]
          },
          "metadata": {
            "tags": []
          }
        },
        {
          "output_type": "display_data",
          "data": {
            "text/html": [
              "Synced 5 W&B file(s), 1 media file(s), 2 artifact file(s) and 1 other file(s)"
            ],
            "text/plain": [
              "<IPython.core.display.HTML object>"
            ]
          },
          "metadata": {
            "tags": []
          }
        },
        {
          "output_type": "display_data",
          "data": {
            "text/html": [
              "\n",
              "                    <br/>Synced <strong style=\"color:#cdcd00\">efficient-sweep-61</strong>: <a href=\"https://wandb.ai/cs6910assignment3/RNN/runs/i5eg9iof\" target=\"_blank\">https://wandb.ai/cs6910assignment3/RNN/runs/i5eg9iof</a><br/>\n",
              "                "
            ],
            "text/plain": [
              "<IPython.core.display.HTML object>"
            ]
          },
          "metadata": {
            "tags": []
          }
        },
        {
          "output_type": "stream",
          "text": [
            "\u001b[34m\u001b[1mwandb\u001b[0m: Agent Starting Run: bu6s2dki with config:\n",
            "\u001b[34m\u001b[1mwandb\u001b[0m: \tbatch_size: 128\n",
            "\u001b[34m\u001b[1mwandb\u001b[0m: \tbeam_width: 5\n",
            "\u001b[34m\u001b[1mwandb\u001b[0m: \tcell_type: LSTM\n",
            "\u001b[34m\u001b[1mwandb\u001b[0m: \tdec_search: greedy\n",
            "\u001b[34m\u001b[1mwandb\u001b[0m: \tdropout: 0.1\n",
            "\u001b[34m\u001b[1mwandb\u001b[0m: \thidden_size: 128\n",
            "\u001b[34m\u001b[1mwandb\u001b[0m: \tin_emb: 32\n",
            "\u001b[34m\u001b[1mwandb\u001b[0m: \tlearning_rate: 0.001\n",
            "\u001b[34m\u001b[1mwandb\u001b[0m: \tnum_dec: 3\n",
            "\u001b[34m\u001b[1mwandb\u001b[0m: \tnum_enc: 1\n"
          ],
          "name": "stderr"
        },
        {
          "output_type": "display_data",
          "data": {
            "text/html": [
              "\n",
              "                Tracking run with wandb version 0.10.30<br/>\n",
              "                Syncing run <strong style=\"color:#cdcd00\">bumbling-sweep-66</strong> to <a href=\"https://wandb.ai\" target=\"_blank\">Weights & Biases</a> <a href=\"https://docs.wandb.com/integrations/jupyter.html\" target=\"_blank\">(Documentation)</a>.<br/>\n",
              "                Project page: <a href=\"https://wandb.ai/cs6910assignment3/RNN\" target=\"_blank\">https://wandb.ai/cs6910assignment3/RNN</a><br/>\n",
              "                Sweep page: <a href=\"https://wandb.ai/cs6910assignment3/RNN/sweeps/auh90ups\" target=\"_blank\">https://wandb.ai/cs6910assignment3/RNN/sweeps/auh90ups</a><br/>\n",
              "Run page: <a href=\"https://wandb.ai/cs6910assignment3/RNN/runs/bu6s2dki\" target=\"_blank\">https://wandb.ai/cs6910assignment3/RNN/runs/bu6s2dki</a><br/>\n",
              "                Run data is saved locally in <code>/content/wandb/run-20210511_074848-bu6s2dki</code><br/><br/>\n",
              "            "
            ],
            "text/plain": [
              "<IPython.core.display.HTML object>"
            ]
          },
          "metadata": {
            "tags": []
          }
        },
        {
          "output_type": "stream",
          "text": [
            "Model: \"model\"\n",
            "__________________________________________________________________________________________________\n",
            "Layer (type)                    Output Shape         Param #     Connected to                     \n",
            "==================================================================================================\n",
            "Enc_inputs (InputLayer)         [(None, None)]       0                                            \n",
            "__________________________________________________________________________________________________\n",
            "Dec_inputs (InputLayer)         [(None, None)]       0                                            \n",
            "__________________________________________________________________________________________________\n",
            "Enc_emb (Embedding)             (None, None, 32)     864         Enc_inputs[0][0]                 \n",
            "__________________________________________________________________________________________________\n",
            "Dec_emb (Embedding)             (None, None, 128)    6272        Dec_inputs[0][0]                 \n",
            "__________________________________________________________________________________________________\n",
            "Enc_hidden_1 (LSTM)             [(None, None, 128),  82432       Enc_emb[0][0]                    \n",
            "__________________________________________________________________________________________________\n",
            "Dec_hidden_1 (LSTM)             [(None, None, 128),  131584      Dec_emb[0][0]                    \n",
            "                                                                 Enc_hidden_1[0][1]               \n",
            "                                                                 Enc_hidden_1[0][2]               \n",
            "__________________________________________________________________________________________________\n",
            "Dec_hidden_2 (LSTM)             [(None, None, 128),  131584      Dec_hidden_1[0][0]               \n",
            "                                                                 Enc_hidden_1[0][1]               \n",
            "                                                                 Enc_hidden_1[0][2]               \n",
            "__________________________________________________________________________________________________\n",
            "Dec_hidden_3 (LSTM)             [(None, None, 128),  131584      Dec_hidden_2[0][0]               \n",
            "                                                                 Enc_hidden_1[0][1]               \n",
            "                                                                 Enc_hidden_1[0][2]               \n",
            "__________________________________________________________________________________________________\n",
            "dense (Dense)                   (None, None, 49)     6321        Dec_hidden_3[0][0]               \n",
            "==================================================================================================\n",
            "Total params: 490,641\n",
            "Trainable params: 490,641\n",
            "Non-trainable params: 0\n",
            "__________________________________________________________________________________________________\n",
            "Epoch 1/15\n",
            "533/533 [==============================] - 25s 20ms/step - loss: 1.0370 - accuracy: 0.2506\n",
            "Epoch 2/15\n",
            "533/533 [==============================] - 11s 20ms/step - loss: 0.6357 - accuracy: 0.5126\n",
            "Epoch 3/15\n",
            "533/533 [==============================] - 11s 20ms/step - loss: 0.4260 - accuracy: 0.6746\n",
            "Epoch 4/15\n",
            "533/533 [==============================] - 11s 20ms/step - loss: 0.2978 - accuracy: 0.7771\n",
            "Epoch 5/15\n",
            "533/533 [==============================] - 11s 20ms/step - loss: 0.2256 - accuracy: 0.8347\n",
            "Epoch 6/15\n",
            "533/533 [==============================] - 11s 20ms/step - loss: 0.1842 - accuracy: 0.8651\n",
            "Epoch 7/15\n",
            "533/533 [==============================] - 11s 20ms/step - loss: 0.1559 - accuracy: 0.8867\n",
            "Epoch 8/15\n",
            "533/533 [==============================] - 11s 20ms/step - loss: 0.1371 - accuracy: 0.9007\n",
            "Epoch 9/15\n",
            "533/533 [==============================] - 11s 20ms/step - loss: 0.1199 - accuracy: 0.9123\n",
            "Epoch 10/15\n",
            "533/533 [==============================] - 11s 20ms/step - loss: 0.1063 - accuracy: 0.9225\n",
            "Epoch 11/15\n",
            "533/533 [==============================] - 11s 20ms/step - loss: 0.0967 - accuracy: 0.9296\n",
            "Epoch 12/15\n",
            "533/533 [==============================] - 11s 20ms/step - loss: 0.0881 - accuracy: 0.9356\n",
            "Epoch 13/15\n",
            "533/533 [==============================] - 11s 20ms/step - loss: 0.0809 - accuracy: 0.9413\n",
            "Epoch 14/15\n",
            "533/533 [==============================] - 11s 20ms/step - loss: 0.0736 - accuracy: 0.9461\n",
            "Epoch 15/15\n",
            "533/533 [==============================] - 11s 20ms/step - loss: 0.0677 - accuracy: 0.9507\n"
          ],
          "name": "stdout"
        },
        {
          "output_type": "display_data",
          "data": {
            "text/html": [
              "<br/>Waiting for W&B process to finish, PID 3306204<br/>Program ended successfully."
            ],
            "text/plain": [
              "<IPython.core.display.HTML object>"
            ]
          },
          "metadata": {
            "tags": []
          }
        },
        {
          "output_type": "display_data",
          "data": {
            "application/vnd.jupyter.widget-view+json": {
              "model_id": "fc4753a9511549f4b9632ec469f50167",
              "version_minor": 0,
              "version_major": 2
            },
            "text/plain": [
              "VBox(children=(Label(value=' 0.32MB of 0.32MB uploaded (0.00MB deduped)\\r'), FloatProgress(value=1.0, max=1.0)…"
            ]
          },
          "metadata": {
            "tags": []
          }
        },
        {
          "output_type": "display_data",
          "data": {
            "text/html": [
              "Find user logs for this run at: <code>/content/wandb/run-20210511_074848-bu6s2dki/logs/debug.log</code>"
            ],
            "text/plain": [
              "<IPython.core.display.HTML object>"
            ]
          },
          "metadata": {
            "tags": []
          }
        },
        {
          "output_type": "display_data",
          "data": {
            "text/html": [
              "Find internal logs for this run at: <code>/content/wandb/run-20210511_074848-bu6s2dki/logs/debug-internal.log</code>"
            ],
            "text/plain": [
              "<IPython.core.display.HTML object>"
            ]
          },
          "metadata": {
            "tags": []
          }
        },
        {
          "output_type": "display_data",
          "data": {
            "text/html": [
              "<h3>Run summary:</h3><br/><style>\n",
              "    table.wandb td:nth-child(1) { padding: 0 10px; text-align: right }\n",
              "    </style><table class=\"wandb\">\n",
              "<tr><td>epoch</td><td>14</td></tr><tr><td>loss</td><td>0.06844</td></tr><tr><td>accuracy</td><td>0.95023</td></tr><tr><td>_runtime</td><td>3773</td></tr><tr><td>_timestamp</td><td>1620723101</td></tr><tr><td>_step</td><td>151</td></tr><tr><td>epoch_accuracy</td><td>0.48206</td></tr><tr><td>val_accuracy</td><td>0.48176</td></tr></table>"
            ],
            "text/plain": [
              "<IPython.core.display.HTML object>"
            ]
          },
          "metadata": {
            "tags": []
          }
        },
        {
          "output_type": "display_data",
          "data": {
            "text/html": [
              "<h3>Run history:</h3><br/><style>\n",
              "    table.wandb td:nth-child(1) { padding: 0 10px; text-align: right }\n",
              "    </style><table class=\"wandb\">\n",
              "<tr><td>epoch</td><td>▁▁▂▃▃▃▄▅▅▅▆▇▇▇█</td></tr><tr><td>loss</td><td>█▅▄▃▂▂▂▂▁▁▁▁▁▁▁</td></tr><tr><td>accuracy</td><td>▁▃▅▆▇▇▇▇███████</td></tr><tr><td>_runtime</td><td>▁▁▁▁▁▂▂▂▂▂▃▃▃▃▃▃▄▄▄▄▄▅▅▅▅▅▆▆▆▆▆▆▇▇▇▇▇███</td></tr><tr><td>_timestamp</td><td>▁▁▁▁▁▂▂▂▂▂▃▃▃▃▃▃▄▄▄▄▄▅▅▅▅▅▆▆▆▆▆▆▇▇▇▇▇███</td></tr><tr><td>_step</td><td>▁▁▁▁▂▂▂▂▂▃▃▃▃▃▃▄▄▄▄▄▅▅▅▅▅▅▆▆▆▆▆▇▇▇▇▇▇███</td></tr><tr><td>epoch_accuracy</td><td>▁▄▄▄▅▅▄▅▄▅▅▅▆▆▆▇▇▇▇▇▇▇▇▇████████████████</td></tr><tr><td>val_accuracy</td><td>▁</td></tr></table><br/>"
            ],
            "text/plain": [
              "<IPython.core.display.HTML object>"
            ]
          },
          "metadata": {
            "tags": []
          }
        },
        {
          "output_type": "display_data",
          "data": {
            "text/html": [
              "Synced 5 W&B file(s), 1 media file(s), 2 artifact file(s) and 1 other file(s)"
            ],
            "text/plain": [
              "<IPython.core.display.HTML object>"
            ]
          },
          "metadata": {
            "tags": []
          }
        },
        {
          "output_type": "display_data",
          "data": {
            "text/html": [
              "\n",
              "                    <br/>Synced <strong style=\"color:#cdcd00\">bumbling-sweep-66</strong>: <a href=\"https://wandb.ai/cs6910assignment3/RNN/runs/bu6s2dki\" target=\"_blank\">https://wandb.ai/cs6910assignment3/RNN/runs/bu6s2dki</a><br/>\n",
              "                "
            ],
            "text/plain": [
              "<IPython.core.display.HTML object>"
            ]
          },
          "metadata": {
            "tags": []
          }
        },
        {
          "output_type": "stream",
          "text": [
            "\u001b[34m\u001b[1mwandb\u001b[0m: Agent Starting Run: vmgahrqo with config:\n",
            "\u001b[34m\u001b[1mwandb\u001b[0m: \tbatch_size: 128\n",
            "\u001b[34m\u001b[1mwandb\u001b[0m: \tbeam_width: 5\n",
            "\u001b[34m\u001b[1mwandb\u001b[0m: \tcell_type: LSTM\n",
            "\u001b[34m\u001b[1mwandb\u001b[0m: \tdec_search: greedy\n",
            "\u001b[34m\u001b[1mwandb\u001b[0m: \tdropout: 0.1\n",
            "\u001b[34m\u001b[1mwandb\u001b[0m: \thidden_size: 128\n",
            "\u001b[34m\u001b[1mwandb\u001b[0m: \tin_emb: 64\n",
            "\u001b[34m\u001b[1mwandb\u001b[0m: \tlearning_rate: 0.001\n",
            "\u001b[34m\u001b[1mwandb\u001b[0m: \tnum_dec: 2\n",
            "\u001b[34m\u001b[1mwandb\u001b[0m: \tnum_enc: 2\n"
          ],
          "name": "stderr"
        },
        {
          "output_type": "display_data",
          "data": {
            "text/html": [
              "\n",
              "                Tracking run with wandb version 0.10.30<br/>\n",
              "                Syncing run <strong style=\"color:#cdcd00\">woven-sweep-68</strong> to <a href=\"https://wandb.ai\" target=\"_blank\">Weights & Biases</a> <a href=\"https://docs.wandb.com/integrations/jupyter.html\" target=\"_blank\">(Documentation)</a>.<br/>\n",
              "                Project page: <a href=\"https://wandb.ai/cs6910assignment3/RNN\" target=\"_blank\">https://wandb.ai/cs6910assignment3/RNN</a><br/>\n",
              "                Sweep page: <a href=\"https://wandb.ai/cs6910assignment3/RNN/sweeps/auh90ups\" target=\"_blank\">https://wandb.ai/cs6910assignment3/RNN/sweeps/auh90ups</a><br/>\n",
              "Run page: <a href=\"https://wandb.ai/cs6910assignment3/RNN/runs/vmgahrqo\" target=\"_blank\">https://wandb.ai/cs6910assignment3/RNN/runs/vmgahrqo</a><br/>\n",
              "                Run data is saved locally in <code>/content/wandb/run-20210511_085154-vmgahrqo</code><br/><br/>\n",
              "            "
            ],
            "text/plain": [
              "<IPython.core.display.HTML object>"
            ]
          },
          "metadata": {
            "tags": []
          }
        },
        {
          "output_type": "stream",
          "text": [
            "Model: \"model\"\n",
            "__________________________________________________________________________________________________\n",
            "Layer (type)                    Output Shape         Param #     Connected to                     \n",
            "==================================================================================================\n",
            "Enc_inputs (InputLayer)         [(None, None)]       0                                            \n",
            "__________________________________________________________________________________________________\n",
            "Enc_emb (Embedding)             (None, None, 64)     1728        Enc_inputs[0][0]                 \n",
            "__________________________________________________________________________________________________\n",
            "Dec_inputs (InputLayer)         [(None, None)]       0                                            \n",
            "__________________________________________________________________________________________________\n",
            "Enc_hidden_1 (LSTM)             [(None, None, 128),  98816       Enc_emb[0][0]                    \n",
            "__________________________________________________________________________________________________\n",
            "Dec_emb (Embedding)             (None, None, 128)    6272        Dec_inputs[0][0]                 \n",
            "__________________________________________________________________________________________________\n",
            "Enc_hidden_2 (LSTM)             [(None, None, 128),  131584      Enc_hidden_1[0][0]               \n",
            "                                                                 Enc_hidden_1[0][1]               \n",
            "                                                                 Enc_hidden_1[0][2]               \n",
            "__________________________________________________________________________________________________\n",
            "Dec_hidden_1 (LSTM)             [(None, None, 128),  131584      Dec_emb[0][0]                    \n",
            "                                                                 Enc_hidden_2[0][1]               \n",
            "                                                                 Enc_hidden_2[0][2]               \n",
            "__________________________________________________________________________________________________\n",
            "Dec_hidden_2 (LSTM)             [(None, None, 128),  131584      Dec_hidden_1[0][0]               \n",
            "                                                                 Enc_hidden_2[0][1]               \n",
            "                                                                 Enc_hidden_2[0][2]               \n",
            "__________________________________________________________________________________________________\n",
            "dense (Dense)                   (None, None, 49)     6321        Dec_hidden_2[0][0]               \n",
            "==================================================================================================\n",
            "Total params: 507,889\n",
            "Trainable params: 507,889\n",
            "Non-trainable params: 0\n",
            "__________________________________________________________________________________________________\n",
            "Epoch 1/15\n",
            "533/533 [==============================] - 25s 21ms/step - loss: 0.9860 - accuracy: 0.2936\n",
            "Epoch 2/15\n",
            "533/533 [==============================] - 11s 21ms/step - loss: 0.5225 - accuracy: 0.6065\n",
            "Epoch 3/15\n",
            "533/533 [==============================] - 11s 21ms/step - loss: 0.3036 - accuracy: 0.7757\n",
            "Epoch 4/15\n",
            "533/533 [==============================] - 11s 21ms/step - loss: 0.2170 - accuracy: 0.8434\n",
            "Epoch 5/15\n",
            "533/533 [==============================] - 11s 20ms/step - loss: 0.1705 - accuracy: 0.8792\n",
            "Epoch 6/15\n",
            "533/533 [==============================] - 11s 20ms/step - loss: 0.1432 - accuracy: 0.8991\n",
            "Epoch 7/15\n",
            "533/533 [==============================] - 11s 20ms/step - loss: 0.1217 - accuracy: 0.9151\n",
            "Epoch 8/15\n",
            "533/533 [==============================] - 11s 20ms/step - loss: 0.1070 - accuracy: 0.9251\n",
            "Epoch 9/15\n",
            "533/533 [==============================] - 11s 20ms/step - loss: 0.0929 - accuracy: 0.9349\n",
            "Epoch 10/15\n",
            "533/533 [==============================] - 11s 20ms/step - loss: 0.0819 - accuracy: 0.9424\n",
            "Epoch 11/15\n",
            "533/533 [==============================] - 11s 20ms/step - loss: 0.0743 - accuracy: 0.9479\n",
            "Epoch 12/15\n",
            "533/533 [==============================] - 11s 20ms/step - loss: 0.0668 - accuracy: 0.9526\n",
            "Epoch 13/15\n",
            "533/533 [==============================] - 11s 20ms/step - loss: 0.0608 - accuracy: 0.9567\n",
            "Epoch 14/15\n",
            "533/533 [==============================] - 11s 20ms/step - loss: 0.0558 - accuracy: 0.9602\n",
            "Epoch 15/15\n",
            "533/533 [==============================] - 11s 20ms/step - loss: 0.0515 - accuracy: 0.9629\n"
          ],
          "name": "stdout"
        },
        {
          "output_type": "stream",
          "text": [
            "\u001b[34m\u001b[1mwandb\u001b[0m: Ctrl + C detected. Stopping sweep.\n"
          ],
          "name": "stderr"
        },
        {
          "output_type": "stream",
          "text": [
            "Error in callback <bound method _WandbInit._pause_backend of <wandb.sdk.wandb_init._WandbInit object at 0x7f1d7cfbf5d0>> (for post_run_cell):\n"
          ],
          "name": "stdout"
        },
        {
          "output_type": "error",
          "ename": "KeyboardInterrupt",
          "evalue": "ignored",
          "traceback": [
            "\u001b[0;31m---------------------------------------------------------------------------\u001b[0m",
            "\u001b[0;31mKeyboardInterrupt\u001b[0m                         Traceback (most recent call last)",
            "\u001b[0;32m/usr/local/lib/python3.7/dist-packages/wandb/sdk/wandb_init.py\u001b[0m in \u001b[0;36m_pause_backend\u001b[0;34m(self)\u001b[0m\n\u001b[1;32m    249\u001b[0m             \u001b[0mlogger\u001b[0m\u001b[0;34m.\u001b[0m\u001b[0minfo\u001b[0m\u001b[0;34m(\u001b[0m\u001b[0;34m\"pausing backend\"\u001b[0m\u001b[0;34m)\u001b[0m\u001b[0;34m\u001b[0m\u001b[0;34m\u001b[0m\u001b[0m\n\u001b[1;32m    250\u001b[0m             \u001b[0;31m# Attempt to save the code on every execution\u001b[0m\u001b[0;34m\u001b[0m\u001b[0;34m\u001b[0m\u001b[0;34m\u001b[0m\u001b[0m\n\u001b[0;32m--> 251\u001b[0;31m             \u001b[0;32mif\u001b[0m \u001b[0mself\u001b[0m\u001b[0;34m.\u001b[0m\u001b[0mnotebook\u001b[0m\u001b[0;34m.\u001b[0m\u001b[0msave_ipynb\u001b[0m\u001b[0;34m(\u001b[0m\u001b[0;34m)\u001b[0m\u001b[0;34m:\u001b[0m\u001b[0;34m\u001b[0m\u001b[0;34m\u001b[0m\u001b[0m\n\u001b[0m\u001b[1;32m    252\u001b[0m                 \u001b[0mres\u001b[0m \u001b[0;34m=\u001b[0m \u001b[0mself\u001b[0m\u001b[0;34m.\u001b[0m\u001b[0mrun\u001b[0m\u001b[0;34m.\u001b[0m\u001b[0mlog_code\u001b[0m\u001b[0;34m(\u001b[0m\u001b[0mroot\u001b[0m\u001b[0;34m=\u001b[0m\u001b[0;32mNone\u001b[0m\u001b[0;34m)\u001b[0m\u001b[0;34m\u001b[0m\u001b[0;34m\u001b[0m\u001b[0m\n\u001b[1;32m    253\u001b[0m                 \u001b[0mlogger\u001b[0m\u001b[0;34m.\u001b[0m\u001b[0minfo\u001b[0m\u001b[0;34m(\u001b[0m\u001b[0;34m\"saved code: %s\"\u001b[0m\u001b[0;34m,\u001b[0m \u001b[0mres\u001b[0m\u001b[0;34m)\u001b[0m\u001b[0;34m\u001b[0m\u001b[0;34m\u001b[0m\u001b[0m\n",
            "\u001b[0;32m/usr/local/lib/python3.7/dist-packages/wandb/jupyter.py\u001b[0m in \u001b[0;36msave_ipynb\u001b[0;34m(self)\u001b[0m\n\u001b[1;32m    278\u001b[0m \u001b[0;34m\u001b[0m\u001b[0m\n\u001b[1;32m    279\u001b[0m         \u001b[0;31m# TODO: likely only save if the code has changed\u001b[0m\u001b[0;34m\u001b[0m\u001b[0;34m\u001b[0m\u001b[0;34m\u001b[0m\u001b[0m\n\u001b[0;32m--> 280\u001b[0;31m         \u001b[0mcolab_ipynb\u001b[0m \u001b[0;34m=\u001b[0m \u001b[0mattempt_colab_load_ipynb\u001b[0m\u001b[0;34m(\u001b[0m\u001b[0;34m)\u001b[0m\u001b[0;34m\u001b[0m\u001b[0;34m\u001b[0m\u001b[0m\n\u001b[0m\u001b[1;32m    281\u001b[0m         \u001b[0;32mif\u001b[0m \u001b[0mcolab_ipynb\u001b[0m\u001b[0;34m:\u001b[0m\u001b[0;34m\u001b[0m\u001b[0;34m\u001b[0m\u001b[0m\n\u001b[1;32m    282\u001b[0m             with open(\n",
            "\u001b[0;32m/usr/local/lib/python3.7/dist-packages/wandb/jupyter.py\u001b[0m in \u001b[0;36mattempt_colab_load_ipynb\u001b[0;34m()\u001b[0m\n\u001b[1;32m    172\u001b[0m     \u001b[0;32mif\u001b[0m \u001b[0mcolab\u001b[0m\u001b[0;34m:\u001b[0m\u001b[0;34m\u001b[0m\u001b[0;34m\u001b[0m\u001b[0m\n\u001b[1;32m    173\u001b[0m         \u001b[0;31m# This isn't thread safe, never call in a thread\u001b[0m\u001b[0;34m\u001b[0m\u001b[0;34m\u001b[0m\u001b[0;34m\u001b[0m\u001b[0m\n\u001b[0;32m--> 174\u001b[0;31m         \u001b[0mresponse\u001b[0m \u001b[0;34m=\u001b[0m \u001b[0mcolab\u001b[0m\u001b[0;34m.\u001b[0m\u001b[0m_message\u001b[0m\u001b[0;34m.\u001b[0m\u001b[0mblocking_request\u001b[0m\u001b[0;34m(\u001b[0m\u001b[0;34m\"get_ipynb\"\u001b[0m\u001b[0;34m,\u001b[0m \u001b[0mtimeout_sec\u001b[0m\u001b[0;34m=\u001b[0m\u001b[0;36m5\u001b[0m\u001b[0;34m)\u001b[0m\u001b[0;34m\u001b[0m\u001b[0;34m\u001b[0m\u001b[0m\n\u001b[0m\u001b[1;32m    175\u001b[0m         \u001b[0;32mif\u001b[0m \u001b[0mresponse\u001b[0m\u001b[0;34m:\u001b[0m\u001b[0;34m\u001b[0m\u001b[0;34m\u001b[0m\u001b[0m\n\u001b[1;32m    176\u001b[0m             \u001b[0;32mreturn\u001b[0m \u001b[0mresponse\u001b[0m\u001b[0;34m[\u001b[0m\u001b[0;34m\"ipynb\"\u001b[0m\u001b[0;34m]\u001b[0m\u001b[0;34m\u001b[0m\u001b[0;34m\u001b[0m\u001b[0m\n",
            "\u001b[0;32m/usr/local/lib/python3.7/dist-packages/google/colab/_message.py\u001b[0m in \u001b[0;36mblocking_request\u001b[0;34m(request_type, request, timeout_sec, parent)\u001b[0m\n\u001b[1;32m    173\u001b[0m   request_id = send_request(\n\u001b[1;32m    174\u001b[0m       request_type, request, parent=parent, expect_reply=True)\n\u001b[0;32m--> 175\u001b[0;31m   \u001b[0;32mreturn\u001b[0m \u001b[0mread_reply_from_input\u001b[0m\u001b[0;34m(\u001b[0m\u001b[0mrequest_id\u001b[0m\u001b[0;34m,\u001b[0m \u001b[0mtimeout_sec\u001b[0m\u001b[0;34m)\u001b[0m\u001b[0;34m\u001b[0m\u001b[0;34m\u001b[0m\u001b[0m\n\u001b[0m",
            "\u001b[0;32m/usr/local/lib/python3.7/dist-packages/google/colab/_message.py\u001b[0m in \u001b[0;36mread_reply_from_input\u001b[0;34m(message_id, timeout_sec)\u001b[0m\n\u001b[1;32m     99\u001b[0m     \u001b[0mreply\u001b[0m \u001b[0;34m=\u001b[0m \u001b[0m_read_next_input_message\u001b[0m\u001b[0;34m(\u001b[0m\u001b[0;34m)\u001b[0m\u001b[0;34m\u001b[0m\u001b[0;34m\u001b[0m\u001b[0m\n\u001b[1;32m    100\u001b[0m     \u001b[0;32mif\u001b[0m \u001b[0mreply\u001b[0m \u001b[0;34m==\u001b[0m \u001b[0m_NOT_READY\u001b[0m \u001b[0;32mor\u001b[0m \u001b[0;32mnot\u001b[0m \u001b[0misinstance\u001b[0m\u001b[0;34m(\u001b[0m\u001b[0mreply\u001b[0m\u001b[0;34m,\u001b[0m \u001b[0mdict\u001b[0m\u001b[0;34m)\u001b[0m\u001b[0;34m:\u001b[0m\u001b[0;34m\u001b[0m\u001b[0;34m\u001b[0m\u001b[0m\n\u001b[0;32m--> 101\u001b[0;31m       \u001b[0mtime\u001b[0m\u001b[0;34m.\u001b[0m\u001b[0msleep\u001b[0m\u001b[0;34m(\u001b[0m\u001b[0;36m0.025\u001b[0m\u001b[0;34m)\u001b[0m\u001b[0;34m\u001b[0m\u001b[0;34m\u001b[0m\u001b[0m\n\u001b[0m\u001b[1;32m    102\u001b[0m       \u001b[0;32mcontinue\u001b[0m\u001b[0;34m\u001b[0m\u001b[0;34m\u001b[0m\u001b[0m\n\u001b[1;32m    103\u001b[0m     if (reply.get('type') == 'colab_reply' and\n",
            "\u001b[0;31mKeyboardInterrupt\u001b[0m: "
          ]
        }
      ]
    },
    {
      "cell_type": "code",
      "metadata": {
        "id": "HbLTlTkoAHES"
      },
      "source": [
        ""
      ],
      "execution_count": null,
      "outputs": []
    }
  ]
}