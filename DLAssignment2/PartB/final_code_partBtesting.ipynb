{
  "nbformat": 4,
  "nbformat_minor": 0,
  "metadata": {
    "colab": {
      "name": "final_code_partBtesting.ipynb",
      "provenance": [],
      "collapsed_sections": [],
      "machine_shape": "hm"
    },
    "kernelspec": {
      "name": "python3",
      "display_name": "Python 3"
    },
    "language_info": {
      "name": "python"
    },
    "accelerator": "GPU"
  },
  "cells": [
    {
      "cell_type": "code",
      "metadata": {
        "id": "CQvZAdL-taSH"
      },
      "source": [
        "# Essentials\n",
        "import numpy as np\n",
        "from matplotlib import pyplot\n",
        "import tensorflow\n",
        "from tensorflow import keras\n",
        "from keras import regularizers\n",
        "from keras.models import Sequential\n",
        "from keras.utils import np_utils\n",
        "from keras.optimizers import Adam\n",
        "from tensorflow.keras.preprocessing.image import ImageDataGenerator\n",
        "from keras.applications import InceptionV3, ResNet50, InceptionResNetV2, Xception\n",
        "from keras.layers import Dense, Flatten, Conv2D, BatchNormalization, Dropout, MaxPooling2D, Activation\n",
        "from keras.callbacks import  Callback, EarlyStopping\n",
        "import matplotlib.pyplot as plt\n",
        "from matplotlib import gridspec\n",
        "import random\n",
        "import imageio\n",
        "import os\n",
        "import cv2\n",
        "import glob\n",
        "random.seed(42)"
      ],
      "execution_count": 1,
      "outputs": []
    },
    {
      "cell_type": "code",
      "metadata": {
        "id": "fuU1ueXqtwWA",
        "colab": {
          "base_uri": "https://localhost:8080/"
        },
        "outputId": "548f2906-4498-4e5f-8b7d-7ecd4cb47370"
      },
      "source": [
        "%pip install wandb -q\n",
        "import wandb\n",
        "from wandb.keras import WandbCallback"
      ],
      "execution_count": 2,
      "outputs": [
        {
          "output_type": "stream",
          "text": [
            "\u001b[K     |████████████████████████████████| 2.1MB 2.9MB/s \n",
            "\u001b[K     |████████████████████████████████| 163kB 18.6MB/s \n",
            "\u001b[K     |████████████████████████████████| 133kB 16.2MB/s \n",
            "\u001b[K     |████████████████████████████████| 102kB 7.4MB/s \n",
            "\u001b[K     |████████████████████████████████| 71kB 6.8MB/s \n",
            "\u001b[?25h  Building wheel for pathtools (setup.py) ... \u001b[?25l\u001b[?25hdone\n",
            "  Building wheel for subprocess32 (setup.py) ... \u001b[?25l\u001b[?25hdone\n"
          ],
          "name": "stdout"
        }
      ]
    },
    {
      "cell_type": "code",
      "metadata": {
        "colab": {
          "base_uri": "https://localhost:8080/"
        },
        "id": "gqPhjQ2QtzoF",
        "outputId": "bf79e35c-6cb5-40fb-85ab-4059135fe311"
      },
      "source": [
        "# Fetch the dataset form Github\n",
        "!git clone https://github.com/borate267/inaturalist-dataset.git"
      ],
      "execution_count": 3,
      "outputs": [
        {
          "output_type": "stream",
          "text": [
            "Cloning into 'inaturalist-dataset'...\n",
            "remote: Enumerating objects: 12027, done.\u001b[K\n",
            "remote: Total 12027 (delta 0), reused 0 (delta 0), pack-reused 12027\u001b[K\n",
            "Receiving objects: 100% (12027/12027), 3.55 GiB | 26.81 MiB/s, done.\n",
            "Resolving deltas: 100% (3/3), done.\n",
            "Checking out files: 100% (11999/11999), done.\n"
          ],
          "name": "stdout"
        }
      ]
    },
    {
      "cell_type": "code",
      "metadata": {
        "id": "m5xj5QBFt7qV"
      },
      "source": [
        " # Load training and testing dataset\n",
        "\n",
        "def data_for_testing(data_aug, batch_size):\n",
        "  if data_aug:\n",
        "      datagen = ImageDataGenerator(\n",
        "                rotation_range=45, \n",
        "                width_shift_range=0.2, \n",
        "                height_shift_range=0.2,\n",
        "                shear_range=0.2,\n",
        "                zoom_range=0.2, \n",
        "                horizontal_flip=True, \n",
        "                fill_mode='reflect',\n",
        "                rescale=1./255\n",
        "                )\n",
        "  else:\n",
        "      datagen = ImageDataGenerator(rescale=1./255)\n",
        "\n",
        "  train_data = datagen.flow_from_directory(\n",
        "              directory='inaturalist-dataset/train',\n",
        "              target_size = (128,128),\n",
        "              batch_size=batch_size,\n",
        "              class_mode=\"categorical\",\n",
        "              shuffle=True,\n",
        "              seed=123)\n",
        "\n",
        "\n",
        "  test_data = datagen.flow_from_directory(\n",
        "            directory='inaturalist-dataset/val',\n",
        "            target_size=(128,128),\n",
        "            batch_size=batch_size,\n",
        "            class_mode=\"categorical\",\n",
        "            shuffle=True,\n",
        "            seed=1234)\n",
        "  return test_data, train_data"
      ],
      "execution_count": 4,
      "outputs": []
    },
    {
      "cell_type": "code",
      "metadata": {
        "id": "RV-8XoZu_yq5"
      },
      "source": [
        "def test():\n",
        "    freeze_before = 100\n",
        "    dropout = 0.2\n",
        "    batch_size = 64\n",
        "    num_dense = 512\n",
        "    num_classes = 10\n",
        "    input_shape = (128,128,3)\n",
        "    base_model =  InceptionResNetV2(input_shape = input_shape, include_top = False, weights = 'imagenet')\n",
        "\n",
        "    base_model.trainable = True\n",
        "\n",
        "    # Freeze layers\n",
        "    freeze_point = len(base_model.layers) - freeze_before\n",
        "    for layer in base_model.layers[:freeze_point]:\n",
        "        layer.trainable = False\n",
        "\n",
        "    stack_model = Sequential()\n",
        "    stack_model.add(base_model)\n",
        "    stack_model.add(Flatten())\n",
        "    stack_model.add(Dense(num_dense, activation='relu'))\n",
        "    stack_model.add(Dense(num_classes, activation='softmax'))\n",
        "\n",
        "    final_model = stack_model\n",
        "    final_model.compile(loss='categorical_crossentropy', optimizer = 'adam', metrics=['accuracy'])\n",
        "\n",
        "    train_data, test_data = data_for_testing('false', batch_size)\n",
        "\n",
        "    final_model.fit(train_data, epochs=100)\n",
        "    \n",
        "    final_model.evaluate(test_data, batch_size = 64)\n",
        "\n",
        "    final_model.save(\"model-best.h5\")\n",
        "\n",
        "\n"
      ],
      "execution_count": 7,
      "outputs": []
    },
    {
      "cell_type": "code",
      "metadata": {
        "id": "N41h7YqmBBTA"
      },
      "source": [
        "test()"
      ],
      "execution_count": null,
      "outputs": []
    }
  ]
}